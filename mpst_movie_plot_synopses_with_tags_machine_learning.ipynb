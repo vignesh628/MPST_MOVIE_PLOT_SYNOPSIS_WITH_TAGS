{
 "cells": [
  {
   "cell_type": "code",
   "execution_count": 0,
   "metadata": {
    "colab": {},
    "colab_type": "code",
    "id": "0S2QcL_1tpmm"
   },
   "outputs": [],
   "source": [
    "import pandas as pd\n",
    "import numpy as np\n",
    "import matplotlib.pyplot as plt\n",
    "import seaborn as sns\n",
    "from sklearn.feature_extraction.text import CountVectorizer\n",
    "from sklearn.feature_extraction.text import TfidfVectorizer\n",
    "from nltk.corpus import stopwords\n",
    "from sklearn.linear_model import LogisticRegression\n",
    "from sklearn.multiclass import OneVsRestClassifier\n",
    "from sklearn.metrics import log_loss\n",
    "from sklearn.metrics import f1_score,precision_score,recall_score\n",
    "from sklearn.naive_bayes import GaussianNB\n",
    "from nltk.stem.snowball import PorterStemmer"
   ]
  },
  {
   "cell_type": "code",
   "execution_count": 0,
   "metadata": {
    "colab": {},
    "colab_type": "code",
    "id": "02lXDfuZtpmt"
   },
   "outputs": [],
   "source": [
    "data=pd.read_csv('mpst_full_data.csv')"
   ]
  },
  {
   "cell_type": "code",
   "execution_count": 0,
   "metadata": {
    "colab": {},
    "colab_type": "code",
    "id": "cuBLlP0ytpm2",
    "outputId": "ff1fc4dc-a213-4861-9a23-58d23222ba18"
   },
   "outputs": [
    {
     "name": "stdout",
     "output_type": "stream",
     "text": [
      "(14828, 6)\n"
     ]
    }
   ],
   "source": [
    "print(data.shape)"
   ]
  },
  {
   "cell_type": "code",
   "execution_count": 0,
   "metadata": {
    "colab": {},
    "colab_type": "code",
    "id": "gbpwFxV3tpm9"
   },
   "outputs": [],
   "source": [
    "data['tags']=data['tags'].apply(lambda x: x.replace(' ',''))"
   ]
  },
  {
   "cell_type": "code",
   "execution_count": 0,
   "metadata": {
    "colab": {},
    "colab_type": "code",
    "id": "uhRHOpPLtpnD",
    "outputId": "d88f2420-2dfa-4e5b-d692-26a3284d4213"
   },
   "outputs": [
    {
     "data": {
      "text/plain": [
       "count      14828\n",
       "unique      5604\n",
       "top       murder\n",
       "freq        1004\n",
       "Name: tags, dtype: object"
      ]
     },
     "execution_count": 5,
     "metadata": {
      "tags": []
     },
     "output_type": "execute_result"
    }
   ],
   "source": [
    "data['tags'].describe()"
   ]
  },
  {
   "cell_type": "code",
   "execution_count": 0,
   "metadata": {
    "colab": {},
    "colab_type": "code",
    "id": "592zLovntpnO",
    "outputId": "a15d65d3-57ef-47cd-f5ca-c713fd2ca4a7"
   },
   "outputs": [
    {
     "data": {
      "text/html": [
       "<div>\n",
       "<style scoped>\n",
       "    .dataframe tbody tr th:only-of-type {\n",
       "        vertical-align: middle;\n",
       "    }\n",
       "\n",
       "    .dataframe tbody tr th {\n",
       "        vertical-align: top;\n",
       "    }\n",
       "\n",
       "    .dataframe thead th {\n",
       "        text-align: right;\n",
       "    }\n",
       "</style>\n",
       "<table border=\"1\" class=\"dataframe\">\n",
       "  <thead>\n",
       "    <tr style=\"text-align: right;\">\n",
       "      <th></th>\n",
       "      <th>imdb_id</th>\n",
       "      <th>title</th>\n",
       "      <th>plot_synopsis</th>\n",
       "      <th>tags</th>\n",
       "      <th>split</th>\n",
       "      <th>synopsis_source</th>\n",
       "    </tr>\n",
       "  </thead>\n",
       "  <tbody>\n",
       "    <tr>\n",
       "      <th>0</th>\n",
       "      <td>tt0057603</td>\n",
       "      <td>I tre volti della paura</td>\n",
       "      <td>Note: this synopsis is for the orginal Italian...</td>\n",
       "      <td>cult,horror,gothic,murder,atmospheric</td>\n",
       "      <td>train</td>\n",
       "      <td>imdb</td>\n",
       "    </tr>\n",
       "    <tr>\n",
       "      <th>1</th>\n",
       "      <td>tt1733125</td>\n",
       "      <td>Dungeons &amp; Dragons: The Book of Vile Darkness</td>\n",
       "      <td>Two thousand years ago, Nhagruul the Foul, a s...</td>\n",
       "      <td>violence</td>\n",
       "      <td>train</td>\n",
       "      <td>imdb</td>\n",
       "    </tr>\n",
       "    <tr>\n",
       "      <th>2</th>\n",
       "      <td>tt0033045</td>\n",
       "      <td>The Shop Around the Corner</td>\n",
       "      <td>Matuschek's, a gift store in Budapest, is the ...</td>\n",
       "      <td>romantic</td>\n",
       "      <td>test</td>\n",
       "      <td>imdb</td>\n",
       "    </tr>\n",
       "    <tr>\n",
       "      <th>3</th>\n",
       "      <td>tt0113862</td>\n",
       "      <td>Mr. Holland's Opus</td>\n",
       "      <td>Glenn Holland, not a morning person by anyone'...</td>\n",
       "      <td>inspiring,romantic,stupid,feel-good</td>\n",
       "      <td>train</td>\n",
       "      <td>imdb</td>\n",
       "    </tr>\n",
       "    <tr>\n",
       "      <th>4</th>\n",
       "      <td>tt0086250</td>\n",
       "      <td>Scarface</td>\n",
       "      <td>In May 1980, a Cuban man named Tony Montana (A...</td>\n",
       "      <td>cruelty,murder,dramatic,cult,violence,atmosphe...</td>\n",
       "      <td>val</td>\n",
       "      <td>imdb</td>\n",
       "    </tr>\n",
       "  </tbody>\n",
       "</table>\n",
       "</div>"
      ],
      "text/plain": [
       "     imdb_id                                          title  \\\n",
       "0  tt0057603                        I tre volti della paura   \n",
       "1  tt1733125  Dungeons & Dragons: The Book of Vile Darkness   \n",
       "2  tt0033045                     The Shop Around the Corner   \n",
       "3  tt0113862                             Mr. Holland's Opus   \n",
       "4  tt0086250                                       Scarface   \n",
       "\n",
       "                                       plot_synopsis  \\\n",
       "0  Note: this synopsis is for the orginal Italian...   \n",
       "1  Two thousand years ago, Nhagruul the Foul, a s...   \n",
       "2  Matuschek's, a gift store in Budapest, is the ...   \n",
       "3  Glenn Holland, not a morning person by anyone'...   \n",
       "4  In May 1980, a Cuban man named Tony Montana (A...   \n",
       "\n",
       "                                                tags  split synopsis_source  \n",
       "0              cult,horror,gothic,murder,atmospheric  train            imdb  \n",
       "1                                           violence  train            imdb  \n",
       "2                                           romantic   test            imdb  \n",
       "3                inspiring,romantic,stupid,feel-good  train            imdb  \n",
       "4  cruelty,murder,dramatic,cult,violence,atmosphe...    val            imdb  "
      ]
     },
     "execution_count": 6,
     "metadata": {
      "tags": []
     },
     "output_type": "execute_result"
    }
   ],
   "source": [
    "data.head(5)"
   ]
  },
  {
   "cell_type": "code",
   "execution_count": 0,
   "metadata": {
    "colab": {},
    "colab_type": "code",
    "id": "6swzciXitpnd",
    "outputId": "4c63f731-a4af-49f1-e18c-6e983d682e83"
   },
   "outputs": [
    {
     "data": {
      "text/plain": [
       "'Dungeons & Dragons: The Book of Vile Darkness'"
      ]
     },
     "execution_count": 7,
     "metadata": {
      "tags": []
     },
     "output_type": "execute_result"
    }
   ],
   "source": [
    "data['plot_synopsis'][1]\n",
    "data['title'][1]"
   ]
  },
  {
   "cell_type": "code",
   "execution_count": 0,
   "metadata": {
    "colab": {},
    "colab_type": "code",
    "id": "cYtNVr6_tpnl",
    "outputId": "44980200-8e83-405a-9784-9e329e29d466"
   },
   "outputs": [
    {
     "name": "stdout",
     "output_type": "stream",
     "text": [
      "train    9489\n",
      "test     2966\n",
      "val      2373\n",
      "Name: split, dtype: int64\n",
      "<class 'pandas.core.series.Series'>\n"
     ]
    }
   ],
   "source": [
    "plot1=data['split'].value_counts()\n",
    "print(plot1)\n",
    "print(type(plot1))"
   ]
  },
  {
   "cell_type": "code",
   "execution_count": 0,
   "metadata": {
    "colab": {},
    "colab_type": "code",
    "id": "wRN7ZUODtpns",
    "outputId": "9b286d7b-8578-4b9f-c898-e12bfb786783"
   },
   "outputs": [
    {
     "data": {
      "image/png": "[encoded data removed]",
      "text/plain": [
       "<matplotlib.figure.Figure at 0x26b9c6de240>"
      ]
     },
     "metadata": {
      "needs_background": "light",
      "tags": []
     },
     "output_type": "display_data"
    }
   ],
   "source": [
    "fig,ax=plt.subplots()\n",
    "sns.barplot(x=plot1.index,y=plot1.values)\n",
    "plt.xlabel('datatype')\n",
    "plt.ylabel('datacount')\n",
    "plt.show()"
   ]
  },
  {
   "cell_type": "code",
   "execution_count": 0,
   "metadata": {
    "colab": {},
    "colab_type": "code",
    "id": "skF2BXQ_tpnx",
    "outputId": "9b3d10d3-6f56-4278-8c50-5c7990104a9d"
   },
   "outputs": [
    {
     "name": "stdout",
     "output_type": "stream",
     "text": [
      "wikipedia    10656\n",
      "imdb          4172\n",
      "Name: synopsis_source, dtype: int64\n"
     ]
    }
   ],
   "source": [
    "plot2=data['synopsis_source'].value_counts()\n",
    "print(plot2)"
   ]
  },
  {
   "cell_type": "code",
   "execution_count": 0,
   "metadata": {
    "colab": {},
    "colab_type": "code",
    "id": "wYjTSpNOtpn4",
    "outputId": "627de587-1c78-4f06-add4-f5d98ab5d73f"
   },
   "outputs": [
    {
     "data": {
      "image/png": "[encoded data removed]",
      "text/plain": [
       "<matplotlib.figure.Figure at 0x26b9c861550>"
      ]
     },
     "metadata": {
      "needs_background": "light",
      "tags": []
     },
     "output_type": "display_data"
    }
   ],
   "source": [
    "sns.barplot(x=plot2.index,y=plot2.values)\n",
    "plt.xlabel('source')\n",
    "plt.ylabel('count')\n",
    "plt.show()"
   ]
  },
  {
   "cell_type": "code",
   "execution_count": 0,
   "metadata": {
    "colab": {},
    "colab_type": "code",
    "id": "oUplPKsetpn9",
    "outputId": "2470aa01-caa4-4268-ba8e-bafdccdc33ac"
   },
   "outputs": [
    {
     "data": {
      "text/html": [
       "<div>\n",
       "<style scoped>\n",
       "    .dataframe tbody tr th:only-of-type {\n",
       "        vertical-align: middle;\n",
       "    }\n",
       "\n",
       "    .dataframe tbody tr th {\n",
       "        vertical-align: top;\n",
       "    }\n",
       "\n",
       "    .dataframe thead th {\n",
       "        text-align: right;\n",
       "    }\n",
       "</style>\n",
       "<table border=\"1\" class=\"dataframe\">\n",
       "  <thead>\n",
       "    <tr style=\"text-align: right;\">\n",
       "      <th></th>\n",
       "      <th>imdb_id</th>\n",
       "      <th>title</th>\n",
       "      <th>plot_synopsis</th>\n",
       "      <th>tags</th>\n",
       "      <th>split</th>\n",
       "      <th>synopsis_source</th>\n",
       "      <th>number_of_tags</th>\n",
       "    </tr>\n",
       "  </thead>\n",
       "  <tbody>\n",
       "    <tr>\n",
       "      <th>0</th>\n",
       "      <td>tt0057603</td>\n",
       "      <td>I tre volti della paura</td>\n",
       "      <td>Note: this synopsis is for the orginal Italian...</td>\n",
       "      <td>cult,horror,gothic,murder,atmospheric</td>\n",
       "      <td>train</td>\n",
       "      <td>imdb</td>\n",
       "      <td>5</td>\n",
       "    </tr>\n",
       "    <tr>\n",
       "      <th>1</th>\n",
       "      <td>tt1733125</td>\n",
       "      <td>Dungeons &amp; Dragons: The Book of Vile Darkness</td>\n",
       "      <td>Two thousand years ago, Nhagruul the Foul, a s...</td>\n",
       "      <td>violence</td>\n",
       "      <td>train</td>\n",
       "      <td>imdb</td>\n",
       "      <td>1</td>\n",
       "    </tr>\n",
       "    <tr>\n",
       "      <th>2</th>\n",
       "      <td>tt0033045</td>\n",
       "      <td>The Shop Around the Corner</td>\n",
       "      <td>Matuschek's, a gift store in Budapest, is the ...</td>\n",
       "      <td>romantic</td>\n",
       "      <td>test</td>\n",
       "      <td>imdb</td>\n",
       "      <td>1</td>\n",
       "    </tr>\n",
       "    <tr>\n",
       "      <th>3</th>\n",
       "      <td>tt0113862</td>\n",
       "      <td>Mr. Holland's Opus</td>\n",
       "      <td>Glenn Holland, not a morning person by anyone'...</td>\n",
       "      <td>inspiring,romantic,stupid,feel-good</td>\n",
       "      <td>train</td>\n",
       "      <td>imdb</td>\n",
       "      <td>4</td>\n",
       "    </tr>\n",
       "    <tr>\n",
       "      <th>4</th>\n",
       "      <td>tt0086250</td>\n",
       "      <td>Scarface</td>\n",
       "      <td>In May 1980, a Cuban man named Tony Montana (A...</td>\n",
       "      <td>cruelty,murder,dramatic,cult,violence,atmosphe...</td>\n",
       "      <td>val</td>\n",
       "      <td>imdb</td>\n",
       "      <td>10</td>\n",
       "    </tr>\n",
       "  </tbody>\n",
       "</table>\n",
       "</div>"
      ],
      "text/plain": [
       "     imdb_id                                          title  \\\n",
       "0  tt0057603                        I tre volti della paura   \n",
       "1  tt1733125  Dungeons & Dragons: The Book of Vile Darkness   \n",
       "2  tt0033045                     The Shop Around the Corner   \n",
       "3  tt0113862                             Mr. Holland's Opus   \n",
       "4  tt0086250                                       Scarface   \n",
       "\n",
       "                                       plot_synopsis  \\\n",
       "0  Note: this synopsis is for the orginal Italian...   \n",
       "1  Two thousand years ago, Nhagruul the Foul, a s...   \n",
       "2  Matuschek's, a gift store in Budapest, is the ...   \n",
       "3  Glenn Holland, not a morning person by anyone'...   \n",
       "4  In May 1980, a Cuban man named Tony Montana (A...   \n",
       "\n",
       "                                                tags  split synopsis_source  \\\n",
       "0              cult,horror,gothic,murder,atmospheric  train            imdb   \n",
       "1                                           violence  train            imdb   \n",
       "2                                           romantic   test            imdb   \n",
       "3                inspiring,romantic,stupid,feel-good  train            imdb   \n",
       "4  cruelty,murder,dramatic,cult,violence,atmosphe...    val            imdb   \n",
       "\n",
       "   number_of_tags  \n",
       "0               5  \n",
       "1               1  \n",
       "2               1  \n",
       "3               4  \n",
       "4              10  "
      ]
     },
     "execution_count": 12,
     "metadata": {
      "tags": []
     },
     "output_type": "execute_result"
    }
   ],
   "source": [
    "data['number_of_tags']=data['tags'].apply(lambda x : len(x.split(',')))\n",
    "data.head(5)"
   ]
  },
  {
   "cell_type": "code",
   "execution_count": 0,
   "metadata": {
    "colab": {},
    "colab_type": "code",
    "id": "YzJKeZBztpoC"
   },
   "outputs": [],
   "source": [
    "data['moviedata']=data['title']+' '+data['plot_synopsis']"
   ]
  },
  {
   "cell_type": "code",
   "execution_count": 0,
   "metadata": {
    "colab": {},
    "colab_type": "code",
    "id": "_Xrv8pDQtpoI"
   },
   "outputs": [],
   "source": [
    "data=data.drop_duplicates(subset={'plot_synopsis','title'},keep='first')"
   ]
  },
  {
   "cell_type": "code",
   "execution_count": 0,
   "metadata": {
    "colab": {},
    "colab_type": "code",
    "id": "zrQno6RytpoP",
    "outputId": "daee9c4e-22f8-4928-b3bd-d5ef4f38991f"
   },
   "outputs": [
    {
     "data": {
      "text/html": [
       "<div>\n",
       "<style scoped>\n",
       "    .dataframe tbody tr th:only-of-type {\n",
       "        vertical-align: middle;\n",
       "    }\n",
       "\n",
       "    .dataframe tbody tr th {\n",
       "        vertical-align: top;\n",
       "    }\n",
       "\n",
       "    .dataframe thead th {\n",
       "        text-align: right;\n",
       "    }\n",
       "</style>\n",
       "<table border=\"1\" class=\"dataframe\">\n",
       "  <thead>\n",
       "    <tr style=\"text-align: right;\">\n",
       "      <th></th>\n",
       "      <th>imdb_id</th>\n",
       "      <th>title</th>\n",
       "      <th>plot_synopsis</th>\n",
       "      <th>tags</th>\n",
       "      <th>split</th>\n",
       "      <th>synopsis_source</th>\n",
       "      <th>number_of_tags</th>\n",
       "      <th>moviedata</th>\n",
       "    </tr>\n",
       "  </thead>\n",
       "  <tbody>\n",
       "    <tr>\n",
       "      <th>0</th>\n",
       "      <td>tt0057603</td>\n",
       "      <td>I tre volti della paura</td>\n",
       "      <td>Note: this synopsis is for the orginal Italian...</td>\n",
       "      <td>cult,horror,gothic,murder,atmospheric</td>\n",
       "      <td>train</td>\n",
       "      <td>imdb</td>\n",
       "      <td>5</td>\n",
       "      <td>I tre volti della paura Note: this synopsis is...</td>\n",
       "    </tr>\n",
       "    <tr>\n",
       "      <th>1</th>\n",
       "      <td>tt1733125</td>\n",
       "      <td>Dungeons &amp; Dragons: The Book of Vile Darkness</td>\n",
       "      <td>Two thousand years ago, Nhagruul the Foul, a s...</td>\n",
       "      <td>violence</td>\n",
       "      <td>train</td>\n",
       "      <td>imdb</td>\n",
       "      <td>1</td>\n",
       "      <td>Dungeons &amp; Dragons: The Book of Vile Darkness ...</td>\n",
       "    </tr>\n",
       "    <tr>\n",
       "      <th>2</th>\n",
       "      <td>tt0033045</td>\n",
       "      <td>The Shop Around the Corner</td>\n",
       "      <td>Matuschek's, a gift store in Budapest, is the ...</td>\n",
       "      <td>romantic</td>\n",
       "      <td>test</td>\n",
       "      <td>imdb</td>\n",
       "      <td>1</td>\n",
       "      <td>The Shop Around the Corner Matuschek's, a gift...</td>\n",
       "    </tr>\n",
       "    <tr>\n",
       "      <th>3</th>\n",
       "      <td>tt0113862</td>\n",
       "      <td>Mr. Holland's Opus</td>\n",
       "      <td>Glenn Holland, not a morning person by anyone'...</td>\n",
       "      <td>inspiring,romantic,stupid,feel-good</td>\n",
       "      <td>train</td>\n",
       "      <td>imdb</td>\n",
       "      <td>4</td>\n",
       "      <td>Mr. Holland's Opus Glenn Holland, not a mornin...</td>\n",
       "    </tr>\n",
       "    <tr>\n",
       "      <th>4</th>\n",
       "      <td>tt0086250</td>\n",
       "      <td>Scarface</td>\n",
       "      <td>In May 1980, a Cuban man named Tony Montana (A...</td>\n",
       "      <td>cruelty,murder,dramatic,cult,violence,atmosphe...</td>\n",
       "      <td>val</td>\n",
       "      <td>imdb</td>\n",
       "      <td>10</td>\n",
       "      <td>Scarface In May 1980, a Cuban man named Tony M...</td>\n",
       "    </tr>\n",
       "  </tbody>\n",
       "</table>\n",
       "</div>"
      ],
      "text/plain": [
       "     imdb_id                                          title  \\\n",
       "0  tt0057603                        I tre volti della paura   \n",
       "1  tt1733125  Dungeons & Dragons: The Book of Vile Darkness   \n",
       "2  tt0033045                     The Shop Around the Corner   \n",
       "3  tt0113862                             Mr. Holland's Opus   \n",
       "4  tt0086250                                       Scarface   \n",
       "\n",
       "                                       plot_synopsis  \\\n",
       "0  Note: this synopsis is for the orginal Italian...   \n",
       "1  Two thousand years ago, Nhagruul the Foul, a s...   \n",
       "2  Matuschek's, a gift store in Budapest, is the ...   \n",
       "3  Glenn Holland, not a morning person by anyone'...   \n",
       "4  In May 1980, a Cuban man named Tony Montana (A...   \n",
       "\n",
       "                                                tags  split synopsis_source  \\\n",
       "0              cult,horror,gothic,murder,atmospheric  train            imdb   \n",
       "1                                           violence  train            imdb   \n",
       "2                                           romantic   test            imdb   \n",
       "3                inspiring,romantic,stupid,feel-good  train            imdb   \n",
       "4  cruelty,murder,dramatic,cult,violence,atmosphe...    val            imdb   \n",
       "\n",
       "   number_of_tags                                          moviedata  \n",
       "0               5  I tre volti della paura Note: this synopsis is...  \n",
       "1               1  Dungeons & Dragons: The Book of Vile Darkness ...  \n",
       "2               1  The Shop Around the Corner Matuschek's, a gift...  \n",
       "3               4  Mr. Holland's Opus Glenn Holland, not a mornin...  \n",
       "4              10  Scarface In May 1980, a Cuban man named Tony M...  "
      ]
     },
     "execution_count": 15,
     "metadata": {
      "tags": []
     },
     "output_type": "execute_result"
    }
   ],
   "source": [
    "data.head(5)"
   ]
  },
  {
   "cell_type": "code",
   "execution_count": 0,
   "metadata": {
    "colab": {},
    "colab_type": "code",
    "id": "T_sTXZSntpoV",
    "outputId": "5cebf601-2c1a-4f7f-fe03-342ab2d088d6"
   },
   "outputs": [
    {
     "data": {
      "text/plain": [
       "(14177, 8)"
      ]
     },
     "execution_count": 16,
     "metadata": {
      "tags": []
     },
     "output_type": "execute_result"
    }
   ],
   "source": [
    "data.shape"
   ]
  },
  {
   "cell_type": "code",
   "execution_count": 0,
   "metadata": {
    "colab": {},
    "colab_type": "code",
    "id": "EyE83NUYtpoZ",
    "outputId": "a6b180db-2908-4f38-c0cf-39ac45350450"
   },
   "outputs": [
    {
     "data": {
      "text/plain": [
       "<matplotlib.axes._subplots.AxesSubplot at 0x26b9c90d860>"
      ]
     },
     "execution_count": 17,
     "metadata": {
      "tags": []
     },
     "output_type": "execute_result"
    },
    {
     "data": {
      "image/png": "[encoded data removed]",
      "text/plain": [
       "<matplotlib.figure.Figure at 0x26b9c84d7f0>"
      ]
     },
     "metadata": {
      "needs_background": "light",
      "tags": []
     },
     "output_type": "display_data"
    }
   ],
   "source": [
    "sns.countplot(data['number_of_tags'])"
   ]
  },
  {
   "cell_type": "code",
   "execution_count": 0,
   "metadata": {
    "colab": {},
    "colab_type": "code",
    "id": "9_XGZnJ8tpoc"
   },
   "outputs": [],
   "source": [
    "#number of times each tag appeared\n",
    "countvect=CountVectorizer(tokenizer=lambda x:x.split(','))\n",
    "counts=countvect.fit_transform(data['tags'])"
   ]
  },
  {
   "cell_type": "code",
   "execution_count": 0,
   "metadata": {
    "colab": {},
    "colab_type": "code",
    "id": "ExBhON9Ftpof"
   },
   "outputs": [],
   "source": [
    "counts1=counts.sum(axis=0).A1\n",
    "#print(counts1)\n",
    "#print(countvect.get_feature_names())\n",
    "features=countvect.get_feature_names()\n",
    "aq=counts1.argsort()[::-1]\n",
    "#print(aq)\n",
    "tags=[features[i] for i in aq]\n",
    "#print(tags)\n",
    "counts=sorted(counts1)[::-1]"
   ]
  },
  {
   "cell_type": "code",
   "execution_count": 0,
   "metadata": {
    "colab": {},
    "colab_type": "code",
    "id": "r8gIqACGtpoi",
    "outputId": "184a257c-f500-4856-aa9f-cb809844520a"
   },
   "outputs": [
    {
     "name": "stdout",
     "output_type": "stream",
     "text": [
      "71\n"
     ]
    }
   ],
   "source": [
    "#number of unique features\n",
    "print(len(set(features)))"
   ]
  },
  {
   "cell_type": "code",
   "execution_count": 0,
   "metadata": {
    "colab": {},
    "colab_type": "code",
    "id": "3Ay9DKfBtpom",
    "outputId": "088c12b5-0526-4035-e5fb-b7b7ec7064e7"
   },
   "outputs": [
    {
     "data": {
      "text/plain": [
       "(array([   0., 1000., 2000., 3000., 4000., 5000., 6000.]),\n",
       " <a list of 7 Text yticklabel objects>)"
      ]
     },
     "execution_count": 21,
     "metadata": {
      "tags": []
     },
     "output_type": "execute_result"
    },
    {
     "data": {
      "image/png": "[encoded data removed]",
      "text/plain": [
       "<matplotlib.figure.Figure at 0x26b9c8f6400>"
      ]
     },
     "metadata": {
      "needs_background": "light",
      "tags": []
     },
     "output_type": "display_data"
    }
   ],
   "source": [
    "%matplotlib inline\n",
    "fig=plt.figure(figsize=(110,40))\n",
    "sns.barplot(tags,counts)\n",
    "plt.xticks(rotation=90,fontsize=40)\n",
    "plt.yticks(fontsize=40)"
   ]
  },
  {
   "cell_type": "code",
   "execution_count": 0,
   "metadata": {
    "colab": {},
    "colab_type": "code",
    "id": "tnrUi5OOtpoq",
    "outputId": "5c298919-a255-4dfb-b04b-027c4dd7d04f"
   },
   "outputs": [
    {
     "data": {
      "text/plain": [
       "[<matplotlib.lines.Line2D at 0x26b9ceb7320>]"
      ]
     },
     "execution_count": 22,
     "metadata": {
      "tags": []
     },
     "output_type": "execute_result"
    },
    {
     "data": {
      "image/png": "[encoded data removed]",
      "text/plain": [
       "<matplotlib.figure.Figure at 0x26b9cacb9e8>"
      ]
     },
     "metadata": {
      "needs_background": "light",
      "tags": []
     },
     "output_type": "display_data"
    }
   ],
   "source": [
    "plt.plot(counts)"
   ]
  },
  {
   "cell_type": "code",
   "execution_count": 0,
   "metadata": {
    "colab": {},
    "colab_type": "code",
    "id": "IYYqkH7Mtpos",
    "outputId": "7e62fbd4-8f26-4e9d-b3f7-125ceb4ef3d6"
   },
   "outputs": [
    {
     "data": {
      "text/plain": [
       "(array([   0., 1000., 2000., 3000., 4000., 5000.]),\n",
       " <a list of 6 Text yticklabel objects>)"
      ]
     },
     "execution_count": 11,
     "metadata": {
      "tags": []
     },
     "output_type": "execute_result"
    },
    {
     "data": {
      "image/png": "[encoded data removed]",
      "text/plain": [
       "<matplotlib.figure.Figure at 0x23802225438>"
      ]
     },
     "metadata": {
      "needs_background": "light",
      "tags": []
     },
     "output_type": "display_data"
    }
   ],
   "source": [
    "%matplotlib inline\n",
    "fig=plt.figure(figsize=(110,40))\n",
    "sns.barplot(tags[:20],counts[:20])\n",
    "plt.xticks(rotation=90,fontsize=40)\n",
    "plt.yticks(fontsize=40)"
   ]
  },
  {
   "cell_type": "code",
   "execution_count": 0,
   "metadata": {
    "colab": {},
    "colab_type": "code",
    "id": "63LbgAZ-tpow",
    "outputId": "e12b5408-cd04-430d-e13a-58785675ae70"
   },
   "outputs": [
    {
     "data": {
      "text/plain": [
       "[<matplotlib.lines.Line2D at 0x26b9cf4e358>]"
      ]
     },
     "execution_count": 23,
     "metadata": {
      "tags": []
     },
     "output_type": "execute_result"
    },
    {
     "data": {
      "image/png": "[encoded data removed]",
      "text/plain": [
       "<matplotlib.figure.Figure at 0x26b9cee6400>"
      ]
     },
     "metadata": {
      "needs_background": "light",
      "tags": []
     },
     "output_type": "display_data"
    }
   ],
   "source": [
    "plt.plot(counts[:25])"
   ]
  },
  {
   "cell_type": "code",
   "execution_count": 0,
   "metadata": {
    "colab": {},
    "colab_type": "code",
    "id": "K9sDcuaatpo0",
    "outputId": "5f232220-f218-4f75-fd17-abe58b3d3e55"
   },
   "outputs": [
    {
     "data": {
      "text/plain": [
       "<matplotlib.axes._subplots.AxesSubplot at 0x26b9cedb9e8>"
      ]
     },
     "execution_count": 24,
     "metadata": {
      "tags": []
     },
     "output_type": "execute_result"
    },
    {
     "data": {
      "image/png": "[encoded data removed]",
      "text/plain": [
       "<matplotlib.figure.Figure at 0x26b9cf09208>"
      ]
     },
     "metadata": {
      "needs_background": "light",
      "tags": []
     },
     "output_type": "display_data"
    }
   ],
   "source": [
    "sns.boxplot(data['number_of_tags'])"
   ]
  },
  {
   "cell_type": "code",
   "execution_count": 0,
   "metadata": {
    "colab": {},
    "colab_type": "code",
    "id": "dwlnvZWdtpo4",
    "outputId": "70ba2126-04c8-4970-ba60-d91b8d9ebf11"
   },
   "outputs": [
    {
     "data": {
      "text/plain": [
       "<matplotlib.axes._subplots.AxesSubplot at 0x26b9cd34668>"
      ]
     },
     "execution_count": 25,
     "metadata": {
      "tags": []
     },
     "output_type": "execute_result"
    },
    {
     "data": {
      "image/png": "[encoded data removed]",
      "text/plain": [
       "<matplotlib.figure.Figure at 0x26b9cd03668>"
      ]
     },
     "metadata": {
      "needs_background": "light",
      "tags": []
     },
     "output_type": "display_data"
    }
   ],
   "source": [
    "#very few numbr of questions are containing 25 tags.\n",
    "sns.violinplot(data['number_of_tags'])"
   ]
  },
  {
   "cell_type": "code",
   "execution_count": 0,
   "metadata": {
    "colab": {},
    "colab_type": "code",
    "id": "8M3Z5Y5btpo8"
   },
   "outputs": [],
   "source": [
    "import re\n",
    "def decontracted(phrase):\n",
    "    phrase = re.sub(r\"won't\", \"will not\", phrase)\n",
    "    phrase = re.sub(r\"can\\'t\", \"can not\", phrase)\n",
    "    phrase = re.sub(r\"n\\'t\", \" not\", phrase)\n",
    "    phrase = re.sub(r\"\\'re\", \" are\", phrase)\n",
    "    phrase = re.sub(r\"\\'s\", \" is\", phrase)\n",
    "    phrase = re.sub(r\"\\'d\", \" would\", phrase)\n",
    "    phrase = re.sub(r\"\\'ll\", \" will\", phrase)\n",
    "    return phrase"
   ]
  },
  {
   "cell_type": "code",
   "execution_count": 0,
   "metadata": {
    "colab": {},
    "colab_type": "code",
    "id": "QRrdca-XtppA"
   },
   "outputs": [],
   "source": [
    "stopwords= set(['br', 'the', 'i', 'me', 'my', 'myself', 'we', 'our', 'ours', 'ourselves', 'you', \"you're\", \"you've\",\\\n",
    "            \"you'll\", \"you'd\", 'your', 'yours', 'yourself', 'yourselves', 'he', 'him', 'his', 'himself', \\\n",
    "            'she', \"she's\", 'her', 'hers', 'herself', 'it', \"it's\", 'its', 'itself', 'they', 'them', 'their',\\\n",
    "            'theirs', 'themselves', 'what', 'which', 'who', 'whom', 'this', 'that', \"that'll\", 'these', 'those', \\\n",
    "            'am', 'is', 'are', 'was', 'were', 'be', 'been', 'being', 'have', 'has', 'had', 'having', 'do', 'does', \\\n",
    "            'did', 'doing', 'a', 'an', 'the', 'and', 'but', 'if', 'or', 'because', 'as', 'until', 'while', 'of', \\\n",
    "            'at', 'by', 'for', 'with', 'about', 'against', 'between', 'into', 'through', 'during', 'before', 'after',\\\n",
    "            'above', 'below', 'to', 'from', 'up', 'down', 'in', 'out', 'on', 'off', 'over', 'under', 'again', 'further',\\\n",
    "            'then', 'once', 'here', 'there', 'when', 'where', 'why', 'how', 'all', 'any', 'both', 'each', 'few', 'more',\\\n",
    "            'most', 'other', 'some', 'such', 'only', 'own', 'same', 'so', 'than', 'too', 'very', \\\n",
    "            's', 't', 'can', 'will', 'just', 'don', \"don't\", 'should', \"should've\", 'now', 'd', 'll', 'm', 'o', 're', \\\n",
    "            've', 'y', 'ain', 'aren', \"aren't\", 'couldn', \"couldn't\", 'didn', \"didn't\", 'doesn', \"doesn't\", 'hadn',\\\n",
    "            \"hadn't\", 'hasn', \"hasn't\", 'haven','not','no', \"haven't\", 'isn', \"isn't\", 'ma', 'mightn', \"mightn't\", 'mustn',\\\n",
    "            \"mustn't\", 'needn', \"needn't\", 'shan', \"shan't\", 'shouldn', \"shouldn't\", 'wasn', \"wasn't\", 'weren', \"weren't\", \\\n",
    "            'won', \"won't\", 'wouldn', \"wouldn't\"])"
   ]
  },
  {
   "cell_type": "code",
   "execution_count": 0,
   "metadata": {
    "colab": {},
    "colab_type": "code",
    "id": "iwdiIuEVtppF",
    "outputId": "ce6185b0-3ef8-4bf5-be86-11df8a68624e"
   },
   "outputs": [
    {
     "name": "stderr",
     "output_type": "stream",
     "text": [
      "100%|███████████████████████████████████████████████████████████████████████████| 14177/14177 [00:53<00:00, 265.21it/s]\n"
     ]
    }
   ],
   "source": [
    "# Combining all the above stundents \n",
    "from bs4 import BeautifulSoup\n",
    "plotsentences=[]\n",
    "from tqdm import tqdm\n",
    "synopsissentences = []\n",
    "# tqdm is for printing the status bar\n",
    "for sentance in tqdm(data['plot_synopsis'].values):\n",
    "    sentance = re.sub(r\"http\\S+\", \"\", sentance)\n",
    "    sentance = BeautifulSoup(sentance, 'lxml').get_text()\n",
    "    sentance = decontracted(sentance)\n",
    "    sentance = re.sub(\"\\S*\\d\\S*\", \"\", sentance).strip()\n",
    "    sentance = re.sub('[^A-Za-z]+', ' ', sentance)\n",
    "    # https://gist.github.com/sebleier/554280\n",
    "    sentance = ' '.join(e.lower() for e in sentance.split() if e.lower() not in stopwords)\n",
    "    plotsentences.append(sentance.strip())"
   ]
  },
  {
   "cell_type": "code",
   "execution_count": 0,
   "metadata": {
    "colab": {},
    "colab_type": "code",
    "id": "Ex4GhJqbtppK"
   },
   "outputs": [],
   "source": [
    "data['plot_synopsis']=plotsentences"
   ]
  },
  {
   "cell_type": "code",
   "execution_count": 0,
   "metadata": {
    "colab": {},
    "colab_type": "code",
    "id": "YjhsGPUltppN",
    "outputId": "29ec04cf-8acd-406f-e5c4-bacbbf6ab06b"
   },
   "outputs": [
    {
     "data": {
      "text/plain": [
       "0    note synopsis orginal italian release segments...\n",
       "1    two thousand years ago nhagruul foul sorcerer ...\n",
       "2    matuschek gift store budapest workplace alfred...\n",
       "3    glenn holland morning person anyone standards ...\n",
       "4    may cuban man named tony montana al pacino cla...\n",
       "Name: plot_synopsis, dtype: object"
      ]
     },
     "execution_count": 30,
     "metadata": {
      "tags": []
     },
     "output_type": "execute_result"
    }
   ],
   "source": [
    "data['plot_synopsis'].head(5)"
   ]
  },
  {
   "cell_type": "code",
   "execution_count": 0,
   "metadata": {
    "colab": {},
    "colab_type": "code",
    "id": "PGAXug6XtppR"
   },
   "outputs": [],
   "source": [
    "from sklearn.model_selection import train_test_split\n",
    "xtrainfinal,xtestfinal,ytrainfinal,ytestfinal=train_test_split(data['plot_synopsis'],data['tags'],test_size=0.2)"
   ]
  },
  {
   "cell_type": "code",
   "execution_count": 0,
   "metadata": {
    "colab": {},
    "colab_type": "code",
    "id": "E8c5NzydtppU",
    "outputId": "901e9997-3589-41b6-d263-91dc5609e5a0"
   },
   "outputs": [
    {
     "name": "stdout",
     "output_type": "stream",
     "text": [
      "(11341,)\n",
      "(2836,)\n",
      "(11341,)\n",
      "(2836,)\n"
     ]
    }
   ],
   "source": [
    "print(xtrainfinal.shape)\n",
    "print(xtestfinal.shape)\n",
    "print(ytrainfinal.shape)\n",
    "print(ytestfinal.shape)"
   ]
  },
  {
   "cell_type": "code",
   "execution_count": 0,
   "metadata": {
    "colab": {},
    "colab_type": "code",
    "id": "m0n2KLZMtppW"
   },
   "outputs": [],
   "source": [
    "countvect=CountVectorizer(max_df=0.8,max_features=20000)\n",
    "xtrain=countvect.fit_transform(xtrainfinal)\n",
    "xtest=countvect.transform(xtestfinal)"
   ]
  },
  {
   "cell_type": "code",
   "execution_count": 0,
   "metadata": {
    "colab": {},
    "colab_type": "code",
    "id": "BYkFAoUvtppZ"
   },
   "outputs": [],
   "source": [
    "countvect1=CountVectorizer(tokenizer=lambda x:x.split(','))\n",
    "ytrain=countvect1.fit_transform(ytrainfinal)\n",
    "ytest=countvect1.transform(ytestfinal)"
   ]
  },
  {
   "cell_type": "code",
   "execution_count": 0,
   "metadata": {
    "colab": {},
    "colab_type": "code",
    "id": "Oeouj5sxtppb",
    "outputId": "82fabdee-1a07-4d2b-d62e-058d5b90ed17"
   },
   "outputs": [
    {
     "name": "stdout",
     "output_type": "stream",
     "text": [
      "(11341, 20000)\n",
      "(2836, 20000)\n",
      "(11341, 71)\n",
      "(2836, 71)\n"
     ]
    }
   ],
   "source": [
    "print(xtrain.shape)\n",
    "print(xtest.shape)\n",
    "print(ytrain.shape)\n",
    "print(ytest.shape)"
   ]
  },
  {
   "cell_type": "code",
   "execution_count": 0,
   "metadata": {
    "colab": {},
    "colab_type": "code",
    "id": "PMWp_MoYtppe",
    "outputId": "f507ce79-4770-41cf-e8e7-032623e3689f"
   },
   "outputs": [
    {
     "name": "stdout",
     "output_type": "stream",
     "text": [
      "{'estimator__alpha': 0.01}\n"
     ]
    }
   ],
   "source": [
    "import warnings\n",
    "warnings.filterwarnings('ignore')\n",
    "from sklearn.model_selection import RandomizedSearchCV\n",
    "from sklearn.linear_model import SGDClassifier\n",
    "mod=OneVsRestClassifier(SGDClassifier(loss='log'))\n",
    "hyperparameters={'estimator__alpha':[10**-3,10**-2,10**-1,10**0,10**1,10**2,10**3]}\n",
    "mod1=RandomizedSearchCV(mod,hyperparameters,scoring='f1_micro')\n",
    "mod1.fit(xtrain,ytrain)\n",
    "print(mod1.best_params_)"
   ]
  },
  {
   "cell_type": "code",
   "execution_count": 0,
   "metadata": {
    "colab": {},
    "colab_type": "code",
    "id": "u47xWBXOtppm",
    "outputId": "5999c797-a3b9-474b-ef1a-3e7777e2bcd8"
   },
   "outputs": [
    {
     "name": "stdout",
     "output_type": "stream",
     "text": [
      "micro f1-score 0.3082221896526455\n",
      "macro f1_score 0.10444158411347086\n",
      "hamming_loss 0.04688213909692286\n",
      "precision_score 0.4141394249704608\n",
      "recall_score 0.24544817927170867\n"
     ]
    }
   ],
   "source": [
    "from sklearn.linear_model import LogisticRegression\n",
    "import warnings\n",
    "warnings.filterwarnings('ignore')\n",
    "from sklearn import metrics\n",
    "mod=SGDClassifier(loss='log',alpha=0.01)\n",
    "mod1=OneVsRestClassifier(mod)\n",
    "mod1.fit(xtrain,ytrain)\n",
    "predicty1=mod1.predict_proba(xtest)\n",
    "predcity= (predicty1>= 0.2).astype(int)\n",
    "print('micro f1-score',metrics.f1_score(ytest,predicty,average='micro'))\n",
    "print('macro f1_score',metrics.f1_score(ytest,predicty,average='macro'))\n",
    "print('hamming_loss',metrics.hamming_loss(ytest,predicty))\n",
    "print('precision_score',metrics.precision_score(ytest,predicty,average='micro'))\n",
    "print('recall_score',metrics.recall_score(ytest,predicty,average='micro'))"
   ]
  },
  {
   "cell_type": "code",
   "execution_count": 0,
   "metadata": {
    "colab": {},
    "colab_type": "code",
    "id": "zLKQazHItppp",
    "outputId": "ebf828b6-a00a-424a-843a-b16e473ef91f"
   },
   "outputs": [
    {
     "name": "stdout",
     "output_type": "stream",
     "text": [
      "{'estimator__alpha': 0.01}\n"
     ]
    }
   ],
   "source": [
    "import warnings\n",
    "warnings.filterwarnings('ignore')\n",
    "from sklearn.model_selection import RandomizedSearchCV\n",
    "from sklearn.linear_model import SGDClassifier\n",
    "mod=OneVsRestClassifier(SGDClassifier(loss='hinge'))\n",
    "hyperparameters={'estimator__alpha':[10**-3,10**-2,10**-1,10**0,10**1,10**2,10**3]}\n",
    "mod1=RandomizedSearchCV(mod,hyperparameters,scoring='f1_micro')\n",
    "mod1.fit(xtrain,ytrain)\n",
    "print(mod1.best_params_)"
   ]
  },
  {
   "cell_type": "code",
   "execution_count": 0,
   "metadata": {
    "colab": {},
    "colab_type": "code",
    "id": "d4Z3ZVX_tppt",
    "outputId": "928d6131-dbaa-4a4f-9512-63b153cd7ffe"
   },
   "outputs": [
    {
     "name": "stdout",
     "output_type": "stream",
     "text": [
      "micro f1-score 0.30789010691568547\n",
      "macro f1_score 0.11713357275270946\n",
      "hamming_loss 0.050795605792725324\n",
      "precision_score 0.3663446054750403\n",
      "recall_score 0.26552287581699346\n"
     ]
    }
   ],
   "source": [
    "from sklearn.svm import SVC\n",
    "from sklearn.linear_model import SGDClassifier\n",
    "mod=SGDClassifier(loss='hinge',alpha=0.01)\n",
    "mod1=OneVsRestClassifier(mod)\n",
    "mod1.fit(xtrain,ytrain)\n",
    "predicty=mod1.predict(xtest)\n",
    "print('micro f1-score',metrics.f1_score(ytest,predicty,average='micro'))\n",
    "print('macro f1_score',metrics.f1_score(ytest,predicty,average='macro'))\n",
    "print('hamming_loss',metrics.hamming_loss(ytest,predicty))\n",
    "print('precision_score',metrics.precision_score(ytest,predicty,average='micro'))\n",
    "print('recall_score',metrics.recall_score(ytest,predicty,average='micro'))"
   ]
  },
  {
   "cell_type": "code",
   "execution_count": 0,
   "metadata": {
    "colab": {},
    "colab_type": "code",
    "id": "CuTCXoOPtppw"
   },
   "outputs": [],
   "source": [
    "bigramvect=CountVectorizer(max_df=0.8,max_features=20000,ngram_range=(2,2))\n",
    "xtrainbigram=bigramvect.fit_transform(xtrainfinal)\n",
    "xtestbigram=bigramvect.transform(xtestfinal)"
   ]
  },
  {
   "cell_type": "code",
   "execution_count": 0,
   "metadata": {
    "colab": {},
    "colab_type": "code",
    "id": "w_NRxtHctppy",
    "outputId": "9c7187c0-5921-486b-c7a7-6b190f31df58"
   },
   "outputs": [
    {
     "name": "stdout",
     "output_type": "stream",
     "text": [
      "{'estimator__alpha': 0.001}\n"
     ]
    }
   ],
   "source": [
    "import warnings\n",
    "warnings.filterwarnings('ignore')\n",
    "from sklearn.model_selection import RandomizedSearchCV\n",
    "from sklearn.linear_model import SGDClassifier\n",
    "mod=OneVsRestClassifier(SGDClassifier(loss='hinge'))\n",
    "hyperparameters={'estimator__alpha':[10**-3,10**-2,10**-1,10**0,10**1,10**2,10**3]}\n",
    "mod1=RandomizedSearchCV(mod,hyperparameters,scoring='f1_micro')\n",
    "mod1.fit(xtrainbigram,ytrain)\n",
    "print(mod1.best_params_)"
   ]
  },
  {
   "cell_type": "code",
   "execution_count": 0,
   "metadata": {
    "colab": {},
    "colab_type": "code",
    "id": "GchNDf8Ktpp2",
    "outputId": "cd3325c9-741f-45df-c708-666fdb523a70"
   },
   "outputs": [
    {
     "name": "stdout",
     "output_type": "stream",
     "text": [
      "micro f1-score 0.29509383863375777\n",
      "macro f1_score 0.13298824937622872\n",
      "hamming_loss 0.058011680804147876\n",
      "precision_score 0.3055104335874047\n",
      "recall_score 0.2853641456582633\n",
      "--------------------------------------------------------------------\n"
     ]
    }
   ],
   "source": [
    "mod=SGDClassifier(alpha=0.001,loss='hinge')\n",
    "mod1=OneVsRestClassifier(mod)\n",
    "mod1.fit(xtrain,ytrain)\n",
    "predicty=mod1.predict(xtest)\n",
    "\n",
    "print('micro f1-score',metrics.f1_score(ytest,predicty,average='micro'))\n",
    "print('macro f1_score',metrics.f1_score(ytest,predicty,average='macro'))\n",
    "print('hamming_loss',metrics.hamming_loss(ytest,predicty))\n",
    "print('precision_score',metrics.precision_score(ytest,predicty,average='micro'))\n",
    "print('recall_score',metrics.recall_score(ytest,predicty,average='micro'))\n",
    "print('--------------------------------------------------------------------')"
   ]
  },
  {
   "cell_type": "code",
   "execution_count": 0,
   "metadata": {
    "colab": {},
    "colab_type": "code",
    "id": "qDoM8uYFtpp5",
    "outputId": "75fb9972-959e-47da-8a1a-9e5f35013617"
   },
   "outputs": [
    {
     "name": "stdout",
     "output_type": "stream",
     "text": [
      "{'estimator__alpha': 0.001}\n"
     ]
    }
   ],
   "source": [
    "import warnings\n",
    "warnings.filterwarnings('ignore')\n",
    "from sklearn.model_selection import RandomizedSearchCV\n",
    "from sklearn.linear_model import SGDClassifier\n",
    "mod=OneVsRestClassifier(SGDClassifier(loss='log'))\n",
    "hyperparameters={'estimator__alpha':[10**-3,10**-2,10**-1,10**0,10**1,10**2,10**3]}\n",
    "mod1=RandomizedSearchCV(mod,hyperparameters,scoring='f1_micro')\n",
    "mod1.fit(xtrainbigram,ytrain)\n",
    "print(mod1.best_params_)"
   ]
  },
  {
   "cell_type": "code",
   "execution_count": 0,
   "metadata": {
    "colab": {},
    "colab_type": "code",
    "id": "adrnM4uvtpp-",
    "outputId": "6562c34c-42f6-49cf-ca52-75ae7e86ce86"
   },
   "outputs": [
    {
     "name": "stdout",
     "output_type": "stream",
     "text": [
      "micro f1-score 0.2985179134087992\n",
      "macro f1_score 0.12436890048527703\n",
      "hamming_loss 0.05970519875245833\n",
      "precision_score 0.29848308051341893\n",
      "recall_score 0.29855275443510737\n",
      "--------------------------------------------------------------------\n"
     ]
    }
   ],
   "source": [
    "mod=SGDClassifier(alpha=0.001,loss='log')\n",
    "mod1=OneVsRestClassifier(mod)\n",
    "mod1.fit(xtrain,ytrain)\n",
    "predicty=mod1.predict(xtest)\n",
    "print('micro f1-score',metrics.f1_score(ytest,predicty,average='micro'))\n",
    "print('macro f1_score',metrics.f1_score(ytest,predicty,average='macro'))\n",
    "print('hamming_loss',metrics.hamming_loss(ytest,predicty))\n",
    "print('precision_score',metrics.precision_score(ytest,predicty,average='micro'))\n",
    "print('recall_score',metrics.recall_score(ytest,predicty,average='micro'))\n",
    "print('--------------------------------------------------------------------')"
   ]
  },
  {
   "cell_type": "code",
   "execution_count": 0,
   "metadata": {
    "colab": {},
    "colab_type": "code",
    "id": "quS2pRD5tpqB"
   },
   "outputs": [],
   "source": [
    "trigramvect=CountVectorizer(max_df=0.8,ngram_range=(3,3),max_features=20000)\n",
    "xtraintrigram=bigramvect.fit_transform(xtrainfinal)\n",
    "xtesttrigram=bigramvect.transform(xtestfinal)"
   ]
  },
  {
   "cell_type": "code",
   "execution_count": 0,
   "metadata": {
    "colab": {},
    "colab_type": "code",
    "id": "EyIlFxMOtpqD",
    "outputId": "e2ec5e96-fd68-4404-b275-e8c9473560ac"
   },
   "outputs": [
    {
     "name": "stdout",
     "output_type": "stream",
     "text": [
      "{'estimator__alpha': 0.001}\n"
     ]
    }
   ],
   "source": [
    "import warnings\n",
    "warnings.filterwarnings('ignore')\n",
    "from sklearn.model_selection import RandomizedSearchCV\n",
    "from sklearn.linear_model import SGDClassifier\n",
    "mod=OneVsRestClassifier(SGDClassifier(loss='log'))\n",
    "hyperparameters={'estimator__alpha':[10**-3,10**-2,10**-1,10**0,10**1,10**2,10**3]}\n",
    "mod1=RandomizedSearchCV(mod,hyperparameters,scoring='f1_micro')\n",
    "mod1.fit(xtraintrigram,ytrain)\n",
    "print(mod1.best_params_)"
   ]
  },
  {
   "cell_type": "code",
   "execution_count": 0,
   "metadata": {
    "colab": {},
    "colab_type": "code",
    "id": "m_qnWdaPtpqI",
    "outputId": "09708049-825d-4218-90e3-a85bcd4b4b80"
   },
   "outputs": [
    {
     "name": "stdout",
     "output_type": "stream",
     "text": [
      "micro f1-score 0.2354886113152094\n",
      "macro f1_score 0.050654984709496254\n",
      "hamming_loss 0.0413397167206341\n",
      "precision_score 0.5525862068965517\n",
      "recall_score 0.1496265172735761\n",
      "--------------------------------------------------------------------\n"
     ]
    }
   ],
   "source": [
    "mod=SGDClassifier(alpha=0.001,loss='log')\n",
    "mod1=OneVsRestClassifier(mod)\n",
    "mod1.fit(xtraintrigram,ytrain)\n",
    "predicty=mod1.predict(xtesttrigram)\n",
    "print('micro f1-score',metrics.f1_score(ytest,predicty,average='micro'))\n",
    "print('macro f1_score',metrics.f1_score(ytest,predicty,average='macro'))\n",
    "print('hamming_loss',metrics.hamming_loss(ytest,predicty))\n",
    "print('precision_score',metrics.precision_score(ytest,predicty,average='micro'))\n",
    "print('recall_score',metrics.recall_score(ytest,predicty,average='micro'))\n",
    "print('--------------------------------------------------------------------')"
   ]
  },
  {
   "cell_type": "code",
   "execution_count": 0,
   "metadata": {
    "colab": {},
    "colab_type": "code",
    "id": "gs8dass3tpqK",
    "outputId": "36c02965-2bb9-4fc2-e1f4-d413d869758b"
   },
   "outputs": [
    {
     "name": "stdout",
     "output_type": "stream",
     "text": [
      "{'estimator__alpha': 0.001}\n"
     ]
    }
   ],
   "source": [
    "import warnings\n",
    "warnings.filterwarnings('ignore')\n",
    "from sklearn.model_selection import RandomizedSearchCV\n",
    "from sklearn.linear_model import SGDClassifier\n",
    "mod=OneVsRestClassifier(SGDClassifier(loss='hinge',random_state=42))\n",
    "hyperparameters={'estimator__alpha':[10**-3,10**-2,10**-1,10**0,10**1,10**2,10**3]}\n",
    "mod1=RandomizedSearchCV(mod,hyperparameters,scoring='f1_micro')\n",
    "mod1.fit(xtraintrigram,ytrain)\n",
    "print(mod1.best_params_)"
   ]
  },
  {
   "cell_type": "code",
   "execution_count": 0,
   "metadata": {
    "colab": {},
    "colab_type": "code",
    "id": "tMSoiQS2tpqM",
    "outputId": "f0c97585-773c-450e-a05f-944fa3482852"
   },
   "outputs": [
    {
     "name": "stdout",
     "output_type": "stream",
     "text": [
      "micro f1-score 0.27408543971573934\n",
      "macro f1_score 0.08104879637749375\n",
      "hamming_loss 0.0446423250362542\n",
      "precision_score 0.4448230668414155\n",
      "recall_score 0.198062558356676\n",
      "--------------------------------------------------------------------\n"
     ]
    }
   ],
   "source": [
    "mod=SGDClassifier(alpha=0.001,loss='hinge',random_state=42)\n",
    "mod1=OneVsRestClassifier(mod)\n",
    "mod1.fit(xtraintrigram,ytrain)\n",
    "predicty=mod1.predict(xtesttrigram)\n",
    "print('micro f1-score',metrics.f1_score(ytest,predicty,average='micro'))\n",
    "print('macro f1_score',metrics.f1_score(ytest,predicty,average='macro'))\n",
    "print('hamming_loss',metrics.hamming_loss(ytest,predicty))\n",
    "print('precision_score',metrics.precision_score(ytest,predicty,average='micro'))\n",
    "print('recall_score',metrics.recall_score(ytest,predicty,average='micro'))\n",
    "print('--------------------------------------------------------------------')"
   ]
  },
  {
   "cell_type": "code",
   "execution_count": 0,
   "metadata": {
    "colab": {},
    "colab_type": "code",
    "id": "priosSj6tpqO"
   },
   "outputs": [],
   "source": [
    "countvect=CountVectorizer(max_df=0.8,max_features=20000,ngram_range=(1,2))\n",
    "xtrain=countvect.fit_transform(xtrainfinal)\n",
    "xtest=countvect.transform(xtestfinal)"
   ]
  },
  {
   "cell_type": "code",
   "execution_count": 0,
   "metadata": {
    "colab": {},
    "colab_type": "code",
    "id": "l-DcEAbGtpqQ",
    "outputId": "2dd07442-7ee7-4866-a38a-20c2bc5671c1"
   },
   "outputs": [
    {
     "name": "stdout",
     "output_type": "stream",
     "text": [
      "{'estimator__alpha': 0.01}\n"
     ]
    }
   ],
   "source": [
    "import warnings\n",
    "warnings.filterwarnings('ignore')\n",
    "from sklearn.model_selection import RandomizedSearchCV\n",
    "from sklearn.linear_model import SGDClassifier\n",
    "mod=OneVsRestClassifier(SGDClassifier(loss='hinge'))\n",
    "hyperparameters={'estimator__alpha':[10**-3,10**-2,10**-1,10**0,10**1,10**2,10**3]}\n",
    "mod1=RandomizedSearchCV(mod,hyperparameters,scoring='f1_micro')\n",
    "mod1.fit(xtrain,ytrain)\n",
    "print(mod1.best_params_)"
   ]
  },
  {
   "cell_type": "code",
   "execution_count": 0,
   "metadata": {
    "colab": {},
    "colab_type": "code",
    "id": "sKMoISfWtpqS",
    "outputId": "6f02ff8f-14b7-456c-9c07-8a5e211d1e17"
   },
   "outputs": [
    {
     "name": "stdout",
     "output_type": "stream",
     "text": [
      "micro f1-score 0.30802369413031777\n",
      "macro f1_score 0.1182253783712013\n",
      "hamming_loss 0.05105385486402193\n",
      "precision_score 0.3638676844783715\n",
      "recall_score 0.26704014939309056\n"
     ]
    }
   ],
   "source": [
    "from sklearn.svm import SVC\n",
    "from sklearn.linear_model import SGDClassifier\n",
    "mod=SGDClassifier(loss='hinge',alpha=0.01)\n",
    "mod1=OneVsRestClassifier(mod)\n",
    "mod1.fit(xtrain,ytrain)\n",
    "predicty=mod1.predict(xtest)\n",
    "print('micro f1-score',metrics.f1_score(ytest,predicty,average='micro'))\n",
    "print('macro f1_score',metrics.f1_score(ytest,predicty,average='macro'))\n",
    "print('hamming_loss',metrics.hamming_loss(ytest,predicty))\n",
    "print('precision_score',metrics.precision_score(ytest,predicty,average='micro'))\n",
    "print('recall_score',metrics.recall_score(ytest,predicty,average='micro'))"
   ]
  },
  {
   "cell_type": "code",
   "execution_count": 0,
   "metadata": {
    "colab": {},
    "colab_type": "code",
    "id": "Jgqoq7oJtpqY",
    "outputId": "19821af0-244d-44a4-d997-ff4d5c77c826"
   },
   "outputs": [
    {
     "name": "stdout",
     "output_type": "stream",
     "text": [
      "{'estimator__alpha': 0.01}\n"
     ]
    }
   ],
   "source": [
    "import warnings\n",
    "warnings.filterwarnings('ignore')\n",
    "from sklearn.model_selection import RandomizedSearchCV\n",
    "from sklearn.linear_model import SGDClassifier\n",
    "mod=OneVsRestClassifier(SGDClassifier(loss='log',random_state=42))\n",
    "hyperparameters={'estimator__alpha':[10**-3,10**-2,10**-1,10**0,10**1,10**2,10**3]}\n",
    "mod1=RandomizedSearchCV(mod,hyperparameters,scoring='f1_micro')\n",
    "mod1.fit(xtrain,ytrain)\n",
    "print(mod1.best_params_)"
   ]
  },
  {
   "cell_type": "code",
   "execution_count": 0,
   "metadata": {
    "colab": {},
    "colab_type": "code",
    "id": "NIbKmpv9tpqb",
    "outputId": "98eb3d96-159c-46b8-f34e-07c62cb8da5c"
   },
   "outputs": [
    {
     "name": "stdout",
     "output_type": "stream",
     "text": [
      "micro f1-score 0.29274558853356775\n",
      "macro f1_score 0.11842655299923104\n",
      "hamming_loss 0.051952760285265895\n",
      "precision_score 0.3479029407038406\n",
      "recall_score 0.2526844070961718\n"
     ]
    }
   ],
   "source": [
    "from sklearn.svm import SVC\n",
    "from sklearn.linear_model import SGDClassifier\n",
    "mod=SGDClassifier(loss='log',alpha=0.01)\n",
    "mod1=OneVsRestClassifier(mod)\n",
    "mod1.fit(xtrain,ytrain)\n",
    "predicty=mod1.predict(xtest)\n",
    "print('micro f1-score',metrics.f1_score(ytest,predicty,average='micro'))\n",
    "print('macro f1_score',metrics.f1_score(ytest,predicty,average='macro'))\n",
    "print('hamming_loss',metrics.hamming_loss(ytest,predicty))\n",
    "print('precision_score',metrics.precision_score(ytest,predicty,average='micro'))\n",
    "print('recall_score',metrics.recall_score(ytest,predicty,average='micro'))"
   ]
  },
  {
   "cell_type": "markdown",
   "metadata": {
    "colab_type": "text",
    "id": "mcbYcak0tpqd"
   },
   "source": [
    "# ==----------------------------------------------------------------------------------------------------=="
   ]
  },
  {
   "cell_type": "code",
   "execution_count": 0,
   "metadata": {
    "colab": {},
    "colab_type": "code",
    "id": "urPFxI7Mtpqe"
   },
   "outputs": [],
   "source": [
    "countvect=CountVectorizer(max_df=0.8,ngram_range=(1,3),max_features=20000)\n",
    "xtrain=countvect.fit_transform(xtrainfinal)\n",
    "xtest=countvect.transform(xtestfinal)"
   ]
  },
  {
   "cell_type": "code",
   "execution_count": 0,
   "metadata": {
    "colab": {},
    "colab_type": "code",
    "id": "SUrcftFDtpqj",
    "outputId": "0ac5b5c1-f400-4e95-9b30-57d0067376c9"
   },
   "outputs": [
    {
     "name": "stdout",
     "output_type": "stream",
     "text": [
      "{'estimator__alpha': 0.001}\n"
     ]
    }
   ],
   "source": [
    "import warnings\n",
    "warnings.filterwarnings('ignore')\n",
    "from sklearn.model_selection import RandomizedSearchCV\n",
    "from sklearn.linear_model import SGDClassifier\n",
    "mod=OneVsRestClassifier(SGDClassifier(loss='hinge',random_state=42))\n",
    "hyperparameters={'estimator__alpha':[10**-3,10**-2,10**-1,10**0,10**1,10**2,10**3]}\n",
    "mod1=RandomizedSearchCV(mod,hyperparameters,scoring='f1_micro')\n",
    "mod1.fit(xtrainngram1,ytrain)\n",
    "print(mod1.best_params_)"
   ]
  },
  {
   "cell_type": "code",
   "execution_count": 0,
   "metadata": {
    "colab": {},
    "colab_type": "code",
    "id": "1Bu9WhTJtpqm",
    "outputId": "a2a17321-cca2-4556-8d30-0952b91d016a"
   },
   "outputs": [
    {
     "name": "stdout",
     "output_type": "stream",
     "text": [
      "micro f1-score 0.30420112471055244\n",
      "macro f1_score 0.11352162976535947\n",
      "hamming_loss 0.05223087466973917\n",
      "precision_score 0.3511531999389033\n",
      "recall_score 0.2683239962651727\n"
     ]
    }
   ],
   "source": [
    "from sklearn.svm import SVC\n",
    "from sklearn.linear_model import SGDClassifier\n",
    "mod=SGDClassifier(loss='hinge',alpha=0.001)\n",
    "mod1=OneVsRestClassifier(mod)\n",
    "mod1.fit(xtrain,ytrain)\n",
    "predicty=mod1.predict(xtest)\n",
    "print('micro f1-score',metrics.f1_score(ytest,predicty,average='micro'))\n",
    "print('macro f1_score',metrics.f1_score(ytest,predicty,average='macro'))\n",
    "print('hamming_loss',metrics.hamming_loss(ytest,predicty))\n",
    "print('precision_score',metrics.precision_score(ytest,predicty,average='micro'))\n",
    "print('recall_score',metrics.recall_score(ytest,predicty,average='micro'))"
   ]
  },
  {
   "cell_type": "code",
   "execution_count": 0,
   "metadata": {
    "colab": {},
    "colab_type": "code",
    "id": "yG1ydiIrtpqu",
    "outputId": "755d0fbb-8794-4b49-ec94-8c50e0f70c76"
   },
   "outputs": [
    {
     "name": "stdout",
     "output_type": "stream",
     "text": [
      "{'estimator__alpha': 0.001}\n"
     ]
    }
   ],
   "source": [
    "import warnings\n",
    "warnings.filterwarnings('ignore')\n",
    "from sklearn.model_selection import RandomizedSearchCV\n",
    "from sklearn.linear_model import SGDClassifier\n",
    "mod=OneVsRestClassifier(SGDClassifier(loss='log',random_state=42))\n",
    "hyperparameters={'estimator__alpha':[10**-3,10**-2,10**-1,10**0,10**1,10**2,10**3]}\n",
    "mod1=RandomizedSearchCV(mod,hyperparameters,scoring='f1_micro')\n",
    "mod1.fit(xtrain,ytrain)\n",
    "print(mod1.best_params_)"
   ]
  },
  {
   "cell_type": "code",
   "execution_count": 0,
   "metadata": {
    "colab": {},
    "colab_type": "code",
    "id": "v7iki6cMtpqx",
    "outputId": "73768de4-7b99-4a48-88d3-8cf56fbed988"
   },
   "outputs": [
    {
     "name": "stdout",
     "output_type": "stream",
     "text": [
      "micro f1-score 0.2987630827783064\n",
      "macro f1_score 0.11922760515809862\n",
      "hamming_loss 0.058562943244800256\n",
      "precision_score 0.30455868089233756\n",
      "recall_score 0.2931839402427638\n"
     ]
    }
   ],
   "source": [
    "from sklearn.svm import SVC\n",
    "from sklearn.linear_model import SGDClassifier\n",
    "mod=SGDClassifier(loss='log',alpha=0.001)\n",
    "mod1=OneVsRestClassifier(mod)\n",
    "mod1.fit(xtrain,ytrain)\n",
    "predicty=mod1.predict(xtest)\n",
    "print('micro f1-score',metrics.f1_score(ytest,predicty,average='micro'))\n",
    "print('macro f1_score',metrics.f1_score(ytest,predicty,average='macro'))\n",
    "print('hamming_loss',metrics.hamming_loss(ytest,predicty))\n",
    "print('precision_score',metrics.precision_score(ytest,predicty,average='micro'))\n",
    "print('recall_score',metrics.recall_score(ytest,predicty,average='micro'))"
   ]
  },
  {
   "cell_type": "markdown",
   "metadata": {
    "colab_type": "text",
    "id": "UtCJu9Citpq0"
   },
   "source": [
    "# --------------------------------------------------"
   ]
  },
  {
   "cell_type": "code",
   "execution_count": 0,
   "metadata": {
    "colab": {},
    "colab_type": "code",
    "id": "7OtOcw6itpq0"
   },
   "outputs": [],
   "source": [
    "countvect1=CountVectorizer(tokenizer=lambda x:x.split(','))\n",
    "ytrain=countvect1.fit_transform(ytrainfinal)\n",
    "ytest=countvect1.transform(ytestfinal)"
   ]
  },
  {
   "cell_type": "code",
   "execution_count": 0,
   "metadata": {
    "colab": {},
    "colab_type": "code",
    "id": "dXz25pdatpq2"
   },
   "outputs": [],
   "source": [
    "tfvect=TfidfVectorizer(max_features=10000)\n",
    "xtrain=tfvect.fit_transform(xtrainfinal)\n",
    "xtest=tfvect.transform(xtestfinal)"
   ]
  },
  {
   "cell_type": "code",
   "execution_count": 0,
   "metadata": {
    "colab": {},
    "colab_type": "code",
    "id": "iiTWiq89tpq3",
    "outputId": "a6cc8d9e-ebb0-4370-95b4-eaf14ca0704f"
   },
   "outputs": [
    {
     "name": "stdout",
     "output_type": "stream",
     "text": [
      "{'estimator__alpha': 100}\n"
     ]
    }
   ],
   "source": [
    "import warnings\n",
    "warnings.filterwarnings('ignore')\n",
    "from sklearn.model_selection import RandomizedSearchCV\n",
    "from sklearn.linear_model import SGDClassifier\n",
    "mod=OneVsRestClassifier(SGDClassifier(loss='log'))\n",
    "hyperparameters={'estimator__alpha':[10**-3,10**-2,10**-1,10**0,10**1,10**2,10**3]}\n",
    "mod1=RandomizedSearchCV(mod,hyperparameters,scoring='f1_micro')\n",
    "mod1.fit(xtrain,ytrain)\n",
    "print(mod1.best_params_)"
   ]
  },
  {
   "cell_type": "code",
   "execution_count": 0,
   "metadata": {
    "colab": {},
    "colab_type": "code",
    "id": "jLUsWcXptpq5",
    "outputId": "1bd77ed8-61a9-4987-ba04-d8467ff6b7e6"
   },
   "outputs": [
    {
     "name": "stdout",
     "output_type": "stream",
     "text": [
      "micro f1-score 0.30861563083488935\n",
      "macro f1_score 0.06255659907280768\n",
      "hamming_loss 0.18279266572637518\n",
      "precision_score 0.27197931358721206\n",
      "recall_score 0.3566584463625154\n"
     ]
    }
   ],
   "source": [
    "from sklearn.svm import SVC\n",
    "from sklearn.linear_model import SGDClassifier\n",
    "mod=SGDClassifier(loss='log',alpha=100)\n",
    "mod1=OneVsRestClassifier(mod)\n",
    "mod1.fit(xtrain,ytrain)\n",
    "predicty=mod1.predict(xtest)\n",
    "print('micro f1-score',metrics.f1_score(ytest,predicty,average='micro'))\n",
    "print('macro f1_score',metrics.f1_score(ytest,predicty,average='macro'))\n",
    "print('hamming_loss',metrics.hamming_loss(ytest,predicty))\n",
    "print('precision_score',metrics.precision_score(ytest,predicty,average='micro'))\n",
    "print('recall_score',metrics.recall_score(ytest,predicty,average='micro'))"
   ]
  },
  {
   "cell_type": "code",
   "execution_count": 0,
   "metadata": {
    "colab": {},
    "colab_type": "code",
    "id": "i6Zud352tpq7",
    "outputId": "e4f7e71c-665e-4440-dc95-96ffa1f6bede"
   },
   "outputs": [
    {
     "name": "stdout",
     "output_type": "stream",
     "text": [
      "{'estimator__alpha': 100}\n"
     ]
    }
   ],
   "source": [
    "import warnings\n",
    "warnings.filterwarnings('ignore')\n",
    "from sklearn.model_selection import RandomizedSearchCV\n",
    "from sklearn.linear_model import SGDClassifier\n",
    "mod=OneVsRestClassifier(SGDClassifier(loss='hinge',random_state=42))\n",
    "hyperparameters={'estimator__alpha':[10**-3,10**-2,10**-1,10**0,10**1,10**2,10**3]}\n",
    "mod1=RandomizedSearchCV(mod,hyperparameters,scoring='f1_micro')\n",
    "mod1.fit(xtrain,ytrain)\n",
    "print(mod1.best_params_)"
   ]
  },
  {
   "cell_type": "code",
   "execution_count": 0,
   "metadata": {
    "colab": {},
    "colab_type": "code",
    "id": "mknkIdthtpq-",
    "outputId": "9872b72e-48e3-45b2-ff80-fe9d72c04d6c"
   },
   "outputs": [
    {
     "name": "stdout",
     "output_type": "stream",
     "text": [
      "micro f1-score 0.32315284075753536\n",
      "macro f1_score 0.06543862422120973\n",
      "hamming_loss 0.17894922425952045\n",
      "precision_score 0.28479078514339445\n",
      "recall_score 0.37345869297163997\n"
     ]
    }
   ],
   "source": [
    "from sklearn.svm import SVC\n",
    "from sklearn.linear_model import SGDClassifier\n",
    "mod=SGDClassifier(loss='hinge',alpha=100)\n",
    "\n",
    "mod1=OneVsRestClassifier(mod)\n",
    "mod1.fit(xtrain,ytrain)\n",
    "predicty=mod1.predict(xtest)\n",
    "\n",
    "print('micro f1-score',metrics.f1_score(ytest,predicty,average='micro'))\n",
    "print('macro f1_score',metrics.f1_score(ytest,predicty,average='macro'))\n",
    "print('hamming_loss',metrics.hamming_loss(ytest,predicty))\n",
    "print('precision_score',metrics.precision_score(ytest,predicty,average='micro'))\n",
    "print('recall_score',metrics.recall_score(ytest,predicty,average='micro'))"
   ]
  },
  {
   "cell_type": "code",
   "execution_count": 0,
   "metadata": {
    "colab": {},
    "colab_type": "code",
    "id": "NMMid95QtprA"
   },
   "outputs": [],
   "source": [
    "from sklearn.feature_extraction.text import TfidfVectorizer\n",
    "tfidfvect=TfidfVectorizer(min_df=3,ngram_range=(2,2),max_features=20000)\n",
    "xtraintfidf=tfidfvect.fit_transform(xtrainfinal)\n",
    "xtesttfidf=tfidfvect.transform(xtestfinal)"
   ]
  },
  {
   "cell_type": "code",
   "execution_count": 0,
   "metadata": {
    "colab": {},
    "colab_type": "code",
    "id": "_i6vHjBjtprC",
    "outputId": "9d8fa790-0d66-4c9d-b7db-602b50b75303"
   },
   "outputs": [
    {
     "name": "stdout",
     "output_type": "stream",
     "text": [
      "{'estimator__alpha': 100}\n"
     ]
    }
   ],
   "source": [
    "import warnings\n",
    "warnings.filterwarnings('ignore')\n",
    "from sklearn.model_selection import RandomizedSearchCV\n",
    "from sklearn.linear_model import SGDClassifier\n",
    "mod=OneVsRestClassifier(SGDClassifier(loss='hinge'))\n",
    "hyperparameters={'estimator__alpha':[10**-3,10**-2,10**-1,10**0,10**1,10**2,10**3]}\n",
    "mod1=RandomizedSearchCV(mod,hyperparameters,scoring='f1_micro')\n",
    "mod1.fit(xtraintfidf,ytrain)\n",
    "print(mod1.best_params_)"
   ]
  },
  {
   "cell_type": "code",
   "execution_count": 0,
   "metadata": {
    "colab": {},
    "colab_type": "code",
    "id": "XJ-jfxjRtprE",
    "outputId": "297adf89-7fd2-4442-e10f-e17905b2d971"
   },
   "outputs": [
    {
     "name": "stdout",
     "output_type": "stream",
     "text": [
      "micro f1-score 0.3129475517708535\n",
      "macro f1_score 0.09028425581142945\n",
      "hamming_loss 0.25035260930888575\n",
      "precision_score 0.22806770098730605\n",
      "recall_score 0.49845869297163997\n"
     ]
    }
   ],
   "source": [
    "from sklearn.svm import SVC\n",
    "from sklearn.linear_model import SGDClassifier\n",
    "mod=SGDClassifier(loss='hinge',alpha=100)\n",
    "mod1=OneVsRestClassifier(mod)\n",
    "mod1.fit(xtraintfidf,ytrain)\n",
    "predicty=mod1.predict(xtesttfidf)\n",
    "\n",
    "print('micro f1-score',metrics.f1_score(ytest,predicty,average='micro'))\n",
    "print('macro f1_score',metrics.f1_score(ytest,predicty,average='macro'))\n",
    "print('hamming_loss',metrics.hamming_loss(ytest,predicty))\n",
    "print('precision_score',metrics.precision_score(ytest,predicty,average='micro'))\n",
    "print('recall_score',metrics.recall_score(ytest,predicty,average='micro'))"
   ]
  },
  {
   "cell_type": "code",
   "execution_count": 0,
   "metadata": {
    "colab": {},
    "colab_type": "code",
    "id": "-pVmRygYtprG",
    "outputId": "7dec0045-9f2d-4cf2-e6aa-4c828a9cbf21"
   },
   "outputs": [
    {
     "name": "stdout",
     "output_type": "stream",
     "text": [
      "{'estimator__alpha': 1000}\n"
     ]
    }
   ],
   "source": [
    "import warnings\n",
    "warnings.filterwarnings('ignore')\n",
    "from sklearn.model_selection import RandomizedSearchCV\n",
    "from sklearn.linear_model import SGDClassifier\n",
    "mod=OneVsRestClassifier(SGDClassifier(loss='log'))\n",
    "hyperparameters={'estimator__alpha':[10**-3,10**-2,10**-1,10**0,10**1,10**2,10**3]}\n",
    "mod1=RandomizedSearchCV(mod,hyperparameters,scoring='f1_micro')\n",
    "mod1.fit(xtraintfidf,ytrain)\n",
    "print(mod1.best_params_)"
   ]
  },
  {
   "cell_type": "code",
   "execution_count": 0,
   "metadata": {
    "colab": {},
    "colab_type": "code",
    "id": "tj__QiwTtprJ",
    "outputId": "93525f6e-3e25-47de-e829-c19bd604765d"
   },
   "outputs": [
    {
     "name": "stdout",
     "output_type": "stream",
     "text": [
      "micro f1-score 0.3050544588155208\n",
      "macro f1_score 0.10041687150463537\n",
      "hamming_loss 0.2879760225669958\n",
      "precision_score 0.21068406205923837\n",
      "recall_score 0.5525585696670777\n"
     ]
    }
   ],
   "source": [
    "from sklearn.svm import SVC\n",
    "from sklearn.linear_model import SGDClassifier\n",
    "mod=SGDClassifier(loss='log',alpha=100)\n",
    "mod1=OneVsRestClassifier(mod)\n",
    "mod1.fit(xtraintfidf,ytrain)\n",
    "predicty=mod1.predict(xtesttfidf)\n",
    "\n",
    "print('micro f1-score',metrics.f1_score(ytest,predicty,average='micro'))\n",
    "print('macro f1_score',metrics.f1_score(ytest,predicty,average='macro'))\n",
    "print('hamming_loss',metrics.hamming_loss(ytest,predicty))\n",
    "print('precision_score',metrics.precision_score(ytest,predicty,average='micro'))\n",
    "print('recall_score',metrics.recall_score(ytest,predicty,average='micro'))"
   ]
  },
  {
   "cell_type": "code",
   "execution_count": 0,
   "metadata": {
    "colab": {},
    "colab_type": "code",
    "id": "Oa7IzfJmtprL"
   },
   "outputs": [],
   "source": [
    "from sklearn.feature_extraction.text import TfidfVectorizer\n",
    "tfidfvect=TfidfVectorizer(min_df=3,ngram_range=(3,3),max_features=20000)\n",
    "xtraintfidf=tfidfvect.fit_transform(xtrainfinal)\n",
    "xtesttfidf=tfidfvect.transform(xtestfinal)"
   ]
  },
  {
   "cell_type": "code",
   "execution_count": 0,
   "metadata": {
    "colab": {},
    "colab_type": "code",
    "id": "XXnf3m_4tprM",
    "outputId": "bc4f0beb-8c42-4c05-e4f1-52b491d5c4b3"
   },
   "outputs": [
    {
     "name": "stdout",
     "output_type": "stream",
     "text": [
      "{'estimator__alpha': 100}\n"
     ]
    }
   ],
   "source": [
    "import warnings\n",
    "warnings.filterwarnings('ignore')\n",
    "from sklearn.model_selection import RandomizedSearchCV\n",
    "from sklearn.linear_model import SGDClassifier\n",
    "mod=OneVsRestClassifier(SGDClassifier(loss='log',random_state=42))\n",
    "hyperparameters={'estimator__alpha':[10**-3,10**-2,10**-1,10**0,10**1,10**2,10**3]}\n",
    "mod1=RandomizedSearchCV(mod,hyperparameters,scoring='f1_micro')\n",
    "mod1.fit(xtraintfidf,ytrain)\n",
    "print(mod1.best_params_)"
   ]
  },
  {
   "cell_type": "code",
   "execution_count": 0,
   "metadata": {
    "colab": {},
    "colab_type": "code",
    "id": "lXG1wS-xtprP",
    "outputId": "30b1bd12-7ac6-4a8c-e2a0-ac7a92b2e706"
   },
   "outputs": [
    {
     "name": "stdout",
     "output_type": "stream",
     "text": [
      "micro f1-score 0.3196051735874745\n",
      "macro f1_score 0.10534718518321413\n",
      "hamming_loss 0.28194640338504934\n",
      "precision_score 0.22073342736248236\n",
      "recall_score 0.5789149198520345\n"
     ]
    }
   ],
   "source": [
    "from sklearn.svm import SVC\n",
    "from sklearn.linear_model import SGDClassifier\n",
    "mod=SGDClassifier(loss='log',alpha=100)\n",
    "mod1=OneVsRestClassifier(mod)\n",
    "mod1.fit(xtraintfidf,ytrain)\n",
    "predicty=mod1.predict(xtesttfidf)\n",
    "\n",
    "print('micro f1-score',metrics.f1_score(ytest,predicty,average='micro'))\n",
    "print('macro f1_score',metrics.f1_score(ytest,predicty,average='macro'))\n",
    "print('hamming_loss',metrics.hamming_loss(ytest,predicty))\n",
    "print('precision_score',metrics.precision_score(ytest,predicty,average='micro'))\n",
    "print('recall_score',metrics.recall_score(ytest,predicty,average='micro'))"
   ]
  },
  {
   "cell_type": "code",
   "execution_count": 0,
   "metadata": {
    "colab": {},
    "colab_type": "code",
    "id": "oIhGdCygtprU",
    "outputId": "c288b1a8-3f75-4f52-a8ac-2fe2956504ff"
   },
   "outputs": [
    {
     "name": "stdout",
     "output_type": "stream",
     "text": [
      "{'estimator__alpha': 100}\n"
     ]
    }
   ],
   "source": [
    "import warnings\n",
    "warnings.filterwarnings('ignore')\n",
    "from sklearn.model_selection import RandomizedSearchCV\n",
    "from sklearn.linear_model import SGDClassifier\n",
    "mod=OneVsRestClassifier(SGDClassifier(loss='hinge'))\n",
    "hyperparameters={'estimator__alpha':[10**-3,10**-2,10**-1,10**0,10**1,10**2,10**3]}\n",
    "mod1=RandomizedSearchCV(mod,hyperparameters,scoring='f1_micro')\n",
    "mod1.fit(xtraintfidf,ytrain)\n",
    "print(mod1.best_params_)"
   ]
  },
  {
   "cell_type": "code",
   "execution_count": 0,
   "metadata": {
    "colab": {},
    "colab_type": "code",
    "id": "XGqx5ZnGtprW",
    "outputId": "ca0a2171-7ae6-40be-cb6d-f11b6e0c0a07"
   },
   "outputs": [
    {
     "name": "stdout",
     "output_type": "stream",
     "text": [
      "micro f1-score 0.30861563083488935\n",
      "macro f1_score 0.06255659907280768\n",
      "hamming_loss 0.18279266572637518\n",
      "precision_score 0.27197931358721206\n",
      "recall_score 0.3566584463625154\n"
     ]
    }
   ],
   "source": [
    "from sklearn.svm import SVC\n",
    "from sklearn.linear_model import SGDClassifier\n",
    "mod=SGDClassifier(loss='hinge',alpha=100)\n",
    "mod1=OneVsRestClassifier(mod)\n",
    "mod1.fit(xtraintfidf,ytrain)\n",
    "predicty=mod1.predict(xtesttfidf)\n",
    "\n",
    "print('micro f1-score',metrics.f1_score(ytest,predicty,average='micro'))\n",
    "print('macro f1_score',metrics.f1_score(ytest,predicty,average='macro'))\n",
    "print('hamming_loss',metrics.hamming_loss(ytest,predicty))\n",
    "print('precision_score',metrics.precision_score(ytest,predicty,average='micro'))\n",
    "print('recall_score',metrics.recall_score(ytest,predicty,average='micro'))"
   ]
  },
  {
   "cell_type": "code",
   "execution_count": 0,
   "metadata": {
    "colab": {},
    "colab_type": "code",
    "id": "IAqFU43QtprY"
   },
   "outputs": [],
   "source": [
    "from sklearn.feature_extraction.text import TfidfVectorizer\n",
    "tf=TfidfVectorizer(ngram_range=(1,2),max_features=10000,max_df=0.8)\n",
    "trainngram=tf.fit_transform(xtrainfinal)\n",
    "testngram=tf.transform(xtestfinal)"
   ]
  },
  {
   "cell_type": "code",
   "execution_count": 0,
   "metadata": {
    "colab": {},
    "colab_type": "code",
    "id": "vzf5ORZXtprb",
    "outputId": "24623912-a434-4f35-e19a-27e679b66ddf"
   },
   "outputs": [
    {
     "name": "stdout",
     "output_type": "stream",
     "text": [
      "{'estimator__alpha': 100}\n"
     ]
    }
   ],
   "source": [
    "import warnings\n",
    "warnings.filterwarnings('ignore')\n",
    "from sklearn.model_selection import RandomizedSearchCV\n",
    "from sklearn.linear_model import SGDClassifier\n",
    "mod=OneVsRestClassifier(SGDClassifier(loss='hinge'))\n",
    "hyperparameters={'estimator__alpha':[10**-3,10**-2,10**-1,10**0,10**1,10**2,10**3]}\n",
    "mod1=RandomizedSearchCV(mod,hyperparameters,scoring='f1_micro')\n",
    "mod1.fit(trainngram,ytrain)\n",
    "print(mod1.best_params_)"
   ]
  },
  {
   "cell_type": "code",
   "execution_count": 0,
   "metadata": {
    "colab": {},
    "colab_type": "code",
    "id": "TH2ejKfltprd",
    "outputId": "08e13bee-0a10-44a4-8cf7-37abc37eb03c"
   },
   "outputs": [
    {
     "name": "stdout",
     "output_type": "stream",
     "text": [
      "micro f1-score 0.3428488484613895\n",
      "macro f1_score 0.09841767380104982\n",
      "hamming_loss 0.23945698166431595\n",
      "precision_score 0.2498589562764457\n",
      "recall_score 0.5460850801479655\n"
     ]
    }
   ],
   "source": [
    "from sklearn.svm import SVC\n",
    "from sklearn.linear_model import SGDClassifier\n",
    "mod=SGDClassifier(loss='hinge',alpha=100)\n",
    "mod1=OneVsRestClassifier(mod)\n",
    "mod1.fit(trainngram,ytrain)\n",
    "predicty=mod1.predict(testngram)\n",
    "print('micro f1-score',metrics.f1_score(ytest,predicty,average='micro'))\n",
    "print('macro f1_score',metrics.f1_score(ytest,predicty,average='macro'))\n",
    "print('hamming_loss',metrics.hamming_loss(ytest,predicty))\n",
    "print('precision_score',metrics.precision_score(ytest,predicty,average='micro'))\n",
    "print('recall_score',metrics.recall_score(ytest,predicty,average='micro'))"
   ]
  },
  {
   "cell_type": "code",
   "execution_count": 0,
   "metadata": {
    "colab": {},
    "colab_type": "code",
    "id": "IqYbmBQLtprg",
    "outputId": "221c0173-8c43-4b6b-84a4-23cb659516ac"
   },
   "outputs": [
    {
     "name": "stdout",
     "output_type": "stream",
     "text": [
      "{'estimator__alpha': 100}\n"
     ]
    }
   ],
   "source": [
    "import warnings\n",
    "warnings.filterwarnings('ignore')\n",
    "from sklearn.model_selection import RandomizedSearchCV\n",
    "from sklearn.linear_model import SGDClassifier\n",
    "mod=OneVsRestClassifier(SGDClassifier(loss='log'))\n",
    "hyperparameters={'estimator__alpha':[10**-3,10**-2,10**-1,10**0,10**1,10**2,10**3]}\n",
    "mod1=RandomizedSearchCV(mod,hyperparameters,scoring='f1_micro')\n",
    "mod1.fit(trainngram,ytrain)\n",
    "print(mod1.best_params_)"
   ]
  },
  {
   "cell_type": "code",
   "execution_count": 0,
   "metadata": {
    "colab": {},
    "colab_type": "code",
    "id": "DN34kfuftpri",
    "outputId": "7b87dd71-3ddc-4f55-8b92-ab2951d7bb3f"
   },
   "outputs": [
    {
     "name": "stdout",
     "output_type": "stream",
     "text": [
      "micro f1-score 0.2602090187729824\n",
      "macro f1_score 0.07650037956280258\n",
      "hamming_loss 0.2695698166431594\n",
      "precision_score 0.1896332863187588\n",
      "recall_score 0.41445745992601724\n"
     ]
    }
   ],
   "source": [
    "from sklearn.svm import SVC\n",
    "from sklearn.linear_model import SGDClassifier\n",
    "mod=SGDClassifier(loss='log',alpha=100)\n",
    "mod1=OneVsRestClassifier(mod)\n",
    "mod1.fit(trainngram,ytrain)\n",
    "predicty=mod1.predict(testngram)\n",
    "print('micro f1-score',metrics.f1_score(ytest,predicty,average='micro'))\n",
    "print('macro f1_score',metrics.f1_score(ytest,predicty,average='macro'))\n",
    "print('hamming_loss',metrics.hamming_loss(ytest,predicty))\n",
    "print('precision_score',metrics.precision_score(ytest,predicty,average='micro'))\n",
    "print('recall_score',metrics.recall_score(ytest,predicty,average='micro'))"
   ]
  },
  {
   "cell_type": "markdown",
   "metadata": {
    "colab_type": "text",
    "id": "quZgfuJktprl"
   },
   "source": [
    "# ==----------------------------------------------------------------------------------------------=="
   ]
  },
  {
   "cell_type": "code",
   "execution_count": 0,
   "metadata": {
    "colab": {},
    "colab_type": "code",
    "id": "VxxAOfBBtprl"
   },
   "outputs": [],
   "source": [
    "from sklearn.feature_extraction.text import TfidfVectorizer\n",
    "tf=TfidfVectorizer(ngram_range=(1,3),max_features=10000,max_df=0.8)\n",
    "trainngram1=tf.fit_transform(xtrainfinal)\n",
    "testngram1=tf.transform(xtestfinal)"
   ]
  },
  {
   "cell_type": "code",
   "execution_count": 0,
   "metadata": {
    "colab": {},
    "colab_type": "code",
    "id": "1Np94Pqbtprm",
    "outputId": "6acf2923-c3ab-4a96-c914-4fe80f4de60a"
   },
   "outputs": [
    {
     "name": "stdout",
     "output_type": "stream",
     "text": [
      "{'estimator__alpha': 1000}\n"
     ]
    }
   ],
   "source": [
    "import warnings\n",
    "warnings.filterwarnings('ignore')\n",
    "from sklearn.model_selection import RandomizedSearchCV\n",
    "from sklearn.linear_model import SGDClassifier\n",
    "mod=OneVsRestClassifier(SGDClassifier(loss='hinge'))\n",
    "hyperparameters={'estimator__alpha':[10**-3,10**-2,10**-1,10**0,10**1,10**2,10**3]}\n",
    "mod1=RandomizedSearchCV(mod,hyperparameters,scoring='f1_micro')\n",
    "mod1.fit(trainngram,ytrain)\n",
    "print(mod1.best_params_)"
   ]
  },
  {
   "cell_type": "code",
   "execution_count": 0,
   "metadata": {
    "colab": {},
    "colab_type": "code",
    "id": "gsaKOE8rtprn",
    "outputId": "9f07aeca-657e-415c-82af-1224c81cccb2"
   },
   "outputs": [
    {
     "name": "stdout",
     "output_type": "stream",
     "text": [
      "micro f1-score 0.3149394347240915\n",
      "macro f1_score 0.07739143390764251\n",
      "hamming_loss 0.2153737658674189\n",
      "precision_score 0.24753173483779972\n",
      "recall_score 0.43279901356350187\n"
     ]
    }
   ],
   "source": [
    "from sklearn.svm import SVC\n",
    "from sklearn.linear_model import SGDClassifier\n",
    "mod=SGDClassifier(loss='hinge',alpha=1000)\n",
    "mod1=OneVsRestClassifier(mod)\n",
    "mod1.fit(trainngram,ytrain)\n",
    "predicty=mod1.predict(testngram)\n",
    "print('micro f1-score',metrics.f1_score(ytest,predicty,average='micro'))\n",
    "print('macro f1_score',metrics.f1_score(ytest,predicty,average='macro'))\n",
    "print('hamming_loss',metrics.hamming_loss(ytest,predicty))\n",
    "print('precision_score',metrics.precision_score(ytest,predicty,average='micro'))\n",
    "print('recall_score',metrics.recall_score(ytest,predicty,average='micro'))"
   ]
  },
  {
   "cell_type": "code",
   "execution_count": 0,
   "metadata": {
    "colab": {},
    "colab_type": "code",
    "id": "z04Oavjutprp",
    "outputId": "934050a3-71a3-43ae-c288-12d96b35b8bb"
   },
   "outputs": [
    {
     "name": "stdout",
     "output_type": "stream",
     "text": [
      "{'estimator__alpha': 1000}\n"
     ]
    }
   ],
   "source": [
    "import warnings\n",
    "warnings.filterwarnings('ignore')\n",
    "from sklearn.model_selection import RandomizedSearchCV\n",
    "from sklearn.linear_model import SGDClassifier\n",
    "mod=OneVsRestClassifier(SGDClassifier(loss='log'))\n",
    "hyperparameters={'estimator__alpha':[10**-3,10**-2,10**-1,10**0,10**1,10**2,10**3]}\n",
    "mod1=RandomizedSearchCV(mod,hyperparameters,scoring='f1_micro')\n",
    "mod1.fit(trainngram,ytrain)\n",
    "print(mod1.best_params_)"
   ]
  },
  {
   "cell_type": "code",
   "execution_count": 0,
   "metadata": {
    "colab": {},
    "colab_type": "code",
    "id": "jxVDEMeZtprq",
    "outputId": "bbd08bab-c694-4526-e841-dfd0b7df0011"
   },
   "outputs": [
    {
     "name": "stdout",
     "output_type": "stream",
     "text": [
      "micro f1-score 0.3084962260499323\n",
      "macro f1_score 0.08866093371435395\n",
      "hamming_loss 0.25197461212976024\n",
      "precision_score 0.22482369534555713\n",
      "recall_score 0.4913686806411837\n"
     ]
    }
   ],
   "source": [
    "from sklearn.svm import SVC\n",
    "from sklearn.linear_model import SGDClassifier\n",
    "mod=SGDClassifier(loss='log',alpha=1000)\n",
    "mod1=OneVsRestClassifier(mod)\n",
    "mod1.fit(trainngram,ytrain)\n",
    "predicty=mod1.predict(testngram)\n",
    "print('micro f1-score',metrics.f1_score(ytest,predicty,average='micro'))\n",
    "print('macro f1_score',metrics.f1_score(ytest,predicty,average='macro'))\n",
    "print('hamming_loss',metrics.hamming_loss(ytest,predicty))\n",
    "print('precision_score',metrics.precision_score(ytest,predicty,average='micro'))\n",
    "print('recall_score',metrics.recall_score(ytest,predicty,average='micro'))"
   ]
  },
  {
   "cell_type": "markdown",
   "metadata": {
    "colab_type": "text",
    "id": "-ug9wViBtprs"
   },
   "source": [
    "# ANALYSIS ON TAGS..."
   ]
  },
  {
   "cell_type": "code",
   "execution_count": 0,
   "metadata": {
    "colab": {},
    "colab_type": "code",
    "id": "JGZgiCLUtprs"
   },
   "outputs": [],
   "source": [
    "from sklearn.feature_extraction.text import CountVectorizer\n",
    "vec=CountVectorizer(tokenizer=lambda x: x.split(','))\n",
    "multilabely=vec.fit_transform(data['tags'])"
   ]
  },
  {
   "cell_type": "code",
   "execution_count": 0,
   "metadata": {
    "colab": {},
    "colab_type": "code",
    "id": "D1I3iX-xtpru",
    "outputId": "369be253-b2a2-4643-bebc-cfee309d4bc6"
   },
   "outputs": [
    {
     "data": {
      "text/plain": [
       "(14177, 71)"
      ]
     },
     "execution_count": 383,
     "metadata": {
      "tags": []
     },
     "output_type": "execute_result"
    }
   ],
   "source": [
    "multilabely.shape"
   ]
  },
  {
   "cell_type": "code",
   "execution_count": 0,
   "metadata": {
    "colab": {},
    "colab_type": "code",
    "id": "Vg8fUApbtprw"
   },
   "outputs": [],
   "source": [
    "t=multilabely.sum(axis=0).tolist()[0]\n",
    "sortedtags=sorted(range(len(t)),key=lambda i :t[i],reverse=True)\n",
    "multilabely1=multilabely[:,sortedtags[:70]]"
   ]
  },
  {
   "cell_type": "code",
   "execution_count": 0,
   "metadata": {
    "colab": {},
    "colab_type": "code",
    "id": "wW_q4F6Dtprw",
    "outputId": "29ba6add-7944-4975-9ae6-7a0cc801d922"
   },
   "outputs": [
    {
     "name": "stdout",
     "output_type": "stream",
     "text": [
      "(14177, 8)\n",
      "29\n"
     ]
    }
   ],
   "source": [
    "x=multilabely1.sum(axis=1)\n",
    "y=np.where(x==0)[0]\n",
    "print(data.shape)\n",
    "print(len(y))"
   ]
  },
  {
   "cell_type": "code",
   "execution_count": 0,
   "metadata": {
    "colab": {},
    "colab_type": "code",
    "id": "Y1vNFXJqtpry"
   },
   "outputs": [],
   "source": [
    "def numberoftags(n):\n",
    "    t1=multilabely.sum(axis=0).tolist()[0]\n",
    "    sortedtags=sorted(range(len(t)),key=lambda i :t[i],reverse=True)\n",
    "    multilabelyq=multilabely[:,sortedtags[:n]]\n",
    "    return multilabelyq"
   ]
  },
  {
   "cell_type": "code",
   "execution_count": 0,
   "metadata": {
    "colab": {},
    "colab_type": "code",
    "id": "cdmSWspKtpr0"
   },
   "outputs": [],
   "source": [
    "def numberofpointscovered(n1):\n",
    "    multilabelyq=numberoftags(n1)\n",
    "    x=multilabelyq.sum(axis=1)\n",
    "    y=np.where(x!=0)[0]\n",
    "    #print(y)\n",
    "    return len(y)\n",
    "    "
   ]
  },
  {
   "cell_type": "code",
   "execution_count": 0,
   "metadata": {
    "colab": {},
    "colab_type": "code",
    "id": "m2vDmAgTtpr1",
    "outputId": "1b7a49ab-41fb-4279-a644-ef8279d5b3a9"
   },
   "outputs": [
    {
     "name": "stdout",
     "output_type": "stream",
     "text": [
      "12970\n"
     ]
    }
   ],
   "source": [
    "multilabelyq=numberoftags(20)\n",
    "x=multilabelyq.sum(axis=1)\n",
    "y=np.where(x!=0)[0]\n",
    "print(len(y))"
   ]
  },
  {
   "cell_type": "code",
   "execution_count": 0,
   "metadata": {
    "colab": {},
    "colab_type": "code",
    "id": "lP55025Itpr2",
    "outputId": "b624217a-72a4-4658-9b1c-ed1bfb0a9ca3"
   },
   "outputs": [
    {
     "name": "stdout",
     "output_type": "stream",
     "text": [
      "[0, 12213, 12970, 13406, 13699, 13899, 14060]\n"
     ]
    },
    {
     "data": {
      "image/png": "[encoded data removed]",
      "text/plain": [
       "<matplotlib.figure.Figure at 0x26c7ac72b70>"
      ]
     },
     "metadata": {
      "needs_background": "light",
      "tags": []
     },
     "output_type": "display_data"
    }
   ],
   "source": [
    "numberofpointscovered1=[]\n",
    "c=[]\n",
    "for i in range(0,70,10):\n",
    "    c.append(i)\n",
    "    numberofpointscovered1.append(numberofpointscovered(i))\n",
    "print(numberofpointscovered1)\n",
    "fig,ax=plt.subplots()\n",
    "ax.plot(c,numberofpointscovered1)\n",
    "plt.xlabel('number of tags')\n",
    "plt.ylabel('number of questions covered partially')\n",
    "plt.grid()\n",
    "plt.show()"
   ]
  },
  {
   "cell_type": "code",
   "execution_count": 0,
   "metadata": {
    "colab": {},
    "colab_type": "code",
    "id": "UtgaYs7Utpr4"
   },
   "outputs": [],
   "source": [
    "listofsent=[]\n",
    "for sent in xtrainfinal:\n",
    "    listofsent.append(sent.split(' '))"
   ]
  },
  {
   "cell_type": "code",
   "execution_count": 0,
   "metadata": {
    "colab": {},
    "colab_type": "code",
    "id": "5BK6uqpctpr5"
   },
   "outputs": [],
   "source": [
    "from gensim.models import Word2Vec\n",
    "model=Word2Vec(listofsent,min_count=5,size=50,workers=-1)\n"
   ]
  },
  {
   "cell_type": "code",
   "execution_count": 0,
   "metadata": {
    "colab": {},
    "colab_type": "code",
    "id": "mdlFRepotpr6"
   },
   "outputs": [],
   "source": [
    "word2vecwords=list(model.wv.vocab)"
   ]
  },
  {
   "cell_type": "code",
   "execution_count": 0,
   "metadata": {
    "colab": {},
    "colab_type": "code",
    "id": "WA4AFOe2tpr7",
    "outputId": "fc8730c4-7fc0-4d13-8252-47ef2e6a6136"
   },
   "outputs": [
    {
     "name": "stderr",
     "output_type": "stream",
     "text": [
      "100%|████████████████████████████████████████████████████████████████████████████| 11341/11341 [28:58<00:00,  5.69it/s]\n"
     ]
    }
   ],
   "source": [
    "sentencevectors=[]\n",
    "for sent in tqdm(xtrainfinal):\n",
    "    sentvec=np.zeros(50)\n",
    "    countwords=0\n",
    "    for word in sent.split(' '):\n",
    "        if word in word2vecwords:\n",
    "            vec=model.wv[word]\n",
    "            sentvec+=vec\n",
    "            countwords+=1\n",
    "    if countwords!=0:\n",
    "        sentvec/=countwords\n",
    "    sentencevectors.append(sentvec)\n",
    "        "
   ]
  },
  {
   "cell_type": "code",
   "execution_count": 0,
   "metadata": {
    "colab": {},
    "colab_type": "code",
    "id": "4E9SkotLtpr8",
    "outputId": "3c36e3cf-36b5-42ed-b002-e5132c3c320b"
   },
   "outputs": [
    {
     "name": "stdout",
     "output_type": "stream",
     "text": [
      "11341\n",
      "50\n"
     ]
    }
   ],
   "source": [
    "print(len(sentencevectors))\n",
    "print(len(sentencevectors[0]))"
   ]
  },
  {
   "cell_type": "code",
   "execution_count": 0,
   "metadata": {
    "colab": {},
    "colab_type": "code",
    "id": "otnizbjqtpr-",
    "outputId": "a54a1790-4e4d-4d8e-cd33-ed609879671c"
   },
   "outputs": [
    {
     "name": "stderr",
     "output_type": "stream",
     "text": [
      "100%|██████████████████████████████████████████████████████████████████████████████| 2836/2836 [09:25<00:00,  5.80it/s]\n"
     ]
    }
   ],
   "source": [
    "sentencevectorstest=[]\n",
    "for sent in tqdm(xtestfinal):\n",
    "    sentvec1=np.zeros(50)\n",
    "    countwordstest=0\n",
    "    for word in sent.split(' '):\n",
    "        if word in word2vecwords:\n",
    "            vec=model.wv[word]\n",
    "            sentvec1+=vec\n",
    "            countwordstest+=1\n",
    "    if countwordstest!=0:\n",
    "        sentvec1/=countwordstest\n",
    "    sentencevectorstest.append(sentvec1)"
   ]
  },
  {
   "cell_type": "code",
   "execution_count": 0,
   "metadata": {
    "colab": {},
    "colab_type": "code",
    "id": "WvglbPZqtpr_"
   },
   "outputs": [],
   "source": [
    "countvect1=CountVectorizer(tokenizer=lambda x:x.split(','))\n",
    "ytrain=countvect1.fit_transform(ytrainfinal)\n",
    "ytest=countvect1.transform(ytestfinal)"
   ]
  },
  {
   "cell_type": "code",
   "execution_count": 0,
   "metadata": {
    "colab": {},
    "colab_type": "code",
    "id": "fGwMBD1ktpsA",
    "outputId": "826b85dc-0c55-4583-9271-76be0147d665"
   },
   "outputs": [
    {
     "name": "stdout",
     "output_type": "stream",
     "text": [
      "{'estimator__alpha': 1000}\n"
     ]
    }
   ],
   "source": [
    "import warnings\n",
    "from sklearn.linear_model import SGDClassifier\n",
    "warnings.filterwarnings('ignore')\n",
    "from sklearn.model_selection import RandomizedSearchCV\n",
    "hyperparameter={\"estimator__alpha\":[10**-3,10**-2,10**-1,10**0,10**1,10**2,10**3]}\n",
    "mod=OneVsRestClassifier(SGDClassifier(loss='hinge'))\n",
    "mod1=RandomizedSearchCV(mod,hyperparameter,scoring='f1_micro')\n",
    "mod1.fit(sentencevectors,ytrain)\n",
    "print(mod1.best_params_)"
   ]
  },
  {
   "cell_type": "code",
   "execution_count": 0,
   "metadata": {
    "colab": {},
    "colab_type": "code",
    "id": "NpjFcRk0tpsC",
    "outputId": "25367183-d15d-4d09-bc5d-7a0b1e667f0f"
   },
   "outputs": [
    {
     "name": "stdout",
     "output_type": "stream",
     "text": [
      "micro f1-score 0.3400980659220921\n",
      "macro f1_score 0.07916475394733535\n",
      "hamming_loss 0.2009873060648801\n",
      "precision_score 0.29348848142924305\n",
      "recall_score 0.40430699481865284\n"
     ]
    }
   ],
   "source": [
    "from sklearn import metrics\n",
    "mod=SGDClassifier(alpha=100,loss='hinge')\n",
    "mod1=OneVsRestClassifier(mod)\n",
    "mod1.fit(sentencevectors,ytrain)\n",
    "predicty=mod1.predict(sentencevectorstest)\n",
    "print('micro f1-score',metrics.f1_score(ytest,predicty,average='micro'))\n",
    "print('macro f1_score',metrics.f1_score(ytest,predicty,average='macro'))\n",
    "print('hamming_loss',metrics.hamming_loss(ytest,predicty))\n",
    "print('precision_score',metrics.precision_score(ytest,predicty,average='micro'))\n",
    "print('recall_score',metrics.recall_score(ytest,predicty,average='micro'))"
   ]
  },
  {
   "cell_type": "code",
   "execution_count": 0,
   "metadata": {
    "colab": {},
    "colab_type": "code",
    "id": "wURdUqKmtpsE",
    "outputId": "dc0b4ce5-34ea-4a99-d214-bb0af50bd034"
   },
   "outputs": [
    {
     "name": "stdout",
     "output_type": "stream",
     "text": [
      "{'estimator__alpha': 100}\n"
     ]
    }
   ],
   "source": [
    "import warnings\n",
    "from sklearn.linear_model import SGDClassifier\n",
    "warnings.filterwarnings('ignore')\n",
    "from sklearn.model_selection import RandomizedSearchCV\n",
    "hyperparameter={\"estimator__alpha\":[10**-3,10**-2,10**-1,10**0,10**1,10**2,10**3]}\n",
    "mod=OneVsRestClassifier(SGDClassifier(loss='log'))\n",
    "mod1=RandomizedSearchCV(mod,hyperparameter,scoring='f1_micro')\n",
    "mod1.fit(sentencevectors,ytrain)\n",
    "print(mod1.best_params_)"
   ]
  },
  {
   "cell_type": "code",
   "execution_count": 0,
   "metadata": {
    "colab": {},
    "colab_type": "code",
    "id": "OwQgawTetpsF",
    "outputId": "8925b74e-4230-4445-f405-931ab2e15e9d"
   },
   "outputs": [
    {
     "name": "stdout",
     "output_type": "stream",
     "text": [
      "micro f1-score 0.3315172977390357\n",
      "macro f1_score 0.0773164992305504\n",
      "hamming_loss 0.20360076329544513\n",
      "precision_score 0.2860836859426422\n",
      "recall_score 0.3941062176165803\n"
     ]
    }
   ],
   "source": [
    "from sklearn import metrics\n",
    "mod=SGDClassifier(alpha=100,loss='log')\n",
    "mod1=OneVsRestClassifier(mod)\n",
    "mod1.fit(sentencevectors,ytrain)\n",
    "predicty=mod1.predict(sentencevectorstest)\n",
    "print('micro f1-score',metrics.f1_score(ytest,predicty,average='micro'))\n",
    "print('macro f1_score',metrics.f1_score(ytest,predicty,average='macro'))\n",
    "print('hamming_loss',metrics.hamming_loss(ytest,predicty))\n",
    "print('precision_score',metrics.precision_score(ytest,predicty,average='micro'))\n",
    "print('recall_score',metrics.recall_score(ytest,predicty,average='micro'))"
   ]
  },
  {
   "cell_type": "code",
   "execution_count": 0,
   "metadata": {
    "colab": {},
    "colab_type": "code",
    "id": "xGNNzoQCtpsH"
   },
   "outputs": [],
   "source": [
    "from sklearn.feature_extraction.text import TfidfVectorizer\n",
    "tfidf=TfidfVectorizer()\n",
    "traintfidf=tfidf.fit_transform(xtrainfinal)\n",
    "features=tfidf.get_feature_names()\n",
    "dictionary=dict(zip(features,tfidf.idf_))"
   ]
  },
  {
   "cell_type": "code",
   "execution_count": null,
   "metadata": {},
   "outputs": [],
   "source": [
    "sentencevectorstfidf=[]\n",
    "for sent in tqdm(xtrainfinal):\n",
    "    countwordss=0\n",
    "    vec=np.zeros(50)\n",
    "    for word in sent.split(' ') :\n",
    "        \n",
    "        if word in word2vecwords and word in features:\n",
    "            w2v=model.wv[word]\n",
    "            tfidfvalue=dictionary[word]*(sent.count(word)/len(sent))\n",
    "            outvec=w2v*tfidfvalue\n",
    "            vec+=outvec\n",
    "            countwordss+=1\n",
    "    if countwordss!=0:\n",
    "        vec/=countwordss\n",
    "    sentencevectorstfidf.append(vec)            \n",
    "        "
   ]
  },
  {
   "cell_type": "code",
   "execution_count": null,
   "metadata": {},
   "outputs": [],
   "source": [
    "sentencevectorstfidftest=[]\n",
    "for sent in tqdm(xtestfinal):\n",
    "    countwordss=0\n",
    "    vec=np.zeros(50)\n",
    "    for word in sent.split(' ') :\n",
    "        \n",
    "        if word in word2vecwords and word in features:\n",
    "            w2v=model.wv[word]\n",
    "            tfidfvalue=dictionary[word]*(sent.count(word)/len(sent))\n",
    "            outvec=w2v*tfidfvalue\n",
    "            vec+=outvec\n",
    "            countwordss+=1\n",
    "    if countwordss!=0:\n",
    "        vec/=countwordss\n",
    "    sentencevectorstfidftest.append(vec)            \n",
    "        "
   ]
  },
  {
   "cell_type": "code",
   "execution_count": 0,
   "metadata": {
    "colab": {},
    "colab_type": "code",
    "id": "NfP_ASMXtpsS"
   },
   "outputs": [],
   "source": [
    "countvect1=CountVectorizer(tokenizer=lambda x:x.split(','))\n",
    "ytrain=countvect1.fit_transform(ytrainfinal)\n",
    "ytest=countvect1.transform(ytestfinal)"
   ]
  },
  {
   "cell_type": "code",
   "execution_count": 0,
   "metadata": {
    "colab": {},
    "colab_type": "code",
    "id": "sjXH1EmXtpsT",
    "outputId": "b9b58a53-af61-400a-a746-18af688300ae"
   },
   "outputs": [
    {
     "name": "stdout",
     "output_type": "stream",
     "text": [
      "{'estimator__alpha': 100}\n"
     ]
    }
   ],
   "source": [
    "import warnings\n",
    "from sklearn.linear_model import SGDClassifier\n",
    "warnings.filterwarnings('ignore')\n",
    "from sklearn.model_selection import RandomizedSearchCV\n",
    "hyperparameter={\"estimator__alpha\":[10**-3,10**-2,10**-1,10**0,10**1,10**2,10**3]}\n",
    "mod=OneVsRestClassifier(SGDClassifier(loss='hinge',random_state=42))\n",
    "mod1=RandomizedSearchCV(mod,hyperparameter,scoring='f1_micro')\n",
    "mod1.fit(sentencevectorstfidf,ytrain)\n",
    "print(mod1.best_params_)"
   ]
  },
  {
   "cell_type": "code",
   "execution_count": 0,
   "metadata": {
    "colab": {},
    "colab_type": "code",
    "id": "n6yXTiR1tpsV",
    "outputId": "d4a65038-cfd9-4fdb-da12-2f7c081c0679"
   },
   "outputs": [
    {
     "name": "stdout",
     "output_type": "stream",
     "text": [
      "micro f1-score 0.35564159292035397\n",
      "macro f1_score 0.10120757877274977\n",
      "hamming_loss 0.24647390691114246\n",
      "precision_score 0.3400916784203103\n",
      "recall_score 0.37268160741885625\n"
     ]
    }
   ],
   "source": [
    "from sklearn import metrics\n",
    "mod=SGDClassifier(alpha=100,loss='hinge')\n",
    "mod1=OneVsRestClassifier(mod)\n",
    "mod1.fit(sentencevectorstfidf,ytrain)\n",
    "predicty=mod1.predict(sentencevectorstfidftest)\n",
    "print('micro f1-score',metrics.f1_score(ytest,predicty,average='micro'))\n",
    "print('macro f1_score',metrics.f1_score(ytest,predicty,average='macro'))\n",
    "print('hamming_loss',metrics.hamming_loss(ytest,predicty))\n",
    "print('precision_score',metrics.precision_score(ytest,predicty,average='micro'))\n",
    "print('recall_score',metrics.recall_score(ytest,predicty,average='micro'))"
   ]
  },
  {
   "cell_type": "code",
   "execution_count": 0,
   "metadata": {
    "colab": {},
    "colab_type": "code",
    "id": "ukQQUboQtpsY",
    "outputId": "a462da48-f9ac-452b-d1c9-6366b6138234"
   },
   "outputs": [
    {
     "name": "stdout",
     "output_type": "stream",
     "text": [
      "{'estimator__alpha': 100}\n"
     ]
    }
   ],
   "source": [
    "import warnings\n",
    "from sklearn.linear_model import SGDClassifier\n",
    "warnings.filterwarnings('ignore')\n",
    "from sklearn.model_selection import RandomizedSearchCV\n",
    "hyperparameter={\"estimator__alpha\":[10**-3,10**-2,10**-1,10**0,10**1,10**2,10**3]}\n",
    "mod=OneVsRestClassifier(SGDClassifier(loss='log',random_state=42))\n",
    "mod1=RandomizedSearchCV(mod,hyperparameter,scoring='f1_micro')\n",
    "mod1.fit(sentencevectorstfidf,ytrain)\n",
    "print(mod1.best_params_)"
   ]
  },
  {
   "cell_type": "code",
   "execution_count": 0,
   "metadata": {
    "colab": {},
    "colab_type": "code",
    "id": "w7J8b9totpsa",
    "outputId": "3a8ccdd7-a5d2-4152-ce38-80512c733061"
   },
   "outputs": [
    {
     "name": "stdout",
     "output_type": "stream",
     "text": [
      "micro f1-score 0.3465592064476131\n",
      "macro f1_score 0.1868933621691792\n",
      "hamming_loss 0.4459802538787024\n",
      "precision_score 0.23653032440056418\n",
      "recall_score 0.6479907264296755\n"
     ]
    }
   ],
   "source": [
    "from sklearn import metrics\n",
    "mod=SGDClassifier(alpha=100,loss='log')\n",
    "mod1=OneVsRestClassifier(mod)\n",
    "mod1.fit(sentencevectorstfidf,ytrain)\n",
    "predicty=mod1.predict(sentencevectorstfidftest)\n",
    "print('micro f1-score',metrics.f1_score(ytest,predicty,average='micro'))\n",
    "print('macro f1_score',metrics.f1_score(ytest,predicty,average='macro'))\n",
    "print('hamming_loss',metrics.hamming_loss(ytest,predicty))\n",
    "print('precision_score',metrics.precision_score(ytest,predicty,average='micro'))\n",
    "print('recall_score',metrics.recall_score(ytest,predicty,average='micro'))"
   ]
  },
  {
   "cell_type": "markdown",
   "metadata": {},
   "source": [
    "# --------------------------------------------------------------------------------------------------------------------------------------------------"
   ]
  },
  {
   "cell_type": "markdown",
   "metadata": {
    "colab_type": "text",
    "id": "FsZF0Llxtpsn"
   },
   "source": [
    "# FEATURE ENGINEERING (MERGING FEATURES OF TITLE AND PLOT_SYNOPSIS)"
   ]
  },
  {
   "cell_type": "code",
   "execution_count": 0,
   "metadata": {
    "colab": {},
    "colab_type": "code",
    "id": "Hq8E5qkdtpso",
    "outputId": "f5fd96fe-4803-4451-8fe3-f838429f435e"
   },
   "outputs": [
    {
     "name": "stderr",
     "output_type": "stream",
     "text": [
      "100%|███████████████████████████████████████████████████████████████████████████| 14177/14177 [00:18<00:00, 748.78it/s]\n"
     ]
    }
   ],
   "source": [
    "# Combining all the above stundents \n",
    "from bs4 import BeautifulSoup\n",
    "plotsentences=[]\n",
    "from tqdm import tqdm\n",
    "textsentences = []\n",
    "# tqdm is for printing the status bar\n",
    "for sentance in tqdm(data['moviedata'].values):\n",
    "    sentance = re.sub(r\"http\\S+\", \"\", sentance)\n",
    "    sentance = BeautifulSoup(sentance, 'lxml').get_text()\n",
    "    sentance = decontracted(sentance)\n",
    "    sentance = re.sub(\"\\S*\\d\\S*\", \"\", sentance).strip()\n",
    "    sentance = re.sub('[^A-Za-z]+', ' ', sentance)\n",
    "    # https://gist.github.com/sebleier/554280\n",
    "    sentance = ' '.join(e.lower() for e in sentance.split() if e.lower() not in stopwords)\n",
    "    textsentences.append(sentance.strip())"
   ]
  },
  {
   "cell_type": "code",
   "execution_count": 0,
   "metadata": {
    "colab": {},
    "colab_type": "code",
    "id": "THHh-sEftpsp",
    "outputId": "dd2598c8-db20-48ad-e7bf-847cf18e3090"
   },
   "outputs": [
    {
     "data": {
      "text/plain": [
       "0            cult, horror, gothic, murder, atmospheric\n",
       "1                                             violence\n",
       "2                                             romantic\n",
       "3               inspiring, romantic, stupid, feel-good\n",
       "4    cruelty, murder, dramatic, cult, violence, atm...\n",
       "Name: tags, dtype: object"
      ]
     },
     "execution_count": 727,
     "metadata": {
      "tags": []
     },
     "output_type": "execute_result"
    }
   ],
   "source": [
    "data['moviedata']=textsentences\n",
    "data['tags'].head(5)"
   ]
  },
  {
   "cell_type": "code",
   "execution_count": 0,
   "metadata": {
    "colab": {},
    "colab_type": "code",
    "id": "YbaKXwG6tpsq"
   },
   "outputs": [],
   "source": [
    "from sklearn.model_selection import train_test_split\n",
    "xtr,xte,ytr,yte=train_test_split(textsentences,data['tags'],test_size=0.2)"
   ]
  },
  {
   "cell_type": "code",
   "execution_count": 0,
   "metadata": {
    "colab": {},
    "colab_type": "code",
    "id": "EUTtpWn5tpsr"
   },
   "outputs": [],
   "source": [
    "countvect1=CountVectorizer(tokenizer=lambda x:x.split(','))\n",
    "ytrain=countvect1.fit_transform(ytr)\n",
    "ytest=countvect1.transform(yte)"
   ]
  },
  {
   "cell_type": "code",
   "execution_count": 0,
   "metadata": {
    "colab": {},
    "colab_type": "code",
    "id": "nrAlPbXktpst"
   },
   "outputs": [],
   "source": [
    "from sklearn.feature_extraction.text import CountVectorizer\n",
    "ra=CountVectorizer(min_df=3,ngram_range=(1,3),max_features=25000)\n",
    "ngramtr=ra.fit_transform(xtr)\n",
    "ngramte=ra.transform(xte)"
   ]
  },
  {
   "cell_type": "code",
   "execution_count": 0,
   "metadata": {
    "colab": {},
    "colab_type": "code",
    "id": "08j3ihlbtpsv",
    "outputId": "394ff471-f514-495c-cb55-46a5ccbd82a2"
   },
   "outputs": [
    {
     "name": "stdout",
     "output_type": "stream",
     "text": [
      "{'estimator__alpha': 0.001}\n"
     ]
    }
   ],
   "source": [
    "import warnings\n",
    "from sklearn.linear_model import SGDClassifier\n",
    "warnings.filterwarnings('ignore')\n",
    "from sklearn.model_selection import RandomizedSearchCV\n",
    "hyperparameter={\"estimator__alpha\":[10**-3,10**-2,10**-1,10**0,10**1,10**2,10**3]}\n",
    "mod=OneVsRestClassifier(SGDClassifier(loss='hinge',random_state=42))\n",
    "mod1=RandomizedSearchCV(mod,hyperparameter,scoring='f1_micro')\n",
    "mod1.fit(ngramtr,ytrain)\n",
    "print(mod1.best_params_)"
   ]
  },
  {
   "cell_type": "code",
   "execution_count": 0,
   "metadata": {
    "colab": {},
    "colab_type": "code",
    "id": "PTykecwltpsx",
    "outputId": "5e5fa1fc-efa9-40af-81e7-387d49b7b1fd"
   },
   "outputs": [
    {
     "name": "stdout",
     "output_type": "stream",
     "text": [
      "micro f1-score 0.2946695535622229\n",
      "macro f1_score 0.23909081000145366\n",
      "hamming_loss 0.19297602256699578\n",
      "precision_score 0.28648757016840415\n",
      "recall_score 0.30333262576947567\n"
     ]
    }
   ],
   "source": [
    "from sklearn import metrics\n",
    "mod=SGDClassifier(alpha=0.001,loss='hinge')\n",
    "mod1=OneVsRestClassifier(mod)\n",
    "mod1.fit(ngramtr,ytrain)\n",
    "predicty=mod1.predict(ngramte)\n",
    "print('micro f1-score',metrics.f1_score(ytest,predicty,average='micro'))\n",
    "print('macro f1_score',metrics.f1_score(ytest,predicty,average='macro'))\n",
    "print('hamming_loss',metrics.hamming_loss(ytest,predicty))\n",
    "print('precision_score',metrics.precision_score(ytest,predicty,average='micro'))\n",
    "print('recall_score',metrics.recall_score(ytest,predicty,average='micro'))"
   ]
  },
  {
   "cell_type": "code",
   "execution_count": 0,
   "metadata": {
    "colab": {},
    "colab_type": "code",
    "id": "10I0FBqRtps0",
    "outputId": "5e881588-c225-4b13-dfbd-c9d981b6bde0"
   },
   "outputs": [
    {
     "name": "stdout",
     "output_type": "stream",
     "text": [
      "{'estimator__alpha': 0.01}\n"
     ]
    }
   ],
   "source": [
    "import warnings\n",
    "from sklearn.linear_model import SGDClassifier\n",
    "warnings.filterwarnings('ignore')\n",
    "from sklearn.model_selection import RandomizedSearchCV\n",
    "hyperparameter={\"estimator__alpha\":[10**-3,10**-2,10**-1,10**0,10**1,10**2,10**3]}\n",
    "mod=OneVsRestClassifier(SGDClassifier(loss='log',random_state=42))\n",
    "mod1=RandomizedSearchCV(mod,hyperparameter,scoring='f1_micro')\n",
    "mod1.fit(ngramtr,ytrain)\n",
    "print(mod1.best_params_)"
   ]
  },
  {
   "cell_type": "code",
   "execution_count": 0,
   "metadata": {
    "colab": {},
    "colab_type": "code",
    "id": "PbfatTtytps2",
    "outputId": "f50d0ae2-b88e-4901-84ee-a84f40f48764"
   },
   "outputs": [
    {
     "name": "stdout",
     "output_type": "stream",
     "text": [
      "micro f1-score 0.2957572767636902\n",
      "macro f1_score 0.22483701711167914\n",
      "hamming_loss 0.1610719322990127\n",
      "precision_score 0.3529584927877539\n",
      "recall_score 0.2545107195924432\n"
     ]
    }
   ],
   "source": [
    "from sklearn import metrics\n",
    "mod=SGDClassifier(alpha=0.01,loss='log')\n",
    "mod1=OneVsRestClassifier(mod)\n",
    "mod1.fit(ngramtr,ytrain)\n",
    "predicty=mod1.predict(ngramte)\n",
    "print('micro f1-score',metrics.f1_score(ytest,predicty,average='micro'))\n",
    "print('macro f1_score',metrics.f1_score(ytest,predicty,average='macro'))\n",
    "print('hamming_loss',metrics.hamming_loss(ytest,predicty))\n",
    "print('precision_score',metrics.precision_score(ytest,predicty,average='micro'))\n",
    "print('recall_score',metrics.recall_score(ytest,predicty,average='micro'))"
   ]
  },
  {
   "cell_type": "code",
   "execution_count": 0,
   "metadata": {
    "colab": {},
    "colab_type": "code",
    "id": "TFIuWXcotps4"
   },
   "outputs": [],
   "source": [
    "from sklearn.feature_extraction.text import TfidfVectorizer\n",
    "ngramtf=TfidfVectorizer(min_df=6,ngram_range=(1,3),max_features=30000)\n",
    "ngramtrtfidf=ngramtf.fit_transform(xtr)\n",
    "ngramtetfidf=ngramtf.transform(xte)"
   ]
  },
  {
   "cell_type": "code",
   "execution_count": 0,
   "metadata": {
    "colab": {},
    "colab_type": "code",
    "id": "innF3V11tps4",
    "outputId": "52cf1cfb-39e0-48c2-ba75-9eaa03d464df"
   },
   "outputs": [
    {
     "name": "stdout",
     "output_type": "stream",
     "text": [
      "{'estimator__alpha': 1000}\n"
     ]
    }
   ],
   "source": [
    "import warnings\n",
    "from sklearn.linear_model import SGDClassifier\n",
    "warnings.filterwarnings('ignore')\n",
    "from sklearn.model_selection import RandomizedSearchCV\n",
    "hyperparameter={\"estimator__alpha\":[10**-3,10**-2,10**-1,10**0,10**1,10**2,10**3]}\n",
    "mod=OneVsRestClassifier(SGDClassifier(loss='hinge'))\n",
    "mod1=RandomizedSearchCV(mod,hyperparameter,scoring='f1_micro')\n",
    "mod1.fit(ngramtrtfidf,ytrain)\n",
    "print(mod1.best_params_)"
   ]
  },
  {
   "cell_type": "code",
   "execution_count": 0,
   "metadata": {
    "colab": {},
    "colab_type": "code",
    "id": "-nVrDKlGtps5",
    "outputId": "374786e6-e253-4781-cb55-81c3d3f02fc6"
   },
   "outputs": [
    {
     "name": "stdout",
     "output_type": "stream",
     "text": [
      "micro f1-score 0.29800929789009417\n",
      "macro f1_score 0.22981753785566675\n",
      "hamming_loss 0.1661212976022567\n",
      "precision_score 0.33985861881457313\n",
      "recall_score 0.26533644661430694\n"
     ]
    }
   ],
   "source": [
    "from sklearn import metrics\n",
    "from sklearn.linear_model import SGDClassifier\n",
    "mod=SGDClassifier(alpha=1000,loss='hinge',class_weight='balanced')\n",
    "mod1=OneVsRestClassifier(mod)\n",
    "mod1.fit(ngramtr,ytrain)\n",
    "predicty=mod1.predict(ngramte)\n",
    "print('micro f1-score',metrics.f1_score(ytest,predicty,average='micro'))\n",
    "print('macro f1_score',metrics.f1_score(ytest,predicty,average='macro'))\n",
    "print('hamming_loss',metrics.hamming_loss(ytest,predicty))\n",
    "print('precision_score',metrics.precision_score(ytest,predicty,average='micro'))\n",
    "print('recall_score',metrics.recall_score(ytest,predicty,average='micro'))"
   ]
  },
  {
   "cell_type": "code",
   "execution_count": 0,
   "metadata": {
    "colab": {},
    "colab_type": "code",
    "id": "era2-HCgtps6",
    "outputId": "5620a0a3-2ef0-45f1-da89-4d6a77eaa456"
   },
   "outputs": [
    {
     "name": "stdout",
     "output_type": "stream",
     "text": [
      "{'estimator__alpha': 100}\n"
     ]
    }
   ],
   "source": [
    "import warnings\n",
    "from sklearn.linear_model import SGDClassifier\n",
    "warnings.filterwarnings('ignore')\n",
    "from sklearn.model_selection import RandomizedSearchCV\n",
    "hyperparameter={\"estimator__alpha\":[10**-3,10**-2,10**-1,10**0,10**1,10**2,10**3]}\n",
    "mod=OneVsRestClassifier(SGDClassifier(loss='log',random_state=42))\n",
    "mod1=RandomizedSearchCV(mod,hyperparameter,scoring='f1_micro')\n",
    "mod1.fit(ngramtrtfidf,ytrain)\n",
    "print(mod1.best_params_)"
   ]
  },
  {
   "cell_type": "code",
   "execution_count": 0,
   "metadata": {
    "colab": {},
    "colab_type": "code",
    "id": "zFlRuiSdtps8",
    "outputId": "382c4c21-bd9e-422e-9bce-3ea022758465"
   },
   "outputs": [
    {
     "name": "stdout",
     "output_type": "stream",
     "text": [
      "micro f1-score 0.29621408311752373\n",
      "macro f1_score 0.23087571681441726\n",
      "hamming_loss 0.16098730606488013\n",
      "precision_score 0.35344320188346084\n",
      "recall_score 0.2549352579070261\n"
     ]
    }
   ],
   "source": [
    "from sklearn import metrics\n",
    "mod=SGDClassifier(alpha=100,loss='log',class_weight='balanced')\n",
    "mod1=OneVsRestClassifier(mod)\n",
    "mod1.fit(ngramtr,ytrain)\n",
    "predicty=mod1.predict(ngramte)\n",
    "print('micro f1-score',metrics.f1_score(ytest,predicty,average='micro'))\n",
    "print('macro f1_score',metrics.f1_score(ytest,predicty,average='macro'))\n",
    "print('hamming_loss',metrics.hamming_loss(ytest,predicty))\n",
    "print('precision_score',metrics.precision_score(ytest,predicty,average='micro'))\n",
    "print('recall_score',metrics.recall_score(ytest,predicty,average='micro'))"
   ]
  },
  {
   "cell_type": "code",
   "execution_count": 0,
   "metadata": {
    "colab": {},
    "colab_type": "code",
    "id": "KzgcxGoXtps8",
    "outputId": "385c7fed-419a-4f1f-df5e-71ae8d053c24"
   },
   "outputs": [
    {
     "data": {
      "text/html": [
       "<div>\n",
       "<style scoped>\n",
       "    .dataframe tbody tr th:only-of-type {\n",
       "        vertical-align: middle;\n",
       "    }\n",
       "\n",
       "    .dataframe tbody tr th {\n",
       "        vertical-align: top;\n",
       "    }\n",
       "\n",
       "    .dataframe thead th {\n",
       "        text-align: right;\n",
       "    }\n",
       "</style>\n",
       "<table border=\"1\" class=\"dataframe\">\n",
       "  <thead>\n",
       "    <tr style=\"text-align: right;\">\n",
       "      <th></th>\n",
       "      <th>encoding</th>\n",
       "      <th>ngram</th>\n",
       "      <th>model</th>\n",
       "      <th>alpha</th>\n",
       "      <th>microf1</th>\n",
       "      <th>macrof1</th>\n",
       "      <th>ham-loss</th>\n",
       "      <th>precision</th>\n",
       "      <th>recall</th>\n",
       "    </tr>\n",
       "  </thead>\n",
       "  <tbody>\n",
       "    <tr>\n",
       "      <th>0</th>\n",
       "      <td>bow</td>\n",
       "      <td>ngram</td>\n",
       "      <td>svm</td>\n",
       "      <td>0.01</td>\n",
       "      <td>0.294</td>\n",
       "      <td>0.24</td>\n",
       "      <td>0.2</td>\n",
       "      <td>0.28</td>\n",
       "      <td>0.30</td>\n",
       "    </tr>\n",
       "    <tr>\n",
       "      <th>1</th>\n",
       "      <td>bow</td>\n",
       "      <td>ngram</td>\n",
       "      <td>log.reg.</td>\n",
       "      <td>0.01</td>\n",
       "      <td>0.295</td>\n",
       "      <td>0.224</td>\n",
       "      <td>0.161</td>\n",
       "      <td>0.35</td>\n",
       "      <td>0.2545</td>\n",
       "    </tr>\n",
       "    <tr>\n",
       "      <th>2</th>\n",
       "      <td>tfidf</td>\n",
       "      <td>ngram</td>\n",
       "      <td>svm</td>\n",
       "      <td>1000</td>\n",
       "      <td>0.298</td>\n",
       "      <td>0.229</td>\n",
       "      <td>0.166</td>\n",
       "      <td>0.339</td>\n",
       "      <td>0.265</td>\n",
       "    </tr>\n",
       "    <tr>\n",
       "      <th>3</th>\n",
       "      <td>tfidf</td>\n",
       "      <td>ngram</td>\n",
       "      <td>log.reg.</td>\n",
       "      <td>100</td>\n",
       "      <td>0.296</td>\n",
       "      <td>0.23</td>\n",
       "      <td>0.16</td>\n",
       "      <td>0.35</td>\n",
       "      <td>0.254</td>\n",
       "    </tr>\n",
       "  </tbody>\n",
       "</table>\n",
       "</div>"
      ],
      "text/plain": [
       "  encoding  ngram     model alpha microf1 macrof1 ham-loss precision  recall\n",
       "0      bow  ngram       svm  0.01   0.294    0.24      0.2      0.28    0.30\n",
       "1      bow  ngram  log.reg.  0.01   0.295   0.224    0.161      0.35  0.2545\n",
       "2    tfidf  ngram       svm  1000   0.298   0.229    0.166     0.339   0.265\n",
       "3    tfidf  ngram  log.reg.   100   0.296    0.23     0.16      0.35   0.254"
      ]
     },
     "execution_count": 832,
     "metadata": {
      "tags": []
     },
     "output_type": "execute_result"
    }
   ],
   "source": [
    "\n",
    "s=[['bow','bow','tfidf','tfidf'],['ngram','ngram','ngram','ngram'],['svm','log.reg.','svm','log.reg.'],['0.01','0.01','1000','100'],['0.294','0.295','0.298','0.296'],['0.24','0.224','0.229','0.23'],['0.2','0.161','0.166','0.16'],['0.28','0.35','0.339','0.35'],['0.30','0.2545','0.265','0.254']]\n",
    "s1=np.array(s)\n",
    "s2=s1.T\n",
    "x=pd.DataFrame(s2,columns=['encoding','ngram','model','alpha','microf1','macrof1','ham-loss','precision','recall'])\n",
    "x"
   ]
  },
  {
   "cell_type": "markdown",
   "metadata": {},
   "source": [
    "# -----------------------------------------------------------------------------------------------------------------------------------------------------------------------------------------------------------------------"
   ]
  },
  {
   "cell_type": "markdown",
   "metadata": {},
   "source": [
    "# NLTK PARTS OF SPEECH"
   ]
  },
  {
   "cell_type": "code",
   "execution_count": 0,
   "metadata": {
    "colab": {},
    "colab_type": "code",
    "id": "yeekLKMgtps_"
   },
   "outputs": [],
   "source": [
    "import nltk"
   ]
  },
  {
   "cell_type": "code",
   "execution_count": 0,
   "metadata": {
    "colab": {},
    "colab_type": "code",
    "id": "HYu6Y4W2tps_",
    "outputId": "149ea30e-2a37-4581-8d84-460f322f963d"
   },
   "outputs": [
    {
     "name": "stderr",
     "output_type": "stream",
     "text": [
      "[nltk_data] Downloading package averaged_perceptron_tagger to\n",
      "[nltk_data]     C:\\Users\\uib25207\\AppData\\Roaming\\nltk_data...\n",
      "[nltk_data]   Package averaged_perceptron_tagger is already up-to-\n",
      "[nltk_data]       date!\n"
     ]
    },
    {
     "data": {
      "text/plain": [
       "True"
      ]
     },
     "execution_count": 18,
     "metadata": {
      "tags": []
     },
     "output_type": "execute_result"
    }
   ],
   "source": [
    "nltk.download('averaged_perceptron_tagger')"
   ]
  },
  {
   "cell_type": "code",
   "execution_count": 0,
   "metadata": {
    "colab": {},
    "colab_type": "code",
    "id": "4LQPo5D7tptB",
    "outputId": "a90128ba-5edb-4046-b1ca-29c5fa3082ea"
   },
   "outputs": [
    {
     "name": "stdout",
     "output_type": "stream",
     "text": [
      "parts of sppech [('can', 'MD'), ('you', 'PRP'), ('please', 'VB'), ('buy', 'VB'), ('me', 'PRP'), ('tea', 'JJ')]\n"
     ]
    }
   ],
   "source": [
    "tokens=nltk.word_tokenize('can you please buy me tea')\n",
    "print('parts of sppech',nltk.pos_tag(tokens))"
   ]
  },
  {
   "cell_type": "code",
   "execution_count": 0,
   "metadata": {
    "colab": {},
    "colab_type": "code",
    "id": "05sN2MP4tptC",
    "outputId": "447ecbc8-0297-41af-96cb-34cf4a048494"
   },
   "outputs": [
    {
     "data": {
      "text/plain": [
       "13268    virginia lofton girl living older sister carol...\n",
       "13456    maan singh honest prithvi singh engaged legal ...\n",
       "13723    sunita asha parekh lives along widowed father ...\n",
       "8734     global warming rendered earth barely inhabitab...\n",
       "4322     entire movie takes place new york city except ...\n",
       "Name: plot_synopsis, dtype: object"
      ]
     },
     "execution_count": 524,
     "metadata": {
      "tags": []
     },
     "output_type": "execute_result"
    }
   ],
   "source": [
    "xtrainfinal.head(5)"
   ]
  },
  {
   "cell_type": "code",
   "execution_count": 0,
   "metadata": {
    "colab": {},
    "colab_type": "code",
    "id": "4StaThTdtptD"
   },
   "outputs": [],
   "source": [
    "str1=' '\n",
    "totalnewsynop=[]\n",
    "for sentence in xtrainfinal:\n",
    "    newsynop=[]\n",
    "    for token, pos in nltk.pos_tag(nltk.word_tokenize(sentence)):\n",
    "        if pos.startswith('N'or'V'or'R'or'J'):\n",
    "            if(len(token)>2):\n",
    "                newsynop.append(token)\n",
    "    str1=' '.join(newsynop)\n",
    "    totalnewsynop.append(str1)\n",
    "    \n",
    "    "
   ]
  },
  {
   "cell_type": "code",
   "execution_count": 0,
   "metadata": {
    "colab": {},
    "colab_type": "code",
    "id": "ZDdic8k_tptD"
   },
   "outputs": [],
   "source": [
    "str1=' '\n",
    "totalnewsynop1=[]\n",
    "for sentence in xtestfinal:\n",
    "    newsynop=[]\n",
    "    for token, pos in nltk.pos_tag(nltk.word_tokenize(sentence)):\n",
    "        if pos.startswith('N'or'V'or'R'or'J'):\n",
    "            if(len(token)>2):\n",
    "                newsynop.append(token)\n",
    "    str1=' '.join(newsynop)\n",
    "    totalnewsynop1.append(str1)\n",
    "    \n",
    "    "
   ]
  },
  {
   "cell_type": "code",
   "execution_count": 0,
   "metadata": {
    "colab": {},
    "colab_type": "code",
    "id": "pVaI1TwwtptE"
   },
   "outputs": [],
   "source": [
    "xtrainfinal['final_synopsis']=totalnewsynop\n",
    "xtestfinal['final_synopsis']=totalnewsynop1"
   ]
  },
  {
   "cell_type": "code",
   "execution_count": 0,
   "metadata": {
    "colab": {},
    "colab_type": "code",
    "id": "VCFHT0AItptE"
   },
   "outputs": [],
   "source": [
    "countvect1=CountVectorizer(tokenizer=lambda x:x.split(','))\n",
    "ytrain=countvect1.fit_transform(ytrainfinal)\n",
    "ytest=countvect1.transform(ytestfinal)"
   ]
  },
  {
   "cell_type": "code",
   "execution_count": 0,
   "metadata": {
    "colab": {},
    "colab_type": "code",
    "id": "piFPnfNitptF"
   },
   "outputs": [],
   "source": [
    "from sklearn.feature_extraction.text  import TfidfVectorizer\n",
    "tfidf=TfidfVectorizer(max_features=10000,max_df=6)\n",
    "xtrain=tfidf.fit_transform(xtrainfinal['final_synopsis'])\n",
    "xtest=tfidf.transform(xtestfinal['final_synopsis'])"
   ]
  },
  {
   "cell_type": "code",
   "execution_count": 0,
   "metadata": {
    "colab": {},
    "colab_type": "code",
    "id": "j5EK5AoftptH",
    "outputId": "e729ed44-2e0a-4a94-a4fe-83ee4522ebd1"
   },
   "outputs": [
    {
     "name": "stdout",
     "output_type": "stream",
     "text": [
      "{'estimator__alpha': 100}\n"
     ]
    }
   ],
   "source": [
    "import warnings\n",
    "from sklearn.linear_model import SGDClassifier\n",
    "warnings.filterwarnings('ignore')\n",
    "from sklearn.model_selection import RandomizedSearchCV\n",
    "hyperparameter={\"estimator__alpha\":[10**-3,10**-2,10**-1,10**0,10**1,10**2,10**3]}\n",
    "mod=OneVsRestClassifier(SGDClassifier(loss='log',random_state=42))\n",
    "mod1=RandomizedSearchCV(mod,hyperparameter,scoring='f1_micro')\n",
    "mod1.fit(xtrain,ytrain)\n",
    "print(mod1.best_params_)"
   ]
  },
  {
   "cell_type": "code",
   "execution_count": 0,
   "metadata": {
    "colab": {},
    "colab_type": "code",
    "id": "va_urwyytptI",
    "outputId": "10f027be-8e32-4ee3-ff94-207b4311834e"
   },
   "outputs": [
    {
     "name": "stdout",
     "output_type": "stream",
     "text": [
      "micro f1-score 0.3658775190765017\n",
      "macro f1_score 0.30468696106325177\n",
      "hamming_loss 0.22856135401974612\n",
      "precision_score 0.37059056678557273\n",
      "recall_score 0.36128284389489956\n"
     ]
    }
   ],
   "source": [
    "from sklearn.linear_model import SGDClassifier\n",
    "from sklearn.multiclass import OneVsRestClassifier\n",
    "from sklearn.tree import DecisionTreeClassifier\n",
    "\n",
    "from sklearn import metrics\n",
    "mod=SGDClassifier(loss='log',alpha=100)\n",
    "mod1=OneVsRestClassifier(mod)\n",
    "mod1.fit(xtrain,ytrain)\n",
    "predicty=mod1.predict(xtest)\n",
    "print('micro f1-score',metrics.f1_score(ytest,predicty,average='micro'))\n",
    "print('macro f1_score',metrics.f1_score(ytest,predicty,average='macro'))\n",
    "print('hamming_loss',metrics.hamming_loss(ytest,predicty))\n",
    "print('precision_score',metrics.precision_score(ytest,predicty,average='micro'))\n",
    "print('recall_score',metrics.recall_score(ytest,predicty,average='micro'))"
   ]
  },
  {
   "cell_type": "code",
   "execution_count": 0,
   "metadata": {
    "colab": {},
    "colab_type": "code",
    "id": "YbkjSLiItptJ"
   },
   "outputs": [],
   "source": [
    "from sklearn.feature_extraction.text import CountVectorizer\n",
    "ve=CountVectorizer(max_df=0.8, max_features=20000,tokenizer = lambda x: x.split(),ngram_range=(1,3))\n",
    "xtrain=ve.fit_transform(xtrainfinal['final_synopsis'])\n",
    "xtest=ve.transform(xtestfinal['final_synopsis'])"
   ]
  },
  {
   "cell_type": "code",
   "execution_count": 0,
   "metadata": {
    "colab": {},
    "colab_type": "code",
    "id": "q01C3LAEtptJ"
   },
   "outputs": [],
   "source": [
    "from sklearn.preprocessing import StandardScaler\n",
    "scale=StandardScaler(with_mean=False)\n",
    "xtrain=scale.fit_transform(xtrain)\n",
    "xtest=scale.fit_transform(xtest)"
   ]
  },
  {
   "cell_type": "code",
   "execution_count": 0,
   "metadata": {
    "colab": {},
    "colab_type": "code",
    "id": "HxHnQ-BptptK",
    "outputId": "4338b298-0a83-44e4-f4fb-83559c416c82"
   },
   "outputs": [
    {
     "name": "stdout",
     "output_type": "stream",
     "text": [
      "{'estimator__alpha': 0.001}\n"
     ]
    }
   ],
   "source": [
    "import warnings\n",
    "from sklearn.linear_model import SGDClassifier\n",
    "warnings.filterwarnings('ignore')\n",
    "from sklearn.model_selection import RandomizedSearchCV\n",
    "hyperparameter={\"estimator__alpha\":[10**-3,10**-2,10**-1,10**0,10**1,10**2,10**3]}\n",
    "mod=OneVsRestClassifier(SGDClassifier(loss='log',random_state=42))\n",
    "mod1=RandomizedSearchCV(mod,hyperparameter,scoring='f1_micro')\n",
    "mod1.fit(xtrain,ytrain)\n",
    "print(mod1.best_params_)"
   ]
  },
  {
   "cell_type": "code",
   "execution_count": 0,
   "metadata": {
    "colab": {},
    "colab_type": "code",
    "id": "vHACnsKctptL",
    "outputId": "8b237ea0-663e-436d-d0de-4d62134fd756"
   },
   "outputs": [
    {
     "name": "stdout",
     "output_type": "stream",
     "text": [
      "micro f1-score 0.3735749780765858\n",
      "macro f1_score 0.30913306008426333\n",
      "hamming_loss 0.2266925246826516\n",
      "precision_score 0.3768429329663849\n",
      "recall_score 0.3703632148377125\n"
     ]
    }
   ],
   "source": [
    "from sklearn.linear_model import SGDClassifier\n",
    "from sklearn.multiclass import OneVsRestClassifier\n",
    "\n",
    "from sklearn import metrics\n",
    "mod=SGDClassifier(loss='log',alpha=0.001)\n",
    "mod1=OneVsRestClassifier(mod)\n",
    "mod1.fit(xtrain,ytrain)\n",
    "predicty=mod1.predict(xtest)\n",
    "print('micro f1-score',metrics.f1_score(ytest,predicty,average='micro'))\n",
    "print('macro f1_score',metrics.f1_score(ytest,predicty,average='macro'))\n",
    "print('hamming_loss',metrics.hamming_loss(ytest,predicty))\n",
    "print('precision_score',metrics.precision_score(ytest,predicty,average='micro'))\n",
    "print('recall_score',metrics.recall_score(ytest,predicty,average='micro'))"
   ]
  },
  {
   "cell_type": "code",
   "execution_count": 0,
   "metadata": {
    "colab": {},
    "colab_type": "code",
    "id": "sJDLgAzwtptN"
   },
   "outputs": [],
   "source": [
    "from sklearn.feature_extraction.text  import TfidfVectorizer\n",
    "tfidf=TfidfVectorizer(max_features=20000,max_df=0.8,ngram_range=(1,3))\n",
    "xtrain=tfidf.fit_transform(xtrainfinal['final_synopsis'])\n",
    "xtest=tfidf.transform(xtestfinal['final_synopsis'])"
   ]
  },
  {
   "cell_type": "code",
   "execution_count": 0,
   "metadata": {
    "colab": {},
    "colab_type": "code",
    "id": "oWjn5hmjtptN"
   },
   "outputs": [],
   "source": [
    "from sklearn.preprocessing import StandardScaler\n",
    "scale=StandardScaler(with_mean=False)\n",
    "xtrain=scale.fit_transform(xtrain)\n",
    "xtest=scale.fit_transform(xtest)"
   ]
  },
  {
   "cell_type": "code",
   "execution_count": 0,
   "metadata": {
    "colab": {},
    "colab_type": "code",
    "id": "bm6fiF8GtptO",
    "outputId": "b2ccff90-0c20-455c-880a-68d898ca6885"
   },
   "outputs": [
    {
     "name": "stdout",
     "output_type": "stream",
     "text": [
      "{'estimator__alpha': 0.01}\n"
     ]
    }
   ],
   "source": [
    "import warnings\n",
    "from sklearn.linear_model import SGDClassifier\n",
    "warnings.filterwarnings('ignore')\n",
    "from sklearn.model_selection import RandomizedSearchCV\n",
    "hyperparameter={\"estimator__alpha\":[10**-3,10**-2,10**-1,10**0,10**1,10**2,10**3]}\n",
    "mod=OneVsRestClassifier(SGDClassifier(loss='log',random_state=42))\n",
    "mod1=RandomizedSearchCV(mod,hyperparameter,scoring='f1_micro')\n",
    "mod1.fit(xtrain,ytrain)\n",
    "print(mod1.best_params_)"
   ]
  },
  {
   "cell_type": "code",
   "execution_count": 0,
   "metadata": {
    "colab": {},
    "colab_type": "code",
    "id": "pOTToUaGtptP",
    "outputId": "e03084f0-65a5-4d1e-855e-55d5abd40de8"
   },
   "outputs": [
    {
     "name": "stdout",
     "output_type": "stream",
     "text": [
      "micro f1-score 0.35690736998830164\n",
      "macro f1_score 0.2859534848255194\n",
      "hamming_loss 0.2132228490832158\n",
      "precision_score 0.3969718476460847\n",
      "recall_score 0.32418856259659967\n"
     ]
    }
   ],
   "source": [
    "from sklearn.linear_model import SGDClassifier\n",
    "from sklearn.multiclass import OneVsRestClassifier\n",
    "\n",
    "from sklearn import metrics\n",
    "mod=SGDClassifier(alpha=0.01,loss='log')\n",
    "mod1=OneVsRestClassifier(mod)\n",
    "mod1.fit(xtrain,ytrain)\n",
    "predicty=mod1.predict(xtest)\n",
    "print('micro f1-score',metrics.f1_score(ytest,predicty,average='micro'))\n",
    "print('macro f1_score',metrics.f1_score(ytest,predicty,average='macro'))\n",
    "print('hamming_loss',metrics.hamming_loss(ytest,predicty))\n",
    "print('precision_score',metrics.precision_score(ytest,predicty,average='micro'))\n",
    "print('recall_score',metrics.recall_score(ytest,predicty,average='micro'))"
   ]
  },
  {
   "cell_type": "code",
   "execution_count": 0,
   "metadata": {
    "colab": {},
    "colab_type": "code",
    "id": "Kqm0zyH5tptR"
   },
   "outputs": [],
   "source": [
    "from sklearn.feature_extraction.text  import CountVectorizer\n",
    "vc=CountVectorizer(max_features=20000,max_df=0.8,ngram_range=(1,3))\n",
    "xtrain=vc.fit_transform(xtrainfinal['final_synopsis'])\n",
    "xtest=vc.transform(xtestfinal['final_synopsis'])"
   ]
  },
  {
   "cell_type": "code",
   "execution_count": 0,
   "metadata": {
    "colab": {},
    "colab_type": "code",
    "id": "4tRgWcM_tptS"
   },
   "outputs": [],
   "source": [
    "from sklearn.preprocessing import StandardScaler\n",
    "scale=StandardScaler(with_mean=False)\n",
    "xtrain=scale.fit_transform(xtrain)\n",
    "xtest=scale.fit_transform(xtest)"
   ]
  },
  {
   "cell_type": "code",
   "execution_count": 0,
   "metadata": {
    "colab": {},
    "colab_type": "code",
    "id": "siogBjWjtptT",
    "outputId": "79ad5841-ca20-4ed9-e2c3-2185272b3b4f"
   },
   "outputs": [
    {
     "name": "stdout",
     "output_type": "stream",
     "text": [
      "{'estimator__alpha': 0.001}\n"
     ]
    }
   ],
   "source": [
    "import warnings\n",
    "from sklearn.linear_model import SGDClassifier\n",
    "warnings.filterwarnings('ignore')\n",
    "from sklearn.model_selection import RandomizedSearchCV\n",
    "hyperparameter={\"estimator__alpha\":[10**-3,10**-2,10**-1,10**0,10**1,10**2,10**3]}\n",
    "mod=OneVsRestClassifier(SGDClassifier(loss='log',random_state=42))\n",
    "mod1=RandomizedSearchCV(mod,hyperparameter,scoring='f1_micro')\n",
    "mod1.fit(xtrain,ytrain)\n",
    "print(mod1.best_params_)"
   ]
  },
  {
   "cell_type": "code",
   "execution_count": 0,
   "metadata": {
    "colab": {},
    "colab_type": "code",
    "id": "XGqP_g-xtptY",
    "outputId": "8a4dfeac-f030-4e3c-bb94-6bef3a420fc7"
   },
   "outputs": [
    {
     "name": "stdout",
     "output_type": "stream",
     "text": [
      "micro f1-score 0.3727930535455862\n",
      "macro f1_score 0.30615913920255045\n",
      "hamming_loss 0.22923131170662905\n",
      "precision_score 0.37232607438812876\n",
      "recall_score 0.3732612055641422\n"
     ]
    }
   ],
   "source": [
    "from sklearn.linear_model import SGDClassifier\n",
    "from sklearn.multiclass import OneVsRestClassifier\n",
    "\n",
    "from sklearn import metrics\n",
    "mod=SGDClassifier(alpha=0.001,loss='log')\n",
    "mod1=OneVsRestClassifier(mod)\n",
    "mod1.fit(xtrain,ytrain)\n",
    "predicty=mod1.predict(xtest)\n",
    "print('micro f1-score',metrics.f1_score(ytest,predicty,average='micro'))\n",
    "print('macro f1_score',metrics.f1_score(ytest,predicty,average='macro'))\n",
    "print('hamming_loss',metrics.hamming_loss(ytest,predicty))\n",
    "print('precision_score',metrics.precision_score(ytest,predicty,average='micro'))\n",
    "print('recall_score',metrics.recall_score(ytest,predicty,average='micro'))\n"
   ]
  },
  {
   "cell_type": "markdown",
   "metadata": {
    "colab_type": "text",
    "id": "croalUe4toWr"
   },
   "source": [
    "# ------------------------------------------------------------------------------------------------------------------------------------------------------------------------------ doing google word2vec-------------------------------------------------------------------------------------------------------------------------------------------------------------------------------------------------------------------------------------------"
   ]
  },
  {
   "cell_type": "code",
   "execution_count": 0,
   "metadata": {
    "colab": {},
    "colab_type": "code",
    "id": "gQx0QRIqtoWs",
    "outputId": "d5ae351c-da6b-4fd0-848b-f026044907d0"
   },
   "outputs": [
    {
     "data": {
      "text/html": [
       "<div>\n",
       "<style scoped>\n",
       "    .dataframe tbody tr th:only-of-type {\n",
       "        vertical-align: middle;\n",
       "    }\n",
       "\n",
       "    .dataframe tbody tr th {\n",
       "        vertical-align: top;\n",
       "    }\n",
       "\n",
       "    .dataframe thead th {\n",
       "        text-align: right;\n",
       "    }\n",
       "</style>\n",
       "<table border=\"1\" class=\"dataframe\">\n",
       "  <thead>\n",
       "    <tr style=\"text-align: right;\">\n",
       "      <th></th>\n",
       "      <th>imdb_id</th>\n",
       "      <th>title</th>\n",
       "      <th>plot_synopsis</th>\n",
       "      <th>tags</th>\n",
       "      <th>split</th>\n",
       "      <th>synopsis_source</th>\n",
       "    </tr>\n",
       "  </thead>\n",
       "  <tbody>\n",
       "    <tr>\n",
       "      <th>0</th>\n",
       "      <td>tt0057603</td>\n",
       "      <td>I tre volti della paura</td>\n",
       "      <td>note synopsis orginal italian release segments...</td>\n",
       "      <td>cult, horror, gothic, murder, atmospheric</td>\n",
       "      <td>train</td>\n",
       "      <td>imdb</td>\n",
       "    </tr>\n",
       "    <tr>\n",
       "      <th>1</th>\n",
       "      <td>tt1733125</td>\n",
       "      <td>Dungeons &amp; Dragons: The Book of Vile Darkness</td>\n",
       "      <td>two thousand years ago nhagruul foul sorcerer ...</td>\n",
       "      <td>violence</td>\n",
       "      <td>train</td>\n",
       "      <td>imdb</td>\n",
       "    </tr>\n",
       "    <tr>\n",
       "      <th>2</th>\n",
       "      <td>tt0033045</td>\n",
       "      <td>The Shop Around the Corner</td>\n",
       "      <td>matuschek gift store budapest workplace alfred...</td>\n",
       "      <td>romantic</td>\n",
       "      <td>test</td>\n",
       "      <td>imdb</td>\n",
       "    </tr>\n",
       "    <tr>\n",
       "      <th>3</th>\n",
       "      <td>tt0113862</td>\n",
       "      <td>Mr. Holland's Opus</td>\n",
       "      <td>glenn holland morning person anyone standards ...</td>\n",
       "      <td>inspiring, romantic, stupid, feel-good</td>\n",
       "      <td>train</td>\n",
       "      <td>imdb</td>\n",
       "    </tr>\n",
       "    <tr>\n",
       "      <th>4</th>\n",
       "      <td>tt0086250</td>\n",
       "      <td>Scarface</td>\n",
       "      <td>may cuban man named tony montana al pacino cla...</td>\n",
       "      <td>cruelty, murder, dramatic, cult, violence, atm...</td>\n",
       "      <td>val</td>\n",
       "      <td>imdb</td>\n",
       "    </tr>\n",
       "  </tbody>\n",
       "</table>\n",
       "</div>"
      ],
      "text/plain": [
       "     imdb_id                                          title  \\\n",
       "0  tt0057603                        I tre volti della paura   \n",
       "1  tt1733125  Dungeons & Dragons: The Book of Vile Darkness   \n",
       "2  tt0033045                     The Shop Around the Corner   \n",
       "3  tt0113862                             Mr. Holland's Opus   \n",
       "4  tt0086250                                       Scarface   \n",
       "\n",
       "                                       plot_synopsis  \\\n",
       "0  note synopsis orginal italian release segments...   \n",
       "1  two thousand years ago nhagruul foul sorcerer ...   \n",
       "2  matuschek gift store budapest workplace alfred...   \n",
       "3  glenn holland morning person anyone standards ...   \n",
       "4  may cuban man named tony montana al pacino cla...   \n",
       "\n",
       "                                                tags  split synopsis_source  \n",
       "0          cult, horror, gothic, murder, atmospheric  train            imdb  \n",
       "1                                           violence  train            imdb  \n",
       "2                                           romantic   test            imdb  \n",
       "3             inspiring, romantic, stupid, feel-good  train            imdb  \n",
       "4  cruelty, murder, dramatic, cult, violence, atm...    val            imdb  "
      ]
     },
     "execution_count": 16,
     "metadata": {
      "tags": []
     },
     "output_type": "execute_result"
    }
   ],
   "source": [
    "data.head(5)"
   ]
  },
  {
   "cell_type": "code",
   "execution_count": 0,
   "metadata": {
    "colab": {},
    "colab_type": "code",
    "id": "JDuuzJOItoWt"
   },
   "outputs": [],
   "source": [
    "from sklearn.model_selection import train_test_split\n",
    "xtrainfinal,xtestfinal,ytrainfinal,ytestfinal=train_test_split(data['totalnewsynop'],data['tags'],test_size=0.2)"
   ]
  },
  {
   "cell_type": "code",
   "execution_count": 0,
   "metadata": {
    "colab": {},
    "colab_type": "code",
    "id": "ekbFyuh3toWu"
   },
   "outputs": [],
   "source": [
    "listofsent=[]\n",
    "for sent in xtrainfinal:\n",
    "    listofsent.append(sent.split(' '))"
   ]
  },
  {
   "cell_type": "code",
   "execution_count": 0,
   "metadata": {
    "colab": {},
    "colab_type": "code",
    "id": "M1zJxJ0BtoWu",
    "outputId": "75cb7d5a-941a-4dd8-bc02-16abf7e326ec"
   },
   "outputs": [
    {
     "name": "stderr",
     "output_type": "stream",
     "text": [
      "c:\\legacyapp\\python36\\lib\\site-packages\\ipykernel_launcher.py:5: DeprecationWarning: Call to deprecated `wv` (Attribute will be removed in 4.0.0, use self instead).\n",
      "  \"\"\"\n"
     ]
    },
    {
     "name": "stdout",
     "output_type": "stream",
     "text": [
      "[('terrific', 0.7989331483840942), ('fantastic', 0.7935211658477783), ('tremendous', 0.7748856544494629), ('wonderful', 0.7647868394851685), ('good', 0.7291510105133057), ('incredible', 0.7032873630523682), ('marvelous', 0.6971102952957153), ('phenomenal', 0.6841565370559692), ('amazing', 0.6634128093719482), ('awesome', 0.6510506868362427)]\n"
     ]
    },
    {
     "name": "stderr",
     "output_type": "stream",
     "text": [
      "c:\\legacyapp\\python36\\lib\\site-packages\\ipykernel_launcher.py:6: DeprecationWarning: Call to deprecated `wv` (Attribute will be removed in 4.0.0, use self instead).\n",
      "  \n"
     ]
    },
    {
     "name": "stdout",
     "output_type": "stream",
     "text": [
      "[('Worst', 0.6146092414855957), ('weakest', 0.6143776774406433), ('scariest', 0.5957258343696594), ('ugliest', 0.5931180715560913), ('best', 0.5835110545158386), ('bleakest', 0.5718506574630737), ('strongest', 0.567145586013794), ('nastiest', 0.5644308924674988), ('lousiest', 0.5631451606750488), ('toughest', 0.5624395608901978)]\n"
     ]
    }
   ],
   "source": [
    "from gensim.models import Word2Vec\n",
    "from gensim.models import KeyedVectors\n",
    "import pickle\n",
    "w2v_model=KeyedVectors.load_word2vec_format('GoogleNews-vectors-negative300.bin', binary=True)\n",
    "print(w2v_model.wv.most_similar('great'))\n",
    "print(w2v_model.wv.most_similar('worst'))"
   ]
  },
  {
   "cell_type": "code",
   "execution_count": 0,
   "metadata": {
    "colab": {},
    "colab_type": "code",
    "id": "ucq__JeCtoWv",
    "outputId": "510f2862-c837-44a7-9682-845aa125db33"
   },
   "outputs": [
    {
     "name": "stderr",
     "output_type": "stream",
     "text": [
      "c:\\legacyapp\\python36\\lib\\site-packages\\ipykernel_launcher.py:1: DeprecationWarning: Call to deprecated `wv` (Attribute will be removed in 4.0.0, use self instead).\n",
      "  \"\"\"Entry point for launching an IPython kernel.\n"
     ]
    },
    {
     "name": "stdout",
     "output_type": "stream",
     "text": [
      "number of words that occured minimum 5 times  3000000\n",
      "sample words  ['</s>', 'in', 'for', 'that', 'is', 'on', '##', 'The', 'with', 'said', 'was', 'the', 'at', 'not', 'as', 'it', 'be', 'from', 'by', 'are', 'I', 'have', 'he', 'will', 'has', '####', 'his', 'an', 'this', 'or', 'their', 'who', 'they', 'but', '$', 'had', 'year', 'were', 'we', 'more', '###', 'up', 'been', 'you', 'its', 'one', 'about', 'would', 'which', 'out']\n"
     ]
    }
   ],
   "source": [
    "w2v_words = list(w2v_model.wv.vocab)\n",
    "print(\"number of words that occured minimum 5 times \",len(w2v_words))\n",
    "print(\"sample words \", w2v_words[0:50])"
   ]
  },
  {
   "cell_type": "code",
   "execution_count": 0,
   "metadata": {
    "colab": {},
    "colab_type": "code",
    "id": "JbiM2hoXtoWw"
   },
   "outputs": [],
   "source": [
    "import sys\n",
    "import warnings\n",
    "warnings.filterwarnings('ignore')\n",
    "sentencevectors=[]\n",
    "for sent in tqdm(xtrainfinal):\n",
    "    sentvec=np.zeros(300)\n",
    "    countwords=0\n",
    "    for word in sent.split(' '):\n",
    "        if word in w2v_words:\n",
    "            vec=w2v_model.wv[word]\n",
    "            sentvec+=vec\n",
    "            countwords+=1\n",
    "    if countwords!=0:\n",
    "        sentvec/=countwords\n",
    "    sentencevectors.append(sentvec)"
   ]
  },
  {
   "cell_type": "code",
   "execution_count": 0,
   "metadata": {
    "colab": {},
    "colab_type": "code",
    "id": "PrP7WP4ZtoWz"
   },
   "outputs": [],
   "source": [
    "sentencevectorstest=[]\n",
    "for sent in tqdm(xtestfinal):\n",
    "    sentvec1=np.zeros(300)\n",
    "    countwordstest=0\n",
    "    for word in sent.split(' '):\n",
    "        if word in w2v_words:\n",
    "            vec=w2v_model.wv[word]\n",
    "            sentvec1+=vec\n",
    "            countwordstest+=1\n",
    "    if countwordstest!=0:\n",
    "        sentvec1/=countwordstest\n",
    "    sentencevectorstest.append(sentvec1)"
   ]
  },
  {
   "cell_type": "code",
   "execution_count": 0,
   "metadata": {
    "colab": {},
    "colab_type": "code",
    "id": "CJkrR1zJtoW1",
    "outputId": "374e80c8-1976-481a-d11b-e0366b069e89"
   },
   "outputs": [
    {
     "name": "stdout",
     "output_type": "stream",
     "text": [
      "358\n"
     ]
    }
   ],
   "source": [
    "print(len(sentencevectorstest))"
   ]
  },
  {
   "cell_type": "code",
   "execution_count": 0,
   "metadata": {
    "colab": {},
    "colab_type": "code",
    "id": "KVKyYoLBtoW2",
    "outputId": "0985429e-a663-487f-d11b-a1e7aa8f1f9b"
   },
   "outputs": [
    {
     "name": "stdout",
     "output_type": "stream",
     "text": [
      "(2966,)\n"
     ]
    }
   ],
   "source": [
    "print(xtestfinal.shape)"
   ]
  },
  {
   "cell_type": "code",
   "execution_count": 0,
   "metadata": {
    "colab": {},
    "colab_type": "code",
    "id": "Z2h-M59ytoW3",
    "outputId": "67684cb5-d622-45f1-87fc-d9735933600b"
   },
   "outputs": [
    {
     "name": "stdout",
     "output_type": "stream",
     "text": [
      "<class 'pandas.core.series.Series'>\n"
     ]
    }
   ],
   "source": [
    "print(type(ytrainfinal))"
   ]
  },
  {
   "cell_type": "code",
   "execution_count": 0,
   "metadata": {
    "colab": {},
    "colab_type": "code",
    "id": "mAd55i1PtoW4"
   },
   "outputs": [],
   "source": [
    "ytrainfinal1=ytrainfinal.apply(lambda x: x.replace(' ',''))\n",
    "ytestfinal1=ytestfinal.apply(lambda x: x.replace(' ',''))"
   ]
  },
  {
   "cell_type": "code",
   "execution_count": 0,
   "metadata": {
    "colab": {},
    "colab_type": "code",
    "id": "_CBjh_iItoW5"
   },
   "outputs": [],
   "source": [
    "countvect1=CountVectorizer(tokenizer=lambda x:x.split(','))\n",
    "ytrain1=countvect1.fit_transform(ytrainfinal1)\n",
    "ytest1=countvect1.fit_transform(ytestfinal1)"
   ]
  },
  {
   "cell_type": "code",
   "execution_count": 0,
   "metadata": {
    "colab": {},
    "colab_type": "code",
    "id": "iiyWat6ZtoW5",
    "outputId": "c0ceea62-9392-4571-a4a8-eadc5cf92d0d"
   },
   "outputs": [
    {
     "name": "stdout",
     "output_type": "stream",
     "text": [
      "(11862, 10)\n"
     ]
    }
   ],
   "source": [
    "print(ytrain1.shape)"
   ]
  },
  {
   "cell_type": "code",
   "execution_count": 0,
   "metadata": {
    "colab": {},
    "colab_type": "code",
    "id": "Ah7rhgIjtoW6",
    "outputId": "6612d12c-48f7-4648-c29e-dbecdbade453"
   },
   "outputs": [
    {
     "name": "stdout",
     "output_type": "stream",
     "text": [
      "{'estimator__alpha': 100}\n"
     ]
    }
   ],
   "source": [
    "import warnings\n",
    "warnings.filterwarnings('ignore')\n",
    "from sklearn.model_selection import RandomizedSearchCV\n",
    "from sklearn.linear_model import SGDClassifier\n",
    "mod=OneVsRestClassifier(SGDClassifier(loss='log'))\n",
    "hyperparameters={'estimator__alpha':[10**-3,10**-2,10**-1,10**0,10**1,10**2,10**3]}\n",
    "mod1=RandomizedSearchCV(mod,hyperparameters,scoring='f1_micro')\n",
    "mod1.fit(sentencevectors,ytrain1)\n",
    "print(mod1.best_params_)"
   ]
  },
  {
   "cell_type": "code",
   "execution_count": 0,
   "metadata": {
    "colab": {},
    "colab_type": "code",
    "id": "ySOY8Eb4toW7",
    "outputId": "5ca7a6b3-37ee-4bd6-8dd0-c6d6d53e906c"
   },
   "outputs": [
    {
     "name": "stdout",
     "output_type": "stream",
     "text": [
      "micro f1-score 0.3106007067137809\n",
      "macro f1_score 0.08973882525777403\n",
      "hamming_loss 0.2631153068105192\n",
      "precision_score 0.29635873229939314\n",
      "recall_score 0.3262806236080178\n"
     ]
    }
   ],
   "source": [
    "from sklearn.linear_model import LogisticRegression\n",
    "from sklearn.linear_model import SGDClassifier\n",
    "from sklearn.multiclass import OneVsRestClassifier\n",
    "import warnings\n",
    "warnings.filterwarnings('ignore')\n",
    "from sklearn import metrics\n",
    "mod=SGDClassifier(loss='log',alpha=100)\n",
    "mod1=OneVsRestClassifier(mod)\n",
    "mod1.fit(sentencevectors,ytrain1)\n",
    "predicty=mod1.predict(sentencevectorstest)\n",
    "print('micro f1-score',metrics.f1_score(ytest1,predicty,average='micro'))\n",
    "print('macro f1_score',metrics.f1_score(ytest1,predicty,average='macro'))\n",
    "print('hamming_loss',metrics.hamming_loss(ytest1,predicty))\n",
    "print('precision_score',metrics.precision_score(ytest1,predicty,average='micro'))\n",
    "print('recall_score',metrics.recall_score(ytest1,predicty,average='micro'))"
   ]
  },
  {
   "cell_type": "code",
   "execution_count": 0,
   "metadata": {
    "colab": {},
    "colab_type": "code",
    "id": "Zkb651jMtoW7",
    "outputId": "8579b95f-cb1b-40c1-d487-4cf5beedc873"
   },
   "outputs": [
    {
     "name": "stdout",
     "output_type": "stream",
     "text": [
      "{'estimator__alpha': 10}\n"
     ]
    }
   ],
   "source": [
    "import warnings\n",
    "warnings.filterwarnings('ignore')\n",
    "from sklearn.model_selection import RandomizedSearchCV\n",
    "from sklearn.linear_model import SGDClassifier\n",
    "mod=OneVsRestClassifier(SGDClassifier(loss='hinge'))\n",
    "hyperparameters={'estimator__alpha':[10**-3,10**-2,10**-1,10**0,10**1,10**2,10**3]}\n",
    "mod1=RandomizedSearchCV(mod,hyperparameters,scoring='f1_micro')\n",
    "mod1.fit(sentencevectors,ytrain1)\n",
    "print(mod1.best_params_)"
   ]
  },
  {
   "cell_type": "code",
   "execution_count": 0,
   "metadata": {
    "colab": {},
    "colab_type": "code",
    "id": "FvEjYQ8_toW8",
    "outputId": "677ed7a8-3737-47d8-da2b-b2826b6c6fdf"
   },
   "outputs": [
    {
     "name": "stdout",
     "output_type": "stream",
     "text": [
      "micro f1-score 0.357773851590106\n",
      "macro f1_score 0.10136411922171447\n",
      "hamming_loss 0.24511126095751853\n",
      "precision_score 0.3413688469318948\n",
      "recall_score 0.3758351893095768\n"
     ]
    }
   ],
   "source": [
    "from sklearn.linear_model import LogisticRegression\n",
    "from sklearn.linear_model import SGDClassifier\n",
    "from sklearn.multiclass import OneVsRestClassifier\n",
    "import warnings\n",
    "warnings.filterwarnings('ignore')\n",
    "from sklearn import metrics\n",
    "mod=SGDClassifier(loss='log',alpha=10)\n",
    "mod1=OneVsRestClassifier(mod)\n",
    "mod1.fit(sentencevectors,ytrain1)\n",
    "predicty=mod1.predict(sentencevectorstest)\n",
    "print('micro f1-score',metrics.f1_score(ytest1,predicty,average='micro'))\n",
    "print('macro f1_score',metrics.f1_score(ytest1,predicty,average='macro'))\n",
    "print('hamming_loss',metrics.hamming_loss(ytest1,predicty))\n",
    "print('precision_score',metrics.precision_score(ytest1,predicty,average='micro'))\n",
    "print('recall_score',metrics.recall_score(ytest1,predicty,average='micro'))"
   ]
  },
  {
   "cell_type": "markdown",
   "metadata": {
    "colab_type": "text",
    "id": "jPzD6GIPuZ0j"
   },
   "source": [
    "# ------------------------------------------------------------------------ "
   ]
  },
  {
   "cell_type": "code",
   "execution_count": 0,
   "metadata": {
    "colab": {},
    "colab_type": "code",
    "id": "2SJOtNn1C-LL"
   },
   "outputs": [],
   "source": [
    "import nltk"
   ]
  },
  {
   "cell_type": "code",
   "execution_count": 0,
   "metadata": {
    "colab": {
     "base_uri": "https://localhost:8080/",
     "height": 85
    },
    "colab_type": "code",
    "id": "x0ti16SxC-LO",
    "outputId": "6138595c-1194-442f-81ba-5d2720f6bf7c"
   },
   "outputs": [
    {
     "name": "stdout",
     "output_type": "stream",
     "text": [
      "[nltk_data] Downloading package averaged_perceptron_tagger to\n",
      "[nltk_data]     /root/nltk_data...\n",
      "[nltk_data]   Unzipping taggers/averaged_perceptron_tagger.zip.\n"
     ]
    },
    {
     "data": {
      "text/plain": [
       "True"
      ]
     },
     "execution_count": 21,
     "metadata": {
      "tags": []
     },
     "output_type": "execute_result"
    }
   ],
   "source": [
    "nltk.download('averaged_perceptron_tagger')"
   ]
  },
  {
   "cell_type": "code",
   "execution_count": 0,
   "metadata": {
    "colab": {
     "base_uri": "https://localhost:8080/",
     "height": 68
    },
    "colab_type": "code",
    "id": "hlrGIttkDOmf",
    "outputId": "38980387-f88b-4de7-f329-d48c963ad7a3"
   },
   "outputs": [
    {
     "name": "stdout",
     "output_type": "stream",
     "text": [
      "[nltk_data] Downloading package punkt to /root/nltk_data...\n",
      "[nltk_data]   Unzipping tokenizers/punkt.zip.\n"
     ]
    },
    {
     "data": {
      "text/plain": [
       "True"
      ]
     },
     "execution_count": 22,
     "metadata": {
      "tags": []
     },
     "output_type": "execute_result"
    }
   ],
   "source": [
    " nltk.download('punkt')"
   ]
  },
  {
   "cell_type": "code",
   "execution_count": 0,
   "metadata": {
    "colab": {},
    "colab_type": "code",
    "id": "7RcltsiMC-LQ"
   },
   "outputs": [],
   "source": [
    "str1=' '\n",
    "totalnewsynop=[]\n",
    "for sentence in data['plot_synopsis']:\n",
    "    newsynop=[]\n",
    "    for token, pos in nltk.pos_tag(nltk.word_tokenize(sentence)):\n",
    "        if pos.startswith('N'or'V'or'R'or'J'):\n",
    "            if(len(token)>2):\n",
    "                newsynop.append(token)\n",
    "    str1=' '.join(newsynop)\n",
    "    totalnewsynop.append(str1)\n",
    "    \n",
    "    "
   ]
  },
  {
   "cell_type": "code",
   "execution_count": 0,
   "metadata": {
    "colab": {},
    "colab_type": "code",
    "id": "FeFzUkEbC-LR"
   },
   "outputs": [],
   "source": [
    "data['totalnewsynop']=totalnewsynop\n",
    "y=data['tags']"
   ]
  },
  {
   "cell_type": "code",
   "execution_count": 0,
   "metadata": {
    "colab": {},
    "colab_type": "code",
    "id": "HkxKi01ek8V0"
   },
   "outputs": [],
   "source": [
    "from sklearn.model_selection import train_test_split\n",
    "xtrain,xtest,ytrain,ytest=train_test_split(data,y,test_size=0.2,random_state=1)"
   ]
  },
  {
   "cell_type": "code",
   "execution_count": 0,
   "metadata": {
    "colab": {},
    "colab_type": "code",
    "id": "Da7XIp_qBRJG"
   },
   "outputs": [],
   "source": [
    "\n",
    "i=0\n",
    "list_of_sentance=[]\n",
    "for sentance in preprocessed_reviews:\n",
    "    list_of_sentance.append(sentance.split())"
   ]
  },
  {
   "cell_type": "code",
   "execution_count": 0,
   "metadata": {
    "colab": {
     "base_uri": "https://localhost:8080/",
     "height": 34
    },
    "colab_type": "code",
    "id": "NXx5C2n-BXKc",
    "outputId": "d3b58da6-41be-4121-cb62-1c0b82bb4242"
   },
   "outputs": [
    {
     "name": "stdout",
     "output_type": "stream",
     "text": [
      "700\n"
     ]
    }
   ],
   "source": [
    "print(len(list_of_sentance[0]))"
   ]
  },
  {
   "cell_type": "code",
   "execution_count": 0,
   "metadata": {
    "colab": {},
    "colab_type": "code",
    "id": "Z-uvp9xTBhEa"
   },
   "outputs": [],
   "source": [
    "from glove import Corpus,Glove\n",
    "corpus=Corpus()"
   ]
  },
  {
   "cell_type": "code",
   "execution_count": 0,
   "metadata": {
    "colab": {},
    "colab_type": "code",
    "id": "yRdv_hAKB7G5"
   },
   "outputs": [],
   "source": [
    "corpus.fit(list_of_sentance,window=40)"
   ]
  },
  {
   "cell_type": "code",
   "execution_count": 0,
   "metadata": {
    "colab": {},
    "colab_type": "code",
    "id": "6Ciwmfe7CFTd"
   },
   "outputs": [],
   "source": [
    "glove=Glove(no_components=50,learning_rate=0.05)\n",
    "glove.fit(corpus.matrix,epochs=30)\n",
    "glove.add_dictionary(corpus.dictionary)\n",
    "glove.save('glove.model')"
   ]
  },
  {
   "cell_type": "code",
   "execution_count": 0,
   "metadata": {
    "colab": {},
    "colab_type": "code",
    "id": "z4rZgjRBDtRb"
   },
   "outputs": [],
   "source": [
    "glove.add_dictionary(corpus.dictionary)"
   ]
  },
  {
   "cell_type": "code",
   "execution_count": 0,
   "metadata": {
    "colab": {},
    "colab_type": "code",
    "id": "FVDjBI5rRc5t"
   },
   "outputs": [],
   "source": [
    "cctv=glove.dictionary.keys()"
   ]
  },
  {
   "cell_type": "code",
   "execution_count": 0,
   "metadata": {
    "colab": {
     "base_uri": "https://localhost:8080/",
     "height": 34
    },
    "colab_type": "code",
    "id": "vCI69ojiRz5w",
    "outputId": "861d0877-47e5-4544-e2b6-0ddc7e82ffa1"
   },
   "outputs": [
    {
     "name": "stdout",
     "output_type": "stream",
     "text": [
      "122020\n"
     ]
    }
   ],
   "source": [
    "print(len(cctv))"
   ]
  },
  {
   "cell_type": "code",
   "execution_count": 0,
   "metadata": {
    "colab": {
     "base_uri": "https://localhost:8080/",
     "height": 68
    },
    "colab_type": "code",
    "id": "Bd9Y0Qw7Je53",
    "outputId": "e4f2cc17-a1f1-4074-8b94-c5741435ecf3"
   },
   "outputs": [
    {
     "name": "stderr",
     "output_type": "stream",
     "text": [
      "100%|██████████| 11862/11862 [00:16<00:00, 708.33it/s]"
     ]
    },
    {
     "name": "stdout",
     "output_type": "stream",
     "text": [
      "11862\n",
      "50\n"
     ]
    },
    {
     "name": "stderr",
     "output_type": "stream",
     "text": [
      "\n"
     ]
    }
   ],
   "source": [
    "# average Word2Vec\n",
    "# compute average word2vec for each review.\n",
    "sent_vectors = []; # the avg-w2v for each sentence/review is stored in this list\n",
    "for sent in tqdm(xtrain['totalnewsynop'].values):\n",
    "    sent_vec = np.zeros(50)\n",
    "    cnt_words =0; # num of words with a valid vector in the sentence/review\n",
    "    for word in sent:\n",
    "        if word in cctv:\n",
    "            vec = glove.word_vectors[glove.dictionary[word]]\n",
    "            sent_vec += vec\n",
    "            cnt_words += 1\n",
    "    if cnt_words != 0:\n",
    "        sent_vec /= cnt_words\n",
    "    sent_vectors.append(sent_vec)\n",
    "print(len(sent_vectors))\n",
    "print(len(sent_vectors[0]))"
   ]
  },
  {
   "cell_type": "code",
   "execution_count": 0,
   "metadata": {
    "colab": {
     "base_uri": "https://localhost:8080/",
     "height": 170
    },
    "colab_type": "code",
    "id": "zYHBC4NcKPaM",
    "outputId": "9be9f1ed-1359-4839-97a7-30d541a5c021"
   },
   "outputs": [
    {
     "name": "stdout",
     "output_type": "stream",
     "text": [
      "[ 0.35939186 -0.23326264 -0.42836881 -0.06718416 -0.28962044  0.707653\n",
      " -0.18363049 -0.17331253  0.01639158 -0.2997185   0.40040762 -0.31795091\n",
      "  0.51819998  0.0362745   0.27269799  0.45744271 -0.17884788 -0.01040241\n",
      "  0.10491156 -0.03692391 -0.18704312 -0.33405468  0.47439511 -0.29238437\n",
      " -0.22002479  0.04023145 -0.4817426  -0.08673639 -0.3505399   0.1976708\n",
      "  0.11714352 -0.27858444  0.2029428  -0.04139162  0.38936432  0.26099342\n",
      "  0.16028165  0.55656921  0.42656999  0.11871127  0.2324872   0.03510746\n",
      "  0.05696944 -0.3040288   0.06670852  0.05174553  0.43351738  0.09082196\n",
      " -0.55626419  0.38974867]\n"
     ]
    }
   ],
   "source": [
    "print(sent_vectors[0])"
   ]
  },
  {
   "cell_type": "code",
   "execution_count": 0,
   "metadata": {
    "colab": {
     "base_uri": "https://localhost:8080/",
     "height": 51
    },
    "colab_type": "code",
    "id": "7LLmhlXFK9rb",
    "outputId": "df799238-7945-4f5c-cb39-21d233ceefb2"
   },
   "outputs": [
    {
     "name": "stderr",
     "output_type": "stream",
     "text": [
      "100%|██████████| 2966/2966 [00:04<00:00, 703.79it/s]"
     ]
    },
    {
     "name": "stdout",
     "output_type": "stream",
     "text": [
      "2966\n"
     ]
    },
    {
     "name": "stderr",
     "output_type": "stream",
     "text": [
      "\n"
     ]
    }
   ],
   "source": [
    "# average Word2Vec\n",
    "# compute average word2vec for each review.\n",
    "sent_vectorstest= []; # the avg-w2v for each sentence/review is stored in this list\n",
    "for sent in tqdm(xtest['totalnewsynop']): # for each review/sentence\n",
    "    sent_vec = np.zeros(50)#as word vectors are of zero length 50, you might need to change this to 300 if you use google's w2v\n",
    "    cnt_words =0; # num of words with a valid vector in the sentence/review\n",
    "    for word in sent:\n",
    "      if word in cctv:\n",
    "        vec = glove.word_vectors[glove.dictionary[word]]\n",
    "        sent_vec += vec\n",
    "        cnt_words += 1\n",
    "    if cnt_words != 0:\n",
    "        sent_vec /= cnt_words\n",
    "    sent_vectorstest.append(sent_vec)\n",
    "print(len(sent_vectorstest))\n"
   ]
  },
  {
   "cell_type": "code",
   "execution_count": 0,
   "metadata": {
    "colab": {
     "base_uri": "https://localhost:8080/",
     "height": 170
    },
    "colab_type": "code",
    "id": "MTX-DxvXCDi0",
    "outputId": "c267aeec-dc2e-43cf-f9c6-c472efdfa662"
   },
   "outputs": [
    {
     "name": "stdout",
     "output_type": "stream",
     "text": [
      "[ 0.35939186 -0.23326264 -0.42836881 -0.06718416 -0.28962044  0.707653\n",
      " -0.18363049 -0.17331253  0.01639158 -0.2997185   0.40040762 -0.31795091\n",
      "  0.51819998  0.0362745   0.27269799  0.45744271 -0.17884788 -0.01040241\n",
      "  0.10491156 -0.03692391 -0.18704312 -0.33405468  0.47439511 -0.29238437\n",
      " -0.22002479  0.04023145 -0.4817426  -0.08673639 -0.3505399   0.1976708\n",
      "  0.11714352 -0.27858444  0.2029428  -0.04139162  0.38936432  0.26099342\n",
      "  0.16028165  0.55656921  0.42656999  0.11871127  0.2324872   0.03510746\n",
      "  0.05696944 -0.3040288   0.06670852  0.05174553  0.43351738  0.09082196\n",
      " -0.55626419  0.38974867]\n"
     ]
    }
   ],
   "source": [
    "print(sent_vectors[0])"
   ]
  },
  {
   "cell_type": "code",
   "execution_count": 0,
   "metadata": {
    "colab": {
     "base_uri": "https://localhost:8080/",
     "height": 34
    },
    "colab_type": "code",
    "id": "rTTrb4-JT7SA",
    "outputId": "0a881753-e081-4a67-9c02-85e5b9e1df36"
   },
   "outputs": [
    {
     "name": "stdout",
     "output_type": "stream",
     "text": [
      "(11862,)\n"
     ]
    }
   ],
   "source": [
    "print(ytrain.shape)"
   ]
  },
  {
   "cell_type": "code",
   "execution_count": 0,
   "metadata": {
    "colab": {},
    "colab_type": "code",
    "id": "ijiEI3P4mXTz"
   },
   "outputs": [],
   "source": [
    "countvect1=CountVectorizer(tokenizer=lambda x:x.split(','),min_df=6)\n",
    "ytrain1=countvect1.fit_transform(ytrain)\n",
    "ytest1=countvect1.transform(ytest)"
   ]
  },
  {
   "cell_type": "code",
   "execution_count": 0,
   "metadata": {
    "colab": {
     "base_uri": "https://localhost:8080/",
     "height": 34
    },
    "colab_type": "code",
    "id": "zxMN5Nbwm7wI",
    "outputId": "25c68234-734d-4dc1-b9b8-6a18be2fca85"
   },
   "outputs": [
    {
     "name": "stdout",
     "output_type": "stream",
     "text": [
      "{'estimator__alpha': 1000}\n"
     ]
    }
   ],
   "source": [
    "import warnings\n",
    "warnings.filterwarnings('ignore')\n",
    "from sklearn.model_selection import RandomizedSearchCV\n",
    "from sklearn.linear_model import SGDClassifier\n",
    "mod=OneVsRestClassifier(SGDClassifier(loss='log'))\n",
    "hyperparameters={'estimator__alpha':[10**-3,10**-2,10**-1,10**0,10**1,10**2,10**3]}\n",
    "mod1=RandomizedSearchCV(mod,hyperparameters,scoring='f1_micro')\n",
    "mod1.fit(sent_vectors,ytrain1)\n",
    "print(mod1.best_params_)"
   ]
  },
  {
   "cell_type": "code",
   "execution_count": 0,
   "metadata": {
    "colab": {
     "base_uri": "https://localhost:8080/",
     "height": 102
    },
    "colab_type": "code",
    "id": "WTnOMNwFpZoq",
    "outputId": "60537901-0d7c-4cd4-867d-a54103702049"
   },
   "outputs": [
    {
     "name": "stdout",
     "output_type": "stream",
     "text": [
      "micro f1-score 0.36887796887796886\n",
      "macro f1_score 0.13758553274682306\n",
      "hamming_loss 0.324763991908294\n",
      "precision_score 0.3796358732299393\n",
      "recall_score 0.35871296591271107\n"
     ]
    }
   ],
   "source": [
    "from sklearn.linear_model import LogisticRegression\n",
    "from sklearn.linear_model import SGDClassifier\n",
    "from sklearn.multiclass import OneVsRestClassifier\n",
    "import warnings\n",
    "warnings.filterwarnings('ignore')\n",
    "from sklearn import metrics\n",
    "mod=SGDClassifier(loss='log',alpha=1000)\n",
    "mod1=OneVsRestClassifier(mod)\n",
    "mod1.fit(sent_vectors,ytrain1)\n",
    "predicty=mod1.predict(sent_vectorstest)\n",
    "print('micro f1-score',metrics.f1_score(ytest1,predicty,average='micro'))\n",
    "print('macro f1_score',metrics.f1_score(ytest1,predicty,average='macro'))\n",
    "print('hamming_loss',metrics.hamming_loss(ytest1,predicty))\n",
    "print('precision_score',metrics.precision_score(ytest1,predicty,average='micro'))\n",
    "print('recall_score',metrics.recall_score(ytest1,predicty,average='micro'))"
   ]
  },
  {
   "cell_type": "code",
   "execution_count": 0,
   "metadata": {
    "colab": {
     "base_uri": "https://localhost:8080/",
     "height": 34
    },
    "colab_type": "code",
    "id": "QpjdyDEeZYpv",
    "outputId": "285a173e-2782-4faf-e96e-5ea6c9766486"
   },
   "outputs": [
    {
     "data": {
      "text/plain": [
       "0.36887796887796886"
      ]
     },
     "execution_count": 65,
     "metadata": {
      "tags": []
     },
     "output_type": "execute_result"
    }
   ],
   "source": [
    "from sklearn.metrics import f1_score\n",
    "\n",
    "f1_score(predicty,ytest1,average='micro')"
   ]
  },
  {
   "cell_type": "code",
   "execution_count": 0,
   "metadata": {
    "colab": {},
    "colab_type": "code",
    "id": "3br1f33sZYp0"
   },
   "outputs": [],
   "source": [
    "y_pred_prob = mod1.predict_proba(sent_vectorstest)\n",
    "t = 0.3 # threshold value\n",
    "y_pred_new = (y_pred_prob >= 0.3).astype(int)"
   ]
  },
  {
   "cell_type": "code",
   "execution_count": 0,
   "metadata": {
    "colab": {
     "base_uri": "https://localhost:8080/",
     "height": 34
    },
    "colab_type": "code",
    "id": "3f5vJD5xZYp4",
    "outputId": "53e845a5-3f6f-430a-c8cc-46ba9e8524ab"
   },
   "outputs": [
    {
     "data": {
      "text/plain": [
       "0.4184496434046524"
      ]
     },
     "execution_count": 67,
     "metadata": {
      "tags": []
     },
     "output_type": "execute_result"
    }
   ],
   "source": [
    "f1_score(y_pred_new,ytest1, average=\"micro\")"
   ]
  },
  {
   "cell_type": "code",
   "execution_count": 0,
   "metadata": {
    "colab": {
     "base_uri": "https://localhost:8080/",
     "height": 34
    },
    "colab_type": "code",
    "id": "J5PQUMDR1i2r",
    "outputId": "d0642089-cbf9-4759-b9e1-eefc4e06a87c"
   },
   "outputs": [
    {
     "name": "stdout",
     "output_type": "stream",
     "text": [
      "{'estimator__alpha': 100}\n"
     ]
    }
   ],
   "source": [
    "import warnings\n",
    "warnings.filterwarnings('ignore')\n",
    "from sklearn.model_selection import RandomizedSearchCV\n",
    "from sklearn.linear_model import SGDClassifier\n",
    "mod=OneVsRestClassifier(SGDClassifier(loss='hinge'))\n",
    "hyperparameters={'estimator__alpha':[10**-3,10**-2,10**-1,10**0,10**1,10**2,10**3]}\n",
    "mod1=RandomizedSearchCV(mod,hyperparameters,scoring='f1_micro')\n",
    "mod1.fit(sent_vectors,ytrain1)\n",
    "print(mod1.best_params_)"
   ]
  },
  {
   "cell_type": "code",
   "execution_count": 0,
   "metadata": {
    "colab": {
     "base_uri": "https://localhost:8080/",
     "height": 102
    },
    "colab_type": "code",
    "id": "8_Fa9Qgx1i20",
    "outputId": "4ee22039-d07c-44f0-b323-2d4d49fa39bb"
   },
   "outputs": [
    {
     "name": "stdout",
     "output_type": "stream",
     "text": [
      "micro f1-score 0.44162716348803877\n",
      "macro f1_score 0.2516890976700601\n",
      "hamming_loss 0.4269217801753203\n",
      "precision_score 0.33766014834794333\n",
      "recall_score 0.638101306148455\n"
     ]
    }
   ],
   "source": [
    "from sklearn.linear_model import LogisticRegression\n",
    "from sklearn.linear_model import SGDClassifier\n",
    "from sklearn.multiclass import OneVsRestClassifier\n",
    "import warnings\n",
    "warnings.filterwarnings('ignore')\n",
    "from sklearn import metrics\n",
    "mod=SGDClassifier(loss='hinge',alpha=100)\n",
    "mod1=OneVsRestClassifier(mod)\n",
    "mod1.fit(sent_vectors,ytrain1)\n",
    "predicty=mod1.predict(sent_vectorstest)\n",
    "print('micro f1-score',metrics.f1_score(ytest1,predicty,average='micro'))\n",
    "print('macro f1_score',metrics.f1_score(ytest1,predicty,average='macro'))\n",
    "print('hamming_loss',metrics.hamming_loss(ytest1,predicty))\n",
    "print('precision_score',metrics.precision_score(ytest1,predicty,average='micro'))\n",
    "print('recall_score',metrics.recall_score(ytest1,predicty,average='micro'))"
   ]
  },
  {
   "cell_type": "code",
   "execution_count": 0,
   "metadata": {
    "colab": {
     "base_uri": "https://localhost:8080/",
     "height": 34
    },
    "colab_type": "code",
    "id": "c-JrT7ne1i25",
    "outputId": "3a343c7f-66b7-4d11-dd45-20799cb4e065"
   },
   "outputs": [
    {
     "data": {
      "text/plain": [
       "0.44162716348803877"
      ]
     },
     "execution_count": 83,
     "metadata": {
      "tags": []
     },
     "output_type": "execute_result"
    }
   ],
   "source": [
    "from sklearn.metrics import f1_score\n",
    "f1_score(predicty,ytest1,average='micro')"
   ]
  },
  {
   "cell_type": "markdown",
   "metadata": {
    "colab_type": "text",
    "id": "pLu11gCctpsc"
   },
   "source": [
    "# PERFORMANCE MEASURES"
   ]
  },
  {
   "cell_type": "code",
   "execution_count": 8,
   "metadata": {
    "colab": {},
    "colab_type": "code",
    "id": "15bsdtqWtpsd",
    "outputId": "e4356bc6-70ec-4dde-9307-a342bd999bd1"
   },
   "outputs": [
    {
     "data": {
      "text/html": [
       "<div>\n",
       "<style scoped>\n",
       "    .dataframe tbody tr th:only-of-type {\n",
       "        vertical-align: middle;\n",
       "    }\n",
       "\n",
       "    .dataframe tbody tr th {\n",
       "        vertical-align: top;\n",
       "    }\n",
       "\n",
       "    .dataframe thead th {\n",
       "        text-align: right;\n",
       "    }\n",
       "</style>\n",
       "<table border=\"1\" class=\"dataframe\">\n",
       "  <thead>\n",
       "    <tr style=\"text-align: right;\">\n",
       "      <th></th>\n",
       "      <th>encoding</th>\n",
       "      <th>ngram</th>\n",
       "      <th>model</th>\n",
       "      <th>alpha</th>\n",
       "      <th>microf1</th>\n",
       "      <th>macrof1</th>\n",
       "      <th>ham-loss</th>\n",
       "      <th>precision</th>\n",
       "      <th>recall</th>\n",
       "    </tr>\n",
       "  </thead>\n",
       "  <tbody>\n",
       "    <tr>\n",
       "      <th>0</th>\n",
       "      <td>bow</td>\n",
       "      <td>unigram</td>\n",
       "      <td>log-reg</td>\n",
       "      <td>0.01</td>\n",
       "      <td>0.3</td>\n",
       "      <td>0.1</td>\n",
       "      <td>0.04</td>\n",
       "      <td>0.41</td>\n",
       "      <td>0.24</td>\n",
       "    </tr>\n",
       "    <tr>\n",
       "      <th>1</th>\n",
       "      <td>bow</td>\n",
       "      <td>unigram</td>\n",
       "      <td>svm</td>\n",
       "      <td>0.01</td>\n",
       "      <td>0.3</td>\n",
       "      <td>0.11</td>\n",
       "      <td>0.05</td>\n",
       "      <td>0.36</td>\n",
       "      <td>0.26</td>\n",
       "    </tr>\n",
       "    <tr>\n",
       "      <th>2</th>\n",
       "      <td>bow</td>\n",
       "      <td>bigram</td>\n",
       "      <td>log-reg</td>\n",
       "      <td>0.001</td>\n",
       "      <td>0.298</td>\n",
       "      <td>0.124</td>\n",
       "      <td>0.05</td>\n",
       "      <td>0.29</td>\n",
       "      <td>0.29</td>\n",
       "    </tr>\n",
       "    <tr>\n",
       "      <th>3</th>\n",
       "      <td>bow</td>\n",
       "      <td>bigram</td>\n",
       "      <td>svm</td>\n",
       "      <td>0.001</td>\n",
       "      <td>0.295</td>\n",
       "      <td>0.13</td>\n",
       "      <td>0.05</td>\n",
       "      <td>0.30</td>\n",
       "      <td>0.28</td>\n",
       "    </tr>\n",
       "    <tr>\n",
       "      <th>4</th>\n",
       "      <td>bow</td>\n",
       "      <td>trigram</td>\n",
       "      <td>log-reg</td>\n",
       "      <td>0.001</td>\n",
       "      <td>0.23</td>\n",
       "      <td>0.05</td>\n",
       "      <td>0.04</td>\n",
       "      <td>0.55</td>\n",
       "      <td>0.15</td>\n",
       "    </tr>\n",
       "    <tr>\n",
       "      <th>5</th>\n",
       "      <td>bow</td>\n",
       "      <td>triigram</td>\n",
       "      <td>hinge</td>\n",
       "      <td>0.01</td>\n",
       "      <td>0.27</td>\n",
       "      <td>0.08</td>\n",
       "      <td>0.04</td>\n",
       "      <td>0.44</td>\n",
       "      <td>0.19</td>\n",
       "    </tr>\n",
       "    <tr>\n",
       "      <th>6</th>\n",
       "      <td>bow</td>\n",
       "      <td>ngram(1,2)</td>\n",
       "      <td>hinge</td>\n",
       "      <td>0.01</td>\n",
       "      <td>0.3</td>\n",
       "      <td>0.11</td>\n",
       "      <td>0.055</td>\n",
       "      <td>0.36</td>\n",
       "      <td>0.26</td>\n",
       "    </tr>\n",
       "    <tr>\n",
       "      <th>7</th>\n",
       "      <td>bow</td>\n",
       "      <td>ngram(1,2)</td>\n",
       "      <td>log-reg</td>\n",
       "      <td>0.01</td>\n",
       "      <td>0.29</td>\n",
       "      <td>0.11</td>\n",
       "      <td>0.05</td>\n",
       "      <td>0.34</td>\n",
       "      <td>0.25</td>\n",
       "    </tr>\n",
       "    <tr>\n",
       "      <th>8</th>\n",
       "      <td>bow</td>\n",
       "      <td>ngram(1,3)</td>\n",
       "      <td>hinge</td>\n",
       "      <td>0.01</td>\n",
       "      <td>0.3</td>\n",
       "      <td>0.11</td>\n",
       "      <td>0.05</td>\n",
       "      <td>0.35</td>\n",
       "      <td>0.27</td>\n",
       "    </tr>\n",
       "    <tr>\n",
       "      <th>9</th>\n",
       "      <td>bow</td>\n",
       "      <td>ngram(1,3)</td>\n",
       "      <td>log-reg</td>\n",
       "      <td>0.001</td>\n",
       "      <td>0.29</td>\n",
       "      <td>0.11</td>\n",
       "      <td>0.05</td>\n",
       "      <td>0.3</td>\n",
       "      <td>0.29</td>\n",
       "    </tr>\n",
       "  </tbody>\n",
       "</table>\n",
       "</div>"
      ],
      "text/plain": [
       "  encoding       ngram    model  alpha microf1 macrof1 ham-loss precision  \\\n",
       "0      bow     unigram  log-reg   0.01     0.3     0.1     0.04      0.41   \n",
       "1      bow     unigram      svm   0.01     0.3    0.11     0.05      0.36   \n",
       "2      bow      bigram  log-reg  0.001   0.298   0.124     0.05      0.29   \n",
       "3      bow      bigram      svm  0.001   0.295    0.13     0.05      0.30   \n",
       "4      bow     trigram  log-reg  0.001    0.23    0.05     0.04      0.55   \n",
       "5      bow    triigram    hinge   0.01    0.27    0.08     0.04      0.44   \n",
       "6      bow  ngram(1,2)    hinge   0.01     0.3    0.11    0.055      0.36   \n",
       "7      bow  ngram(1,2)  log-reg   0.01    0.29    0.11     0.05      0.34   \n",
       "8      bow  ngram(1,3)    hinge   0.01     0.3    0.11     0.05      0.35   \n",
       "9      bow  ngram(1,3)  log-reg  0.001    0.29    0.11     0.05       0.3   \n",
       "\n",
       "  recall  \n",
       "0   0.24  \n",
       "1   0.26  \n",
       "2   0.29  \n",
       "3   0.28  \n",
       "4   0.15  \n",
       "5   0.19  \n",
       "6   0.26  \n",
       "7   0.25  \n",
       "8   0.27  \n",
       "9   0.29  "
      ]
     },
     "execution_count": 8,
     "metadata": {},
     "output_type": "execute_result"
    }
   ],
   "source": [
    "s=[['bow','unigram','log-reg','0.01','0.3','0.1','0.04','0.41','0.24'],['bow','unigram','svm','0.01','0.3','0.11','0.05','0.36','0.26'],['bow','bigram','log-reg','0.001','0.298','0.124','0.05','0.29','0.29'],['bow','bigram','svm','0.001','0.295','0.13','0.05','0.30','0.28'],['bow','trigram','log-reg','0.001','0.23','0.05','0.04','0.55','0.15'],['bow','triigram','hinge','0.01','0.27','0.08','0.04','0.44','0.19'],['bow','ngram(1,2)','hinge','0.01','0.3','0.11','0.055','0.36','0.26'],['bow','ngram(1,2)','log-reg','0.01','0.29','0.11','0.05','0.34','0.25'],['bow','ngram(1,3)','hinge','0.01','0.3','0.11','0.05','0.35','0.27'],['bow','ngram(1,3)','log-reg','0.001','0.29','0.11','0.05','0.3','0.29']]\n",
    "s1=np.array(s)\n",
    "s2=s1.T\n",
    "x=pd.DataFrame(s,columns=['encoding','ngram','model','alpha','microf1','macrof1','ham-loss','precision','recall'])\n",
    "x"
   ]
  },
  {
   "cell_type": "code",
   "execution_count": 10,
   "metadata": {
    "colab": {},
    "colab_type": "code",
    "id": "p0kRldlVtpsg",
    "outputId": "c77065c7-6ecb-4ced-d409-49bb13231a80"
   },
   "outputs": [
    {
     "data": {
      "text/html": [
       "<div>\n",
       "<style scoped>\n",
       "    .dataframe tbody tr th:only-of-type {\n",
       "        vertical-align: middle;\n",
       "    }\n",
       "\n",
       "    .dataframe tbody tr th {\n",
       "        vertical-align: top;\n",
       "    }\n",
       "\n",
       "    .dataframe thead th {\n",
       "        text-align: right;\n",
       "    }\n",
       "</style>\n",
       "<table border=\"1\" class=\"dataframe\">\n",
       "  <thead>\n",
       "    <tr style=\"text-align: right;\">\n",
       "      <th></th>\n",
       "      <th>encoding</th>\n",
       "      <th>ngram</th>\n",
       "      <th>model</th>\n",
       "      <th>alpha</th>\n",
       "      <th>microf1</th>\n",
       "      <th>macrof1</th>\n",
       "      <th>ham-loss</th>\n",
       "      <th>precision</th>\n",
       "      <th>recall</th>\n",
       "    </tr>\n",
       "  </thead>\n",
       "  <tbody>\n",
       "    <tr>\n",
       "      <th>0</th>\n",
       "      <td>tfidf</td>\n",
       "      <td>unigram</td>\n",
       "      <td>log-reg</td>\n",
       "      <td>100</td>\n",
       "      <td>0.3</td>\n",
       "      <td>0.06</td>\n",
       "      <td>0.18</td>\n",
       "      <td>0.27</td>\n",
       "      <td>0.35</td>\n",
       "    </tr>\n",
       "    <tr>\n",
       "      <th>1</th>\n",
       "      <td>tfidf</td>\n",
       "      <td>unigram</td>\n",
       "      <td>svm</td>\n",
       "      <td>100</td>\n",
       "      <td>0.32</td>\n",
       "      <td>0.06</td>\n",
       "      <td>0.17</td>\n",
       "      <td>0.28</td>\n",
       "      <td>0.37</td>\n",
       "    </tr>\n",
       "    <tr>\n",
       "      <th>2</th>\n",
       "      <td>tfidf</td>\n",
       "      <td>bigram</td>\n",
       "      <td>svm</td>\n",
       "      <td>100</td>\n",
       "      <td>0.31</td>\n",
       "      <td>0.09</td>\n",
       "      <td>0.25</td>\n",
       "      <td>0.22</td>\n",
       "      <td>0.49</td>\n",
       "    </tr>\n",
       "    <tr>\n",
       "      <th>3</th>\n",
       "      <td>tfidf</td>\n",
       "      <td>bigram</td>\n",
       "      <td>log-reg</td>\n",
       "      <td>1000</td>\n",
       "      <td>0.3</td>\n",
       "      <td>0.1</td>\n",
       "      <td>0.28</td>\n",
       "      <td>0.21</td>\n",
       "      <td>0.55</td>\n",
       "    </tr>\n",
       "    <tr>\n",
       "      <th>4</th>\n",
       "      <td>tfidf</td>\n",
       "      <td>trigram</td>\n",
       "      <td>log-reg</td>\n",
       "      <td>100</td>\n",
       "      <td>0.32</td>\n",
       "      <td>0.1</td>\n",
       "      <td>0.28</td>\n",
       "      <td>0.22</td>\n",
       "      <td>0.57</td>\n",
       "    </tr>\n",
       "    <tr>\n",
       "      <th>5</th>\n",
       "      <td>tfidf</td>\n",
       "      <td>triigram</td>\n",
       "      <td>hinge</td>\n",
       "      <td>100</td>\n",
       "      <td>0.3</td>\n",
       "      <td>0.06</td>\n",
       "      <td>0.18</td>\n",
       "      <td>0.27</td>\n",
       "      <td>0.35</td>\n",
       "    </tr>\n",
       "    <tr>\n",
       "      <th>6</th>\n",
       "      <td>tfidf</td>\n",
       "      <td>ngram(1,2)</td>\n",
       "      <td>hinge</td>\n",
       "      <td>100</td>\n",
       "      <td>0.34</td>\n",
       "      <td>0.09</td>\n",
       "      <td>0.23</td>\n",
       "      <td>0.25</td>\n",
       "      <td>0.54</td>\n",
       "    </tr>\n",
       "    <tr>\n",
       "      <th>7</th>\n",
       "      <td>tfidf</td>\n",
       "      <td>ngram(1,2)</td>\n",
       "      <td>log-reg</td>\n",
       "      <td>100</td>\n",
       "      <td>0.26</td>\n",
       "      <td>0.07</td>\n",
       "      <td>0.26</td>\n",
       "      <td>0.18</td>\n",
       "      <td>0.41</td>\n",
       "    </tr>\n",
       "    <tr>\n",
       "      <th>8</th>\n",
       "      <td>tfidf</td>\n",
       "      <td>ngram(1,3)</td>\n",
       "      <td>hinge</td>\n",
       "      <td>0.3</td>\n",
       "      <td>0.3</td>\n",
       "      <td>0.11</td>\n",
       "      <td>0.05</td>\n",
       "      <td>0.35</td>\n",
       "      <td>0.27</td>\n",
       "    </tr>\n",
       "    <tr>\n",
       "      <th>9</th>\n",
       "      <td>tfidf</td>\n",
       "      <td>ngram(1,3)</td>\n",
       "      <td>log-reg</td>\n",
       "      <td>0.001</td>\n",
       "      <td>0.31</td>\n",
       "      <td>0.07</td>\n",
       "      <td>0.21</td>\n",
       "      <td>0.24</td>\n",
       "      <td>0.43</td>\n",
       "    </tr>\n",
       "    <tr>\n",
       "      <th>10</th>\n",
       "      <td>tfidf</td>\n",
       "      <td>ngram(1,3)</td>\n",
       "      <td>log-reg</td>\n",
       "      <td>1000</td>\n",
       "      <td>0.31</td>\n",
       "      <td>0.08</td>\n",
       "      <td>0.25</td>\n",
       "      <td>0.22</td>\n",
       "      <td>0.5</td>\n",
       "    </tr>\n",
       "  </tbody>\n",
       "</table>\n",
       "</div>"
      ],
      "text/plain": [
       "   encoding       ngram    model  alpha microf1 macrof1 ham-loss precision  \\\n",
       "0     tfidf     unigram  log-reg    100     0.3    0.06     0.18      0.27   \n",
       "1     tfidf     unigram      svm    100    0.32    0.06     0.17      0.28   \n",
       "2     tfidf      bigram      svm    100    0.31    0.09     0.25      0.22   \n",
       "3     tfidf      bigram  log-reg   1000     0.3     0.1     0.28      0.21   \n",
       "4     tfidf     trigram  log-reg    100    0.32     0.1     0.28      0.22   \n",
       "5     tfidf    triigram    hinge    100     0.3    0.06     0.18      0.27   \n",
       "6     tfidf  ngram(1,2)    hinge    100    0.34    0.09     0.23      0.25   \n",
       "7     tfidf  ngram(1,2)  log-reg    100    0.26    0.07     0.26      0.18   \n",
       "8     tfidf  ngram(1,3)    hinge    0.3     0.3    0.11     0.05      0.35   \n",
       "9     tfidf  ngram(1,3)  log-reg  0.001    0.31    0.07     0.21      0.24   \n",
       "10    tfidf  ngram(1,3)  log-reg   1000    0.31    0.08     0.25      0.22   \n",
       "\n",
       "   recall  \n",
       "0    0.35  \n",
       "1    0.37  \n",
       "2    0.49  \n",
       "3    0.55  \n",
       "4    0.57  \n",
       "5    0.35  \n",
       "6    0.54  \n",
       "7    0.41  \n",
       "8    0.27  \n",
       "9    0.43  \n",
       "10    0.5  "
      ]
     },
     "execution_count": 10,
     "metadata": {},
     "output_type": "execute_result"
    }
   ],
   "source": [
    "s=[['tfidf','unigram','log-reg','100','0.3','0.06','0.18','0.27','0.35'],['tfidf','unigram','svm','100','0.32','0.06','0.17','0.28','0.37'],['tfidf','bigram','svm','100','0.31','0.09','0.25','0.22','0.49'],['tfidf','bigram','log-reg','1000','0.3','0.1','0.28','0.21','0.55'],['tfidf','trigram','log-reg','100','0.32','0.1','0.28','0.22','0.57'],['tfidf','triigram','hinge','100','0.3','0.06','0.18','0.27','0.35'],['tfidf','ngram(1,2)','hinge','100','0.34','0.09','0.23','0.25','0.54'],['tfidf','ngram(1,2)','log-reg','100','0.26','0.07','0.26','0.18','0.41'],['tfidf','ngram(1,3)','hinge','0.3','0.3','0.11','0.05','0.35','0.27'],['tfidf','ngram(1,3)','log-reg','0.001','0.31','0.07','0.21','0.24','0.43'],['tfidf','ngram(1,3)','log-reg','1000','0.31','0.08','0.25','0.22','0.5']]\n",
    "s1=np.array(s)\n",
    "s2=s1.T\n",
    "x=pd.DataFrame(s,columns=['encoding','ngram','model','alpha','microf1','macrof1','ham-loss','precision','recall'])\n",
    "x"
   ]
  },
  {
   "cell_type": "code",
   "execution_count": 18,
   "metadata": {
    "colab": {},
    "colab_type": "code",
    "id": "lMcn5dkltpsi",
    "outputId": "e21bad45-caaf-443e-addd-4fe4613ac1a6"
   },
   "outputs": [
    {
     "data": {
      "text/html": [
       "<div>\n",
       "<style scoped>\n",
       "    .dataframe tbody tr th:only-of-type {\n",
       "        vertical-align: middle;\n",
       "    }\n",
       "\n",
       "    .dataframe tbody tr th {\n",
       "        vertical-align: top;\n",
       "    }\n",
       "\n",
       "    .dataframe thead th {\n",
       "        text-align: right;\n",
       "    }\n",
       "</style>\n",
       "<table border=\"1\" class=\"dataframe\">\n",
       "  <thead>\n",
       "    <tr style=\"text-align: right;\">\n",
       "      <th></th>\n",
       "      <th>encoding</th>\n",
       "      <th>hyperparameter</th>\n",
       "      <th>model</th>\n",
       "      <th>microf1</th>\n",
       "      <th>macrof1</th>\n",
       "      <th>ham-loss</th>\n",
       "      <th>precision</th>\n",
       "      <th>recall</th>\n",
       "    </tr>\n",
       "  </thead>\n",
       "  <tbody>\n",
       "    <tr>\n",
       "      <th>0</th>\n",
       "      <td>word2vec</td>\n",
       "      <td>1000</td>\n",
       "      <td>svm</td>\n",
       "      <td>0.34</td>\n",
       "      <td>0.079</td>\n",
       "      <td>0.2</td>\n",
       "      <td>0.29</td>\n",
       "      <td>0.4</td>\n",
       "    </tr>\n",
       "    <tr>\n",
       "      <th>1</th>\n",
       "      <td>word2vec</td>\n",
       "      <td>100</td>\n",
       "      <td>log-reg.</td>\n",
       "      <td>0.33</td>\n",
       "      <td>0.079</td>\n",
       "      <td>0.2</td>\n",
       "      <td>0.28</td>\n",
       "      <td>0.4</td>\n",
       "    </tr>\n",
       "    <tr>\n",
       "      <th>2</th>\n",
       "      <td>tfidf-word2vec</td>\n",
       "      <td>100</td>\n",
       "      <td>svm</td>\n",
       "      <td>0.35</td>\n",
       "      <td>0.1</td>\n",
       "      <td>0.24</td>\n",
       "      <td>0.34</td>\n",
       "      <td>0.37</td>\n",
       "    </tr>\n",
       "    <tr>\n",
       "      <th>3</th>\n",
       "      <td>tfidf-word2vec</td>\n",
       "      <td>100</td>\n",
       "      <td>log-reg.</td>\n",
       "      <td>0.34</td>\n",
       "      <td>0.18</td>\n",
       "      <td>0.44</td>\n",
       "      <td>0.23</td>\n",
       "      <td>0.64</td>\n",
       "    </tr>\n",
       "    <tr>\n",
       "      <th>4</th>\n",
       "      <td>nltk-parts of sppech(bow unigram)</td>\n",
       "      <td>100</td>\n",
       "      <td>log.reg.</td>\n",
       "      <td>0.365</td>\n",
       "      <td>0.3</td>\n",
       "      <td>0.228</td>\n",
       "      <td>0.37</td>\n",
       "      <td>0.36</td>\n",
       "    </tr>\n",
       "    <tr>\n",
       "      <th>5</th>\n",
       "      <td>nltk-parts of sppech(bow trigram)</td>\n",
       "      <td>0.001</td>\n",
       "      <td>log.reg.</td>\n",
       "      <td>0.37</td>\n",
       "      <td>0.3</td>\n",
       "      <td>0.228</td>\n",
       "      <td>0.37</td>\n",
       "      <td>0.37</td>\n",
       "    </tr>\n",
       "    <tr>\n",
       "      <th>6</th>\n",
       "      <td>nltk-parts of sppech(tfidf unigram)</td>\n",
       "      <td>0.01</td>\n",
       "      <td>log.reg.</td>\n",
       "      <td>0.356</td>\n",
       "      <td>0.28</td>\n",
       "      <td>0.21</td>\n",
       "      <td>0.39</td>\n",
       "      <td>0.32</td>\n",
       "    </tr>\n",
       "    <tr>\n",
       "      <th>7</th>\n",
       "      <td>nltk-parts of sppech(tfidf trigram)</td>\n",
       "      <td>0.001</td>\n",
       "      <td>log.reg.</td>\n",
       "      <td>0.37</td>\n",
       "      <td>0.3</td>\n",
       "      <td>0.23</td>\n",
       "      <td>0.37</td>\n",
       "      <td>0.36</td>\n",
       "    </tr>\n",
       "    <tr>\n",
       "      <th>8</th>\n",
       "      <td>google word2vec</td>\n",
       "      <td>100</td>\n",
       "      <td>log.reg.</td>\n",
       "      <td>0.31</td>\n",
       "      <td>0.08</td>\n",
       "      <td>0.26</td>\n",
       "      <td>0.29</td>\n",
       "      <td>0.32</td>\n",
       "    </tr>\n",
       "    <tr>\n",
       "      <th>9</th>\n",
       "      <td>google word2vec</td>\n",
       "      <td>10</td>\n",
       "      <td>svm</td>\n",
       "      <td>0.35</td>\n",
       "      <td>0.1</td>\n",
       "      <td>0.24</td>\n",
       "      <td>0.34</td>\n",
       "      <td>0.37</td>\n",
       "    </tr>\n",
       "    <tr>\n",
       "      <th>10</th>\n",
       "      <td>nltk-parts of sppech+glove model</td>\n",
       "      <td>1000</td>\n",
       "      <td>log.reg.</td>\n",
       "      <td>0.41</td>\n",
       "      <td>0.13</td>\n",
       "      <td>0.32</td>\n",
       "      <td>0.37</td>\n",
       "      <td>0.36</td>\n",
       "    </tr>\n",
       "    <tr>\n",
       "      <th>11</th>\n",
       "      <td>nltk-parts of sppech+glove model</td>\n",
       "      <td>100</td>\n",
       "      <td>svm</td>\n",
       "      <td>0.44</td>\n",
       "      <td>0.25</td>\n",
       "      <td>0.42</td>\n",
       "      <td>0.33</td>\n",
       "      <td>0.63</td>\n",
       "    </tr>\n",
       "  </tbody>\n",
       "</table>\n",
       "</div>"
      ],
      "text/plain": [
       "                               encoding hyperparameter     model microf1  \\\n",
       "0                              word2vec           1000       svm    0.34   \n",
       "1                              word2vec            100  log-reg.    0.33   \n",
       "2                        tfidf-word2vec            100       svm    0.35   \n",
       "3                        tfidf-word2vec            100  log-reg.    0.34   \n",
       "4     nltk-parts of sppech(bow unigram)            100  log.reg.   0.365   \n",
       "5     nltk-parts of sppech(bow trigram)          0.001  log.reg.    0.37   \n",
       "6   nltk-parts of sppech(tfidf unigram)           0.01  log.reg.   0.356   \n",
       "7   nltk-parts of sppech(tfidf trigram)          0.001  log.reg.    0.37   \n",
       "8                       google word2vec            100  log.reg.    0.31   \n",
       "9                       google word2vec             10       svm    0.35   \n",
       "10     nltk-parts of sppech+glove model           1000  log.reg.    0.41   \n",
       "11     nltk-parts of sppech+glove model            100       svm    0.44   \n",
       "\n",
       "   macrof1 ham-loss precision recall  \n",
       "0    0.079      0.2      0.29    0.4  \n",
       "1    0.079      0.2      0.28    0.4  \n",
       "2      0.1     0.24      0.34   0.37  \n",
       "3     0.18     0.44      0.23   0.64  \n",
       "4      0.3    0.228      0.37   0.36  \n",
       "5      0.3    0.228      0.37   0.37  \n",
       "6     0.28     0.21      0.39   0.32  \n",
       "7      0.3     0.23      0.37   0.36  \n",
       "8     0.08     0.26      0.29   0.32  \n",
       "9      0.1     0.24      0.34   0.37  \n",
       "10    0.13     0.32      0.37   0.36  \n",
       "11    0.25     0.42      0.33   0.63  "
      ]
     },
     "execution_count": 18,
     "metadata": {},
     "output_type": "execute_result"
    }
   ],
   "source": [
    "s=[['word2vec','1000','svm','0.34','0.079','0.2','0.29','0.4'],['word2vec','100','log-reg.','0.33','0.079','0.2','0.28','0.4'],['tfidf-word2vec','100','svm','0.35','0.1','0.24','0.34','0.37'],['tfidf-word2vec','100','log-reg.','0.34','0.18','0.44','0.23','0.64'],['nltk-parts of sppech(bow unigram)','100','log.reg.','0.365','0.3','0.228','0.37','0.36'],['nltk-parts of sppech(bow trigram)','0.001','log.reg.','0.37','0.3','0.228','0.37','0.37'],['nltk-parts of sppech(tfidf unigram)','0.01','log.reg.','0.356','0.28','0.21','0.39','0.32'],['nltk-parts of sppech(tfidf trigram)','0.001','log.reg.','0.37','0.3','0.23','0.37','0.36'],['google word2vec','100','log.reg.','0.31','0.08','0.26','0.29','0.32'],['google word2vec','10','svm','0.35','0.1','0.24','0.34','0.37'],['nltk-parts of sppech+glove model','1000','log.reg.','0.41','0.13','0.32','0.37','0.36'],['nltk-parts of sppech+glove model','100','svm','0.44','0.25','0.42','0.33','0.63']]\n",
    "x=pd.DataFrame(s,columns=['encoding','hyperparameter','model','microf1','macrof1','ham-loss','precision','recall'])\n",
    "x"
   ]
  },
  {
   "cell_type": "markdown",
   "metadata": {
    "colab_type": "text",
    "id": "2_Fx6djvtps-"
   },
   "source": [
    "### keytakeaways documentation and conclusions:-\n",
    "\n",
    "\n",
    "\n",
    "#### In movie plot synopses with tags we perfrom the tagging of the movies based on the meta data ,visual and emotional experiences. we are provided with the ids,imdbid,title of the movie,plot of the movie anfd tags of them.\n",
    "\n",
    "#### we have to predict the genre which it belongs to.we have done the exploratory data analysis on the data and performed the feature extraction methods\n",
    "\n",
    "#### We have seen that wikipedia dominates imdb as the source of data. Then we plotted no of tags per movie.  The most frequent tags were violence, murder, flashback, romantic, cult etc.Then we tried to clean the data, plot_synopsis.\n",
    "\n",
    "#### WE HAVE VISULISED SHARPRISE TILL 10 TAGS WHICH COVERS 12000 MOVIES OF 14000.\n",
    "\n",
    "\n",
    "#### we have plotted the box plot and observations are 10 tags are frequently occuring and five tags are more frequently occuring.\n",
    "\n",
    "#### we have plotted the tags based on their occurence.we have plotted the box plot and violin plot for the occurences of tags.we have done the data preprocessing for the plotsynopses of the movies and extractred text out of it. \n",
    "\n",
    "#### IN VIOLIN PLOT WE OBSERVED THE PROBABILITY OF DISTRIBUTION OF TAGS. WE HAVE PREPROCESSED THE PLOT OF THE MOVIES.WE ONBTAINED THE FEATURES BASED IN THE PLOT OF THE MOVIES ENCODED IN BAGOF WORDS,TFIDF,WORD2VEC, AND AVERAGE WORD2VEC AS OUR BASELINE MODELS.\n",
    "\n",
    "#### WE CONSIDERD F1SCORE,PRECISION,RECALL AS THE PERFORMANCE MEASURES FOR THE MULTILABEL CLSSIFICATION AND APPLIED MODELS LIKE LOGISTIC REGRESSION AND SVM.WE HAVE USED LOGISTIC REGRESSION AND SVM WITH ONEVSREST CLASSIFIER SINCE IT IS A MULTILABEL CLASSIFICATION TECHNIQUE.\n",
    "\n",
    "#### THE PERFORMANCE MEASURES OF FEATURE MODELS ARE SHOWN BELOW. WE HAVE VECTORISED PLOT IN UNIGRAMS,BIGRAMS,TRIGRAMS,NGRAMS OVER THE PLOT TO EMPLOY INTO MODELS. \n",
    "\n",
    "\n",
    "\n",
    "#### we have done the analysis using the unigrams bigrams and trigrams and ngramswith all the 71 features of data and obtained the performances.this is atype of multi label classification we used f1 score as the scoring perfomance technique while performing thre random search.f1 score is the harmonic mean of precsion and recall. f1-score ahs two types which is f1 micro score and f1 macro score.\n",
    "\n",
    "\n",
    "\n",
    "\n",
    "**In micro-averaging all TPs, TNs, FPs and FNs for each class are summed up and then the average is taken.\n",
    "\n",
    "**In micro-averaging method, you sum up the individual true positives, false positives, and false negatives of the system for different sets and the apply them. And the micro-average F1-Score will be simply the harmonic mean of above two equations.\n",
    "\n",
    "\n",
    "\n",
    "\n",
    "#### we have used our performance measures as f1-score,precsion,recall,hamming loss to our models.\n",
    "\n",
    "\n",
    "\n",
    "#### AS A PART OF FEATURE ENGINEERING WE EMPLOYED TECHNIQUES LIKE\n",
    "\n",
    "##### * NLTK PARTS OF SPEECH\n",
    "##### * MERGIING THE FEATURES OF TITLE AND PLOT OF THE MOVIE.\n",
    "##### * GLOVE MODELS + NLTK PARTS OF SPEECH.\n",
    "\n",
    "#### WE CAN ALSO PERFORM THE ELMO MODELS IF WE HAVE MORE COMPUTATIONAL POWER.\n",
    "\n",
    "#### WE HAVE ALSO PERFORMED GOOGLE WORD2VEC AND OBTAINED THE MODELS PERFORMANCE.\n",
    "\n",
    "#### IN NLTK PARTS OF SPEECH EXTRACTION FROM THE PLOT WE EXTRACTED TYHE IMPORTANT WORDS WHICH ARE VERBS ,NOUNS,ADJECTIVES,ADVERBS ETC....,\n",
    "\n",
    "#### THIS WAY WE CAN REMOVE THE UNNECESSARY DATA IN THE PLOT. WE HAVE ALSO EMPLOYED GLOVE MODELS GLOBAL VECTORIZATION. WE HAVE OBTAINED F1 SCORE 0.44 USING GLOBALVECTORIZATION ON FEATURES THAT ARE EXTRACTED FROM THE PARTS OF SPEECH.\n",
    "\n",
    "#### WE HAVE OBTAINED THE F1SCORE OF 0.3 AND ABOVE FOR THE ENCODING TECHNIQUES.  USING THE FEATURE ENGINEERD MODEL WITH NLTKPARTS OF SPEECH+ GLOVE WE HAVE OBTAINED THE F1SCORES OF 0.41 AND 0.41 ON LOGISTIC REGRESSION AND SVM MODELS.\n",
    "\n"
   ]
  },
  {
   "cell_type": "code",
   "execution_count": null,
   "metadata": {},
   "outputs": [],
   "source": []
  }
 ],
 "metadata": {
  "colab": {
   "collapsed_sections": [
    "mcbYcak0tpqd",
    "UtCJu9Citpq0",
    "quZgfuJktprl",
    "-ug9wViBtprs",
    "pLu11gCctpsc",
    "S_HVztW_tpsd",
    "kX-2di8mtpsh",
    "FsZF0Llxtpsn",
    "2_Fx6djvtps-",
    "vZzVFytPtps-"
   ],
   "name": "mpst-movie-plot-synopses-with-tags_FINALL.ipynb",
   "provenance": [],
   "version": "0.3.2"
  },
  "kernelspec": {
   "display_name": "Python 3",
   "language": "python",
   "name": "python3"
  },
  "language_info": {
   "codemirror_mode": {
    "name": "ipython",
    "version": 3
   },
   "file_extension": ".py",
   "mimetype": "text/x-python",
   "name": "python",
   "nbconvert_exporter": "python",
   "pygments_lexer": "ipython3",
   "version": "3.6.2"
  }
 },
 "nbformat": 4,
 "nbformat_minor": 1
}
